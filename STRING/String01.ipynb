{
 "cells": [
  {
   "cell_type": "markdown",
   "id": "e9b3fddc-2a19-444e-a9be-88e25ae7530c",
   "metadata": {},
   "source": [
    "#### Author : Vaishnav Krishna P\n",
    "vyshnavkrishnap2020@gmail.com"
   ]
  },
  {
   "cell_type": "markdown",
   "id": "da8c86ca-40bd-4cf0-bcbc-2d05cd353434",
   "metadata": {},
   "source": [
    "### 1 ROMAN TO INTEGER\n",
    "- https://leetcode.com/problems/roman-to-integer/description/?envType=problem-list-v2&envId=string"
   ]
  },
  {
   "cell_type": "markdown",
   "id": "afd969b8-df84-423e-a78e-49558c618084",
   "metadata": {},
   "source": [
    "- Roman numerals are represented by seven different symbols: I, V, X, L, C, D and M.\n",
    "\n",
    "- Symbol       Value\n",
    "- I             1\n",
    "- V             5\n",
    "- X             10\n",
    "- L             50\n",
    "- C             100\n",
    "- D             500\n",
    "- M             1000\n",
    "- For example, 2 is written as II in Roman numeral, just two ones added together. 12 is written as XII, which is simply X + II. The number 27 is written as XXVII, which is XX + V + II.\n",
    "\n",
    "- Roman numerals are usually written largest to smallest from left to right. However, the numeral for four is not IIII. Instead, the number four is written as IV. Because the one is before the five we subtract it making four. The same principle applies to the number nine, which is written as IX. There are six instances where subtraction is used:\n",
    "\n",
    "- I can be placed before V (5) and X (10) to make 4 and 9. \n",
    "- X can be placed before L (50) and C (100) to make 40 and 90. \n",
    "- C can be placed before D (500) and M (1000) to make 400 and 900.\n",
    "Given a roman numeral, convert it to an integer."
   ]
  },
  {
   "cell_type": "code",
   "execution_count": 1,
   "id": "b0fa77eb-beb6-4ddd-8366-be02f1ecce6e",
   "metadata": {},
   "outputs": [],
   "source": [
    "def romanToInt(s):\n",
    "        # Algorithm : if the charector is not last & Value of charector is less than the next subtract else add \n",
    "        roman_to_int = {\n",
    "            \"I\":1,\n",
    "            \"V\":5,\n",
    "            \"X\":10,\n",
    "            \"L\":50,\n",
    "            \"C\":100,\n",
    "            \"D\":500,\n",
    "            \"M\":1000\n",
    "        }\n",
    "        total = 0\n",
    "\n",
    "        for i in range(len(s)): # T O(n)\n",
    "            if i < len(s)-1 and roman_to_int[s[i]] < roman_to_int[s[i+1]]:\n",
    "                total -= roman_to_int[s[i]]\n",
    "            else:\n",
    "                total += roman_to_int[s[i]]\n",
    "        return total"
   ]
  },
  {
   "cell_type": "markdown",
   "id": "07f402bb-d3dd-4a21-8bf9-0f506e1c1087",
   "metadata": {},
   "source": [
    "- Time complexcity : O(n)\n",
    "- Space complexcity : O(1)"
   ]
  },
  {
   "cell_type": "markdown",
   "id": "edd77aac-7bfd-43af-96c2-85c61ba3d75d",
   "metadata": {},
   "source": [
    "### 2 LONGEST COMMON PREFIX\n",
    "- https://leetcode.com/problems/longest-common-prefix/?envType=problem-list-v2&envId=string"
   ]
  },
  {
   "cell_type": "markdown",
   "id": "8c3b727a-413c-4eee-b16f-a3813d01a0d9",
   "metadata": {},
   "source": [
    "- Write a function to find the longest common prefix string amongst an array of strings.\n",
    "\n",
    "- If there is no common prefix, return an empty string \"\".\n",
    "\n",
    "##### Example 1:\n",
    "\n",
    "- Input: strs = [\"flower\",\"flow\",\"flight\"]\n",
    "- Output: \"fl\""
   ]
  },
  {
   "cell_type": "code",
   "execution_count": 4,
   "id": "7aa99486-5fb0-4dab-9bb9-83b88adfa875",
   "metadata": {},
   "outputs": [],
   "source": [
    "def longestCommonPrefix(strs):\n",
    "        '''\n",
    "        Algorithms \n",
    "        Step 1: if there is no sting in the list return empty string\n",
    "        Step 2: take a word as a reference from string, compare column wise\n",
    "        Step 3: if mismatch is found or string ends stop\n",
    "        Step 4: return the prefix\n",
    "        '''\n",
    "        prefix = \"\"\n",
    "        if strs is None:\n",
    "            return prefix\n",
    "    \n",
    "        first_string = strs[0]\n",
    "\n",
    "        for i in range(len(first_string)): # T O(m * n) - > m(shotest string), n(no of string)\n",
    "            char = first_string[i]\n",
    "\n",
    "            for s in strs:\n",
    "                if i >= len(s) or s[i] != char:\n",
    "                    return prefix\n",
    "            prefix += char\n",
    "        return prefix"
   ]
  },
  {
   "cell_type": "markdown",
   "id": "a7e6453e-688a-4fe7-9415-97319f247184",
   "metadata": {},
   "source": [
    "- Time complexcity : O(m * n) - > m(shotest string), n(no of string)\n",
    "- Space complexcity : O(1)"
   ]
  },
  {
   "cell_type": "markdown",
   "id": "10cea066-e856-4701-9ae5-26674722b2b1",
   "metadata": {},
   "source": [
    "### 3 VALID PARANTHESIS\n",
    "- https://leetcode.com/problems/valid-parentheses/description/?envType=problem-list-v2&envId=string"
   ]
  },
  {
   "cell_type": "markdown",
   "id": "637ebb41-2353-41dd-9fa4-bfcc45343143",
   "metadata": {},
   "source": [
    "- Given a string s containing just the characters '(', ')', '{', '}', '[' and ']', determine if the input string is valid.An input string is valid if:\n",
    "\n",
    "- Open brackets must be closed by the same type of brackets.\n",
    "- Open brackets must be closed in the correct order.\n",
    "- Every close bracket has a corresponding open bracket of the same type.\n",
    "\n",
    "##### Example 1:\n",
    "\n",
    "Input: s = \"()\"\n",
    "\n",
    "Output: true"
   ]
  },
  {
   "cell_type": "code",
   "execution_count": 6,
   "id": "034caffc-98d9-4cb4-9926-429ce700bc85",
   "metadata": {},
   "outputs": [],
   "source": [
    "def isValid(s):\n",
    "        '''\n",
    "        Algorithm (stack)\n",
    "        Step 1 : use the stack datastructure to keep track of open brackets\n",
    "        Step 2 : for each charector in the string \n",
    "            step 2.1 : if there is opening brackets push it into stack\n",
    "            step 2.2 : if closing bracket, compare with top of the stack if not matches return False\n",
    "        Step 3 : Return true if stack is empty else False\n",
    "        '''\n",
    "\n",
    "        stack = []\n",
    "        hash_map = {\n",
    "            \"(\":\")\",\n",
    "            \"{\":\"}\",\n",
    "            \"[\":']',\n",
    "            \"#\":\"#\"\n",
    "        }\n",
    "\n",
    "        for char in s:\n",
    "            if char in hash_map:\n",
    "                stack.append(char)\n",
    "            else:\n",
    "                top = stack.pop() if stack else \"#\" # to avoid exception\n",
    "                if hash_map[top] != char:\n",
    "                    return False\n",
    "        return True if stack == [] else False"
   ]
  },
  {
   "cell_type": "markdown",
   "id": "34aebf2b-c303-4f5e-93b1-75e72d47e2c0",
   "metadata": {},
   "source": [
    "- Time complexcity : O(n)\n",
    "- Space complexcity : O(1)"
   ]
  },
  {
   "cell_type": "markdown",
   "id": "3106000e-7574-4469-abb1-2b99c3ea92e4",
   "metadata": {},
   "source": [
    "### 4 FIND THE INDEX OF FIRST OCCURENCE OF STRING\n",
    "- https://leetcode.com/problems/find-the-index-of-the-first-occurrence-in-a-string/description/?envType=problem-list-v2&envId=string"
   ]
  },
  {
   "cell_type": "markdown",
   "id": "2be8d550-d1fe-422f-8661-25be1385394a",
   "metadata": {},
   "source": [
    "- Given two strings needle and haystack, return the index of the first occurrence of needle in haystack, or -1 if needle is not part of haystack.\n",
    "\n",
    "    ##### Example 1:\n",
    "\n",
    "- Input: haystack = \"sadbutsad\", needle = \"sad\"\n",
    "- Output: 0\n",
    "- Explanation: \"sad\" occurs at index 0 and 6.\n",
    "The first occurrence is at index 0, so we return 0."
   ]
  },
  {
   "cell_type": "code",
   "execution_count": 1,
   "id": "861b57e6-80ab-4d19-8a63-9aa602112754",
   "metadata": {},
   "outputs": [],
   "source": [
    "def strStr(haystack, needle):\n",
    "        m = len(haystack)\n",
    "        n = len(needle)\n",
    "\n",
    "        # Edge case : if empty string\n",
    "        if n == 0:\n",
    "                return 0\n",
    "\n",
    "        for i in range(m-n+1):\n",
    "            j = 0\n",
    "            while j < n and haystack[i+j] == needle[j]:\n",
    "                j += 1\n",
    "            if j == n:\n",
    "                return i\n",
    "        return -1"
   ]
  },
  {
   "cell_type": "markdown",
   "id": "2c527c8d-9e4c-4d47-b004-5eb6ff0b5f64",
   "metadata": {},
   "source": [
    "- Time complexcity : O(m-n)\n",
    "- Space complexcity : O(1)"
   ]
  },
  {
   "cell_type": "markdown",
   "id": "83795022-dd2c-4ca0-a20e-752024888fcf",
   "metadata": {},
   "source": [
    "### 5 LENGTH OF LAST WORD\n",
    "- https://leetcode.com/problems/length-of-last-word/description/?envType=problem-list-v2&envId=string"
   ]
  },
  {
   "cell_type": "markdown",
   "id": "ab2b0675-c716-42bc-acf4-3e951b8fed55",
   "metadata": {},
   "source": [
    "- Given a string s consisting of words and spaces, return the length of the last word in the string.\n",
    "\n",
    "A word is a maximal substring consisting of non-space characters only.\n",
    "\n",
    "##### Example 01\n",
    "- Input: s = \"Hello World\"\n",
    "- Output: 5\n",
    "- Explanation: The last word is \"World\" with length 5."
   ]
  },
  {
   "cell_type": "code",
   "execution_count": 2,
   "id": "477e5111-02a6-4880-b369-0028491935ba",
   "metadata": {},
   "outputs": [],
   "source": [
    "def lengthOfLastWord(s):\n",
    "        # Step 1 : trim the string, to avaoid the leading and ending white spaces\n",
    "        s = s.strip()\n",
    "\n",
    "        # Step 2 : Traverse from the end till space comes\n",
    "        count = 0\n",
    "\n",
    "        for i in range(len(s)-1, -1, -1):\n",
    "            if s[i] == ' ':\n",
    "                break\n",
    "            else:\n",
    "                count += 1\n",
    "        return count"
   ]
  }
 ],
 "metadata": {
  "kernelspec": {
   "display_name": "Python 3 (ipykernel)",
   "language": "python",
   "name": "python3"
  },
  "language_info": {
   "codemirror_mode": {
    "name": "ipython",
    "version": 3
   },
   "file_extension": ".py",
   "mimetype": "text/x-python",
   "name": "python",
   "nbconvert_exporter": "python",
   "pygments_lexer": "ipython3",
   "version": "3.13.5"
  }
 },
 "nbformat": 4,
 "nbformat_minor": 5
}
