{
 "cells": [
  {
   "cell_type": "markdown",
   "id": "b7c39ffb-355c-4615-b5c3-7f2038fa98bb",
   "metadata": {},
   "source": [
    "### Author: Vaishnav Krishna P \n",
    "#### vyshnavkrishnap2020@gmail.com"
   ]
  },
  {
   "cell_type": "markdown",
   "id": "b5d49960-92b7-4942-bc33-3706d327fd56",
   "metadata": {},
   "source": [
    "### 11 MAJORITY ELEMENT\n",
    "\n",
    "- https://leetcode.com/problems/majority-element/description/?envType=problem-list-v2&envId=array"
   ]
  },
  {
   "cell_type": "markdown",
   "id": "8440decc-208f-4445-8aa1-47060df544a5",
   "metadata": {},
   "source": [
    "##### QUESTION 12\n",
    "\n",
    "- Given an array nums of size n, return the majority element.\n",
    "\n",
    "- The majority element is the element that appears more than ⌊n / 2⌋ times. You may assume that the majority element always exists in the array.\n",
    "\n",
    "##### Example 1:\n",
    "\n",
    "- Input: nums = [3,2,3]\n",
    "- Output: 3\n",
    "##### Example 2:\n",
    "\n",
    "- Input: nums = [2,2,1,1,1,2,2]\n",
    "- Output: 2"
   ]
  },
  {
   "cell_type": "code",
   "execution_count": 4,
   "id": "b5b82b5e-1ca4-4697-858e-ec98939b0df0",
   "metadata": {},
   "outputs": [],
   "source": [
    "# using the normal methods \n",
    "def majority_element(nums):\n",
    "    for num in nums:\n",
    "        if nums.count(num) > int(len(nums)/2):\n",
    "            return num\n",
    "    return -1"
   ]
  },
  {
   "cell_type": "code",
   "execution_count": 6,
   "id": "667dbefa-c5bb-4d9a-b3fb-72b7b3559faf",
   "metadata": {},
   "outputs": [
    {
     "data": {
      "text/plain": [
       "2"
      ]
     },
     "execution_count": 6,
     "metadata": {},
     "output_type": "execute_result"
    }
   ],
   "source": [
    "majority_element(nums = [2,2,1,1,1,2,2])"
   ]
  },
  {
   "cell_type": "code",
   "execution_count": 8,
   "id": "bac5b95d-8ce7-42e8-ad22-9c470a451ea9",
   "metadata": {},
   "outputs": [
    {
     "data": {
      "text/plain": [
       "3"
      ]
     },
     "execution_count": 8,
     "metadata": {},
     "output_type": "execute_result"
    }
   ],
   "source": [
    "majority_element(nums = [3,2,3])"
   ]
  },
  {
   "cell_type": "markdown",
   "id": "88373d5b-23f0-4ef0-ab75-d4aabe8da42b",
   "metadata": {},
   "source": [
    "- Time complexcity : O(n2)\n",
    "- Space complexcity : O(1)"
   ]
  },
  {
   "cell_type": "code",
   "execution_count": 17,
   "id": "6214a023-9788-401c-930b-f4ce6ad290e4",
   "metadata": {},
   "outputs": [],
   "source": [
    "# using moores votting algorithm \n",
    "def majority_element2(nums):\n",
    "    vote = 1\n",
    "    maj_element = nums[0]\n",
    "\n",
    "    for i in range(1, len(nums)):\n",
    "        # if vote is 0, then change the majority element \n",
    "        if vote == 0:\n",
    "            maj_element = nums[i]\n",
    "        \n",
    "        # if vote != 0, then increment/decrement the vote based on the presence\n",
    "        if nums[i] == maj_element:\n",
    "            vote += 1\n",
    "        else:\n",
    "            vote -= 1\n",
    "    return maj_element"
   ]
  },
  {
   "cell_type": "code",
   "execution_count": 19,
   "id": "1dcd222c-66c1-4a41-85a6-868355d760b5",
   "metadata": {},
   "outputs": [
    {
     "data": {
      "text/plain": [
       "2"
      ]
     },
     "execution_count": 19,
     "metadata": {},
     "output_type": "execute_result"
    }
   ],
   "source": [
    "majority_element2(nums = [2,2,1,1,1,2,2])"
   ]
  },
  {
   "cell_type": "code",
   "execution_count": 21,
   "id": "247bbf3d-b641-44e9-b7e9-ef490b03e56b",
   "metadata": {},
   "outputs": [
    {
     "data": {
      "text/plain": [
       "3"
      ]
     },
     "execution_count": 21,
     "metadata": {},
     "output_type": "execute_result"
    }
   ],
   "source": [
    "majority_element2(nums = [3,2,3])"
   ]
  },
  {
   "cell_type": "markdown",
   "id": "49ee8454-5fe4-44a7-8d8d-034e0ec5e34a",
   "metadata": {},
   "source": [
    "- Time complexcity : O(n)\n",
    "- Space complexcity : O(1)"
   ]
  },
  {
   "cell_type": "markdown",
   "id": "405f52ba-ba62-42e0-af76-786c471a4fe2",
   "metadata": {},
   "source": [
    "### 12 CONTAINS DUPLICATE\n",
    "\n",
    "https://leetcode.com/problems/contains-duplicate/description/?envType=problem-list-v2&envId=array"
   ]
  },
  {
   "cell_type": "markdown",
   "id": "5fbcde13-9d39-4349-bf76-86fa6312e63d",
   "metadata": {},
   "source": [
    "##### Example 1:\n",
    "\n",
    "- Input: nums = [1,2,3,1]\n",
    "\n",
    "- Output: true\n",
    "\n",
    "- Explanation:\n",
    "\n",
    "The element 1 occurs at the indices 0 and 3.\n",
    "\n",
    "##### Example 2:\n",
    "\n",
    "- Input: nums = [1,2,3,4]\n",
    "\n",
    "- Output: false\n",
    "\n",
    "- Explanation:\n",
    "\n",
    "All elements are distinct.\n",
    "\n",
    "##### Example 3:\n",
    "\n",
    "- Input: nums = [1,1,1,3,3,4,3,2,4,2]\n",
    "\n",
    "- Output: true"
   ]
  },
  {
   "cell_type": "code",
   "execution_count": 32,
   "id": "4962edfb-9e0d-4829-b682-b0cdf72eca87",
   "metadata": {},
   "outputs": [],
   "source": [
    "def contain_duplicates(nums):\n",
    "    unique_elements = []\n",
    "\n",
    "    for i in range(len(nums)):\n",
    "        if nums[i] in unique_elements:\n",
    "            return True\n",
    "        else:\n",
    "            unique_elements.append(nums[i])\n",
    "    return False"
   ]
  },
  {
   "cell_type": "code",
   "execution_count": 34,
   "id": "1548cdd2-15ed-42e8-8744-424b79f581e0",
   "metadata": {},
   "outputs": [
    {
     "data": {
      "text/plain": [
       "True"
      ]
     },
     "execution_count": 34,
     "metadata": {},
     "output_type": "execute_result"
    }
   ],
   "source": [
    "contain_duplicates(nums = [1,1,1,3,3,4,3,2,4,2])"
   ]
  },
  {
   "cell_type": "code",
   "execution_count": 36,
   "id": "af4cc210-2e0e-4c65-91e9-34e1110e59e8",
   "metadata": {},
   "outputs": [
    {
     "data": {
      "text/plain": [
       "False"
      ]
     },
     "execution_count": 36,
     "metadata": {},
     "output_type": "execute_result"
    }
   ],
   "source": [
    "contain_duplicates(nums = [1,2,3,4])"
   ]
  },
  {
   "cell_type": "markdown",
   "id": "7cd03c5b-b4d2-4269-8639-0b4a8da1a943",
   "metadata": {},
   "source": [
    "- Time complexcity : O(n)\n",
    "- Space complexcity: O(n)"
   ]
  },
  {
   "cell_type": "code",
   "execution_count": 65,
   "id": "aa7fd8c8-3b0e-43b7-afbe-80a08087e64d",
   "metadata": {},
   "outputs": [],
   "source": [
    "# Not taking extra space, but high time complexcity \n",
    "def contain_duplicates2(nums):\n",
    "    for i in range(len(nums)):\n",
    "        for j in range(i+1, len(nums)):\n",
    "            if nums[i] == nums[j] and i != j:\n",
    "                return True\n",
    "    return False"
   ]
  },
  {
   "cell_type": "code",
   "execution_count": 67,
   "id": "5110257e-62fa-4812-937b-f766e6a467df",
   "metadata": {},
   "outputs": [
    {
     "data": {
      "text/plain": [
       "True"
      ]
     },
     "execution_count": 67,
     "metadata": {},
     "output_type": "execute_result"
    }
   ],
   "source": [
    "contain_duplicates2(nums = [1,1,1,3,3,4,3,2,4,2])"
   ]
  },
  {
   "cell_type": "code",
   "execution_count": 69,
   "id": "a1e60dad-598c-4553-acec-8fb3bd5d2495",
   "metadata": {},
   "outputs": [
    {
     "data": {
      "text/plain": [
       "False"
      ]
     },
     "execution_count": 69,
     "metadata": {},
     "output_type": "execute_result"
    }
   ],
   "source": [
    "contain_duplicates2(nums = [1,2,3,4])"
   ]
  },
  {
   "cell_type": "markdown",
   "id": "67ed0e64-5752-42df-818d-b8c747cca293",
   "metadata": {},
   "source": [
    "- Time complexcity : O(n2)\n",
    "- Space complexcity: O(1)"
   ]
  },
  {
   "cell_type": "code",
   "execution_count": 74,
   "id": "ddb207dd-5818-470c-9a30-67a38fe594a6",
   "metadata": {},
   "outputs": [],
   "source": [
    "# using hashset for improve the time complexcity \n",
    "def contain_duplicates3(nums):\n",
    "    hash_set = set()\n",
    "\n",
    "    for i in range(len(nums)):\n",
    "        if nums[i] in hash_set:\n",
    "            return True\n",
    "        else:\n",
    "            hash_set.add(nums[i])\n",
    "    return False"
   ]
  },
  {
   "cell_type": "code",
   "execution_count": 77,
   "id": "6487a7d2-e1af-438f-9bc2-1a20ed75d3cd",
   "metadata": {},
   "outputs": [
    {
     "data": {
      "text/plain": [
       "False"
      ]
     },
     "execution_count": 77,
     "metadata": {},
     "output_type": "execute_result"
    }
   ],
   "source": [
    "contain_duplicates3(nums = [1,2,3,4])"
   ]
  },
  {
   "cell_type": "code",
   "execution_count": 79,
   "id": "875ee920-787d-4639-aa56-83fde66ff937",
   "metadata": {},
   "outputs": [
    {
     "data": {
      "text/plain": [
       "True"
      ]
     },
     "execution_count": 79,
     "metadata": {},
     "output_type": "execute_result"
    }
   ],
   "source": [
    "contain_duplicates3(nums = [1,1,1,3,3,4,3,2,4,2])"
   ]
  },
  {
   "cell_type": "markdown",
   "id": "a999f4a2-761d-4dfc-be02-0dcde2dfd85a",
   "metadata": {},
   "source": [
    "### 13 MISSING NUMBER\n",
    "- https://leetcode.com/problems/missing-number/description/?envType=problem-list-v2&envId=array"
   ]
  },
  {
   "cell_type": "markdown",
   "id": "efcac8ee-aa2e-4bf7-ab20-463122452185",
   "metadata": {},
   "source": [
    "\n",
    "- Given an array nums containing n distinct numbers in the range [0, n], return the only number in the range that is missing from the array.\n",
    "##### Example 1\n",
    "\n",
    "- Input: nums = [3,0,1]\n",
    "\n",
    "- Output: 2\n",
    "\n",
    "- Explanation:\n",
    "\n",
    "n = 3 since there are 3 numbers, so all numbers are in the range [0,3]. 2 is the missing number in the range since it does not appear in nums.\n",
    "\n",
    "##### Example 2:\n",
    "\n",
    "- Input: nums = [0,1]\n",
    "\n",
    "- Output: 2\n",
    "\n",
    "- Explanation:\n",
    "\n",
    "n = 2 since there are 2 numbers, so all numbers are in the range [0,2]. 2 is the missing number in the range since it does not appear in nums."
   ]
  },
  {
   "cell_type": "code",
   "execution_count": 9,
   "id": "42bd7f23-f8f3-47af-a580-8c81fc49b549",
   "metadata": {},
   "outputs": [],
   "source": [
    "def missing_number(nums):\n",
    "    # find the maximum of elements \n",
    "    highest_element = 0\n",
    "    for num in nums:\n",
    "        if num > highest_element:\n",
    "            highest_element = num \n",
    "\n",
    "    # checking the condition \n",
    "    if highest_element + 1 == len(nums):\n",
    "        return highest_element + 1\n",
    "    else:\n",
    "        for i in range(highest_element):\n",
    "            if i not in nums:\n",
    "                return i"
   ]
  },
  {
   "cell_type": "code",
   "execution_count": 11,
   "id": "dfb432b2-e413-46ac-aa45-169532c26d79",
   "metadata": {},
   "outputs": [
    {
     "data": {
      "text/plain": [
       "2"
      ]
     },
     "execution_count": 11,
     "metadata": {},
     "output_type": "execute_result"
    }
   ],
   "source": [
    "missing_number(nums = [0,1])"
   ]
  },
  {
   "cell_type": "code",
   "execution_count": 15,
   "id": "b1275163-a524-4c56-aaeb-92ed03f6a7a2",
   "metadata": {},
   "outputs": [
    {
     "data": {
      "text/plain": [
       "2"
      ]
     },
     "execution_count": 15,
     "metadata": {},
     "output_type": "execute_result"
    }
   ],
   "source": [
    "missing_number(nums = [4,0,1,3])"
   ]
  },
  {
   "cell_type": "markdown",
   "id": "c4641e03-8b24-4a50-9aa3-6da70790cf28",
   "metadata": {},
   "source": [
    "- Time complexcity : O(2n)\n",
    "- Space complexcity : O(1)"
   ]
  },
  {
   "cell_type": "markdown",
   "id": "a8f3f3e0-911e-4333-960f-b63967f0f110",
   "metadata": {},
   "source": [
    "### 14 MOVE ZEROS\n",
    "- https://leetcode.com/problems/move-zeroes/description/?envType=problem-list-v2&envId=array"
   ]
  },
  {
   "cell_type": "markdown",
   "id": "b7600110-e7b3-4045-9893-47ed4587f325",
   "metadata": {},
   "source": [
    "- Given an integer array nums, move all 0's to the end of it while maintaining the relative order of the non-zero elements.\n",
    "\n",
    "Note that you must do this in-place without making a copy of the array.\n",
    "\n",
    "##### Example 1:\n",
    "\n",
    "- Input: nums = [0,1,0,3,12]\n",
    "- Output: [1,3,12,0,0]\n",
    "##### Example 2:\n",
    "\n",
    "- Input: nums = [0]\n",
    "- Output: [0]"
   ]
  },
  {
   "cell_type": "code",
   "execution_count": 26,
   "id": "f155400d-5b74-423e-a625-d33936c678b9",
   "metadata": {},
   "outputs": [],
   "source": [
    "def move_zeros(nums):\n",
    "    # Replacing the zeros \n",
    "    ptr = -1 \n",
    "    no_zeros = 0\n",
    "    \n",
    "    for i in range(len(nums)):\n",
    "        if nums[i] != 0:\n",
    "            ptr += 1\n",
    "            nums[ptr] = nums[i]\n",
    "        else:\n",
    "            no_zeros += 1\n",
    "\n",
    "    # placing zeros at the end \n",
    "    j = len(nums) - 1\n",
    "    \n",
    "    while(no_zeros > 0):\n",
    "        nums[j] = 0\n",
    "        j -= 1\n",
    "        no_zeros -= 1\n",
    "    print(nums)"
   ]
  },
  {
   "cell_type": "code",
   "execution_count": 28,
   "id": "42f3dbdb-a10e-4956-ad91-1cf4eb7010d3",
   "metadata": {},
   "outputs": [
    {
     "name": "stdout",
     "output_type": "stream",
     "text": [
      "[1, 3, 12, 0, 0]\n"
     ]
    }
   ],
   "source": [
    "move_zeros(nums = [0,1,0,3,12])"
   ]
  },
  {
   "cell_type": "code",
   "execution_count": 30,
   "id": "10383f24-5db5-473a-8bb7-d90ebbc2e480",
   "metadata": {},
   "outputs": [
    {
     "name": "stdout",
     "output_type": "stream",
     "text": [
      "[0]\n"
     ]
    }
   ],
   "source": [
    "move_zeros([0])"
   ]
  },
  {
   "cell_type": "markdown",
   "id": "70685c6d-75b1-4b4d-915e-6753b3c94d44",
   "metadata": {},
   "source": [
    "- Time complexcity : O(n)\n",
    "- Space complexcity : O(1)"
   ]
  },
  {
   "cell_type": "markdown",
   "id": "17c6dad2-afbb-4799-b32d-f3058de49316",
   "metadata": {},
   "source": [
    "### 15 INTERSECTION OF 2 ARRAYS\n",
    "- https://leetcode.com/problems/intersection-of-two-arrays/?envType=problem-list-v2&envId=array"
   ]
  },
  {
   "cell_type": "markdown",
   "id": "25b363eb-b9d7-4b5c-81df-a2785dda6f4f",
   "metadata": {},
   "source": [
    "##### QUESTION 19\n",
    "\n",
    "Given two integer arrays nums1 and nums2, return an array of their intersection. Each element in the result must be unique and you may return the result in any order.\n",
    "##### Example 1:\n",
    "\n",
    "- Input: nums1 = [1,2,2,1], nums2 = [2,2]\n",
    "- Output: [2]\n",
    "##### Example 2:\n",
    "\n",
    "- Input: nums1 = [4,9,5], nums2 = [9,4,9,8,4]\n",
    "- Output: [9,4]\n",
    "- Explanation: [4,9] is also accepted."
   ]
  },
  {
   "cell_type": "code",
   "execution_count": 37,
   "id": "de0697bd-81f6-4243-b465-06970b238aa6",
   "metadata": {},
   "outputs": [],
   "source": [
    "def intesection_arrays(nums1, nums2):\n",
    "    # List to store the intersection\n",
    "    intersection = []\n",
    "    \n",
    "    for i in range(len(nums1)):\n",
    "        if nums1[i] in nums2 and nums1[i] not in intersection:\n",
    "            intersection.append(nums1[i])\n",
    "    return intersection"
   ]
  },
  {
   "cell_type": "code",
   "execution_count": 39,
   "id": "93665fad-5645-4ff0-8512-1da6caa76384",
   "metadata": {},
   "outputs": [
    {
     "data": {
      "text/plain": [
       "[4, 9]"
      ]
     },
     "execution_count": 39,
     "metadata": {},
     "output_type": "execute_result"
    }
   ],
   "source": [
    "intesection_arrays(nums1 = [4,9,5], nums2 = [9,4,9,8,4])"
   ]
  },
  {
   "cell_type": "code",
   "execution_count": 41,
   "id": "13382dc3-d53e-48ff-aa01-46024d90afc8",
   "metadata": {},
   "outputs": [
    {
     "data": {
      "text/plain": [
       "[2]"
      ]
     },
     "execution_count": 41,
     "metadata": {},
     "output_type": "execute_result"
    }
   ],
   "source": [
    "intesection_arrays(nums1 = [1,2,2,1], nums2 = [2,2])"
   ]
  },
  {
   "cell_type": "markdown",
   "id": "cea718de-bc85-4da2-b93b-e6b737f1b89e",
   "metadata": {},
   "source": [
    "- Time complexcity : O(min(len(nums1), len(nums2)))\n",
    "- Space complexcity : O(min(len(nums1), len(nums2))"
   ]
  }
 ],
 "metadata": {
  "kernelspec": {
   "display_name": "Python [conda env:anaconda3] *",
   "language": "python",
   "name": "conda-env-anaconda3-py"
  },
  "language_info": {
   "codemirror_mode": {
    "name": "ipython",
    "version": 3
   },
   "file_extension": ".py",
   "mimetype": "text/x-python",
   "name": "python",
   "nbconvert_exporter": "python",
   "pygments_lexer": "ipython3",
   "version": "3.12.7"
  }
 },
 "nbformat": 4,
 "nbformat_minor": 5
}
