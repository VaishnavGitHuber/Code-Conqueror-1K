{
 "cells": [
  {
   "cell_type": "markdown",
   "id": "de2bb546-00cb-4f4b-94d8-3abfd32e46d4",
   "metadata": {},
   "source": [
    "### MISSING NUMBER(REVISE)\n",
    "- https://leetcode.com/problems/missing-number/submissions/1762346447/"
   ]
  },
  {
   "cell_type": "markdown",
   "id": "f126d13d-8657-4468-b8bc-acb5e0daacd9",
   "metadata": {},
   "source": [
    "- Given an array nums containing n distinct numbers in the range [0, n], return the only number in the range that is missing from the array.\n",
    "##### Example 1:\n",
    "\n",
    "- Input: nums = [3,0,1]\n",
    "\n",
    "- Output: 2\n",
    "\n",
    "- Explanation:\n",
    "\n",
    "n = 3 since there are 3 numbers, so all numbers are in the range [0,3]. 2 is the missing number in the range since it does not appear in nums."
   ]
  },
  {
   "cell_type": "code",
   "execution_count": 11,
   "id": "0cc0dd83-18c0-4a5f-8094-3b27a5fd8858",
   "metadata": {},
   "outputs": [],
   "source": [
    "# Brute force apprach : using the double loop\n",
    "def missingNumber(nums):\n",
    "        # Define the position n\n",
    "        n = len(nums) + 1\n",
    "\n",
    "        # iterting loops \n",
    "        for i in range(n):\n",
    "            flag = 0\n",
    "            for j in range(n-1):\n",
    "                if nums[j] == i:\n",
    "                    flag = 1\n",
    "                    break\n",
    "            if flag == 0:\n",
    "                return i"
   ]
  },
  {
   "cell_type": "markdown",
   "id": "a87cb5de-e824-40cb-8aa7-dfa612cdc184",
   "metadata": {},
   "source": [
    "- Time complexcity : O(n2)\n",
    "- Space complexcity : O(1)    "
   ]
  },
  {
   "cell_type": "code",
   "execution_count": 9,
   "id": "a93fe6a7-e037-4c26-a89f-16ee8fac5cdd",
   "metadata": {},
   "outputs": [],
   "source": [
    "# Better approach : using the hash map\n",
    "def missingNumber(nums):\n",
    "        nums = set(nums) # O(n)\n",
    "        n = len(nums) + 1\n",
    "        \n",
    "        for i in range(n): # O(n)\n",
    "            if i not in nums: # O(1)\n",
    "                return i"
   ]
  },
  {
   "cell_type": "markdown",
   "id": "03a1dba6-0b3b-498c-8d03-2cb173e30312",
   "metadata": {},
   "source": [
    "- Time complexcity : O(2n)\n",
    "- Space complexcity : O(n)    "
   ]
  },
  {
   "cell_type": "code",
   "execution_count": 15,
   "id": "e6979b89-ff01-4878-8734-1329e089144d",
   "metadata": {},
   "outputs": [],
   "source": [
    "# Optimal approach : using the sum of n formula\n",
    "def missingNumber(nums):\n",
    "        # fund the number of elements \n",
    "        n = len(nums) \n",
    "        org_sum = (n * (n+1))// 2\n",
    "        cal_sum = 0\n",
    "\n",
    "        for num in nums:\n",
    "            cal_sum += num\n",
    "        return org_sum - cal_sum"
   ]
  },
  {
   "cell_type": "markdown",
   "id": "a6b35872-b6d8-4868-b5a3-00ef511cb19a",
   "metadata": {},
   "source": [
    "- Time complexcity : O(n)\n",
    "- Space complexcity : O(1)    "
   ]
  },
  {
   "cell_type": "markdown",
   "id": "d850ca71-dddd-45a3-bab0-8c1ccea55fc3",
   "metadata": {},
   "source": [
    "### 21 MAXIMUM CONSICUTIVE ONE\n",
    "- https://leetcode.com/problems/max-consecutive-ones/"
   ]
  },
  {
   "cell_type": "markdown",
   "id": "287c0bd3-7e48-4122-9258-4357c59972fd",
   "metadata": {},
   "source": [
    "- Given a binary array nums, return the maximum number of consecutive 1's in the array.\n",
    "\n",
    " \n",
    "\n",
    "##### Example 1:\n",
    "\n",
    "- Input: nums = [1,1,0,1,1,1]\n",
    "- Output: 3\n",
    "- Explanation: The first two digits or the last three digits are consecutive 1s. The maximum number of consecutive 1s is 3."
   ]
  },
  {
   "cell_type": "code",
   "execution_count": 22,
   "id": "9ddb419d-f481-4f66-afe3-b3cea2953e92",
   "metadata": {},
   "outputs": [],
   "source": [
    "def findMaxConsecutiveOnes(nums):\n",
    "        count_1 = 0\n",
    "        max_count1 = 0\n",
    "\n",
    "        for i in range(len(nums)): # T O(n)\n",
    "            if nums[i] == 1:\n",
    "                count_1 += 1\n",
    "                max_count1 = max(count_1, max_count1) # T O(1)\n",
    "            else:\n",
    "                count_1 = 0\n",
    "        return max_count1"
   ]
  },
  {
   "cell_type": "markdown",
   "id": "92e69d98-de7e-4173-8fc4-3b30e79c59d0",
   "metadata": {},
   "source": [
    "- Time complexcity : O(n)\n",
    "- Space complexcity : O(1)"
   ]
  },
  {
   "cell_type": "markdown",
   "id": "59e9bd2c-37d5-4c99-98af-7eea3a101bcc",
   "metadata": {},
   "source": [
    "### SINGLE NUMBER(REVISE)\n",
    "- https://leetcode.com/problems/single-number/"
   ]
  },
  {
   "cell_type": "markdown",
   "id": "c84a60a6-6c14-460c-9370-df87ff26fefe",
   "metadata": {},
   "source": [
    "- Given a non-empty array of integers nums, every element appears twice except for one. Find that single one.\n",
    "\n",
    "- You must implement a solution with a linear runtime complexity and use only constant extra space.\n",
    "\n",
    "##### Example 1:\n",
    "\n",
    "- Input: nums = [2,2,1]\n",
    "\n",
    "- Output: 1"
   ]
  },
  {
   "cell_type": "code",
   "execution_count": 29,
   "id": "4cf488a5-9bdd-4b77-91f2-f5899d1c5ada",
   "metadata": {},
   "outputs": [],
   "source": [
    "# Brute force approach\n",
    "def singleNumber(nums):\n",
    "        # exceptional case \n",
    "        if len(nums) == 1:\n",
    "            return nums[0]\n",
    "        \n",
    "        for i in range(len(nums)): # O(n)\n",
    "            count = 0\n",
    "            for j in range(len(nums)): # O(n)\n",
    "                if nums[i] == nums[j]:\n",
    "                    count += 1\n",
    "            if count == 1:\n",
    "                return nums[i]"
   ]
  },
  {
   "cell_type": "markdown",
   "id": "7b5af22d-752f-4ae3-9314-c7a6fcff4b8b",
   "metadata": {},
   "source": [
    "##### Time limit exceeeding(Not accepted)\n",
    "- Time complexcity : O(n2)\n",
    "- Space complexcity : O(1)"
   ]
  },
  {
   "cell_type": "code",
   "execution_count": 35,
   "id": "6a60e2e0-7611-4e6e-91c1-7bb83e7703b7",
   "metadata": {},
   "outputs": [],
   "source": [
    "# Best approach \n",
    "def singleNumber(nums):\n",
    "        # Dictionary to store key value pair \n",
    "        dictionary = dict() # S O(n/2)\n",
    "\n",
    "        # Loop to keep track of the numbers\n",
    "        for i in range(len(nums)): # T O(n)\n",
    "            if nums[i] in dictionary:\n",
    "                dictionary[nums[i]] += 1\n",
    "            else:\n",
    "                dictionary[nums[i]] = 1\n",
    "            \n",
    "        # if any of the value is '1' return that number \n",
    "        for key in dictionary: # T O(n/2) \n",
    "            if dictionary[key] == 1:\n",
    "                return key"
   ]
  },
  {
   "cell_type": "markdown",
   "id": "bcfdc7da-688d-45c9-a072-ce201a250d1c",
   "metadata": {},
   "source": [
    "- Time complexcity : O(3n/2)\n",
    "- Space complexcity : O(n/2)"
   ]
  },
  {
   "cell_type": "markdown",
   "id": "fe6720af-3794-47e2-acd4-6d079537a374",
   "metadata": {},
   "source": [
    "### 22 LARGEST ELEMENT\n",
    "- https://www.geeksforgeeks.org/problems/largest-element-in-array4009/1"
   ]
  },
  {
   "cell_type": "code",
   "execution_count": 2,
   "id": "9afe9872-2a50-4ac4-9e8e-39c92a3c24e8",
   "metadata": {},
   "outputs": [],
   "source": [
    "def largest(arr):\n",
    "        if arr == []:\n",
    "            return -1\n",
    "        # brute force approach \n",
    "        largest = arr[0]\n",
    "        \n",
    "        for i in range(1, len(arr)):\n",
    "            if arr[i] > largest:\n",
    "                largest = arr[i]\n",
    "        return largest"
   ]
  },
  {
   "cell_type": "markdown",
   "id": "bd6164c1-2d64-4447-acee-757f581c406f",
   "metadata": {},
   "source": [
    "### 23 SECOND LARGEST ELEMENT\n",
    "- https://www.geeksforgeeks.org/problems/second-largest3735/1"
   ]
  },
  {
   "cell_type": "code",
   "execution_count": 3,
   "id": "469bdc65-34cd-4346-a92e-ea5c523b10a2",
   "metadata": {},
   "outputs": [],
   "source": [
    "def getSecondLargest(arr):\n",
    "        largest = arr[0]\n",
    "        second_largest = -1\n",
    "        \n",
    "        for i in range(1, len(arr)):\n",
    "            if arr[i] > largest:\n",
    "                second_largest = largest\n",
    "                largest = arr[i]\n",
    "            if arr[i] < largest and arr[i] > second_largest:\n",
    "                second_largest = arr[i]\n",
    "        return second_largest"
   ]
  },
  {
   "cell_type": "markdown",
   "id": "4c89be72-2f2d-4135-b1c1-1e2eb814ea68",
   "metadata": {},
   "source": [
    "### 24 CHECK IF ARRAY IS SORTED\n",
    "- https://www.geeksforgeeks.org/problems/check-if-an-array-is-sorted0701/1"
   ]
  },
  {
   "cell_type": "code",
   "execution_count": 4,
   "id": "e380ed73-af3d-43e8-a133-d7f4163f620e",
   "metadata": {},
   "outputs": [],
   "source": [
    "def isSorted(arr):\n",
    "        n = len(arr)\n",
    "        if n == 1:\n",
    "            return True\n",
    "        \n",
    "        for i in range(1, n):\n",
    "            if arr[i] < arr[i-1]:\n",
    "                return False\n",
    "        return True"
   ]
  },
  {
   "cell_type": "markdown",
   "id": "828b1018-8e03-4b74-8a01-a3587ebf4385",
   "metadata": {},
   "source": [
    "### 25 UNION OF 2 SORTED ARRAY\n",
    "- https://www.geeksforgeeks.org/problems/union-of-two-sorted-arrays-1587115621/1"
   ]
  },
  {
   "cell_type": "code",
   "execution_count": 1,
   "id": "8624b4ae-7c6b-4061-ba57-389f1527091e",
   "metadata": {},
   "outputs": [],
   "source": [
    "def findUnion(a, b):\n",
    "        union = ['dummy']\n",
    "        \n",
    "        i = j = 0\n",
    "        \n",
    "        while i < len(a) and j < len(b):\n",
    "            if a[i] <= b[j]:\n",
    "                if a[i] != union[-1]:\n",
    "                    union.append(a[i])\n",
    "                i += 1\n",
    "            else:\n",
    "                if b[j] != union[-1]:\n",
    "                    union.append(b[j])\n",
    "                j += 1\n",
    "                \n",
    "        while i < len(a):\n",
    "            if a[i] != union[-1]:\n",
    "                union.append(a[i])\n",
    "            i += 1\n",
    "            \n",
    "        while j <len(b):\n",
    "            if b[j] != union[-1]:\n",
    "                union.append(b[j])\n",
    "            j += 1\n",
    "            \n",
    "        union.pop(0)\n",
    "        return union"
   ]
  },
  {
   "cell_type": "markdown",
   "id": "af8bf7e4-3777-45c9-8fd7-52305789447b",
   "metadata": {},
   "source": [
    "- Time complexcity :O(m+n)\n",
    "- Space complexcity : O(m+n)"
   ]
  }
 ],
 "metadata": {
  "kernelspec": {
   "display_name": "Python 3 (ipykernel)",
   "language": "python",
   "name": "python3"
  },
  "language_info": {
   "codemirror_mode": {
    "name": "ipython",
    "version": 3
   },
   "file_extension": ".py",
   "mimetype": "text/x-python",
   "name": "python",
   "nbconvert_exporter": "python",
   "pygments_lexer": "ipython3",
   "version": "3.13.5"
  }
 },
 "nbformat": 4,
 "nbformat_minor": 5
}
