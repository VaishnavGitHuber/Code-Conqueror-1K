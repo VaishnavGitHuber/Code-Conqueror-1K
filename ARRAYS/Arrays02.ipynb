{
 "cells": [
  {
   "cell_type": "markdown",
   "id": "ff478731-92b5-4dc2-9fa9-a8fc84b2fba9",
   "metadata": {},
   "source": [
    "### Author : vaishnav Krishna P \n",
    "#### Email : vyshnavkrishnap2020@gmail.com\n",
    "##### CONCEPT : ARRAYS"
   ]
  },
  {
   "cell_type": "markdown",
   "id": "4468b51c-9898-4dc9-a6c2-54a39b3e5df2",
   "metadata": {},
   "source": [
    "### 6 MERGE THE SORTED ARRAY\n",
    "- https://leetcode.com/problems/merge-sorted-array/description/?envType=problem-list-v2&envId=array"
   ]
  },
  {
   "cell_type": "markdown",
   "id": "187d6fcf-2942-4ecb-90dd-da812d9de42d",
   "metadata": {},
   "source": [
    "##### QUESTION 6\n",
    "\n",
    "- You are given two integer arrays nums1 and nums2, sorted in non-decreasing order, and two integers m and n, representing the number of elements in nums1 and nums2 respectively.\n",
    "\n",
    "Merge nums1 and nums2 into a single array sorted in non-decreasing order.\n",
    "\n",
    "The final sorted array should not be returned by the function, but instead be stored inside the array nums1. To accommodate this, nums1 has a length of m + n, where the first m elements denote the elements that should be merged, and the last n elements are set to 0 and should be ignored. nums2 has a length of n.\n",
    "\n",
    "##### EXAMPLE 1\n",
    "\n",
    "- Input: nums1 = [1,2,3,0,0,0], m = 3, nums2 = [2,5,6], n = 3\n",
    "- Output: [1,2,2,3,5,6]\n",
    "- Explanation: The arrays we are merging are [1,2,3] and [2,5,6]. The result of the merge is [1,2,2,3,5,6] with the underlined elements coming from nums1.\n",
    "##### EXAMPLE 2\n",
    "\n",
    "- Input: nums1 = [1], m = 1, nums2 = [], n = 0\n",
    "- Output: [1]\n",
    "- Explanation: The arrays we are merging are [1] and []. The result of the merge is [1]."
   ]
  },
  {
   "cell_type": "code",
   "execution_count": 21,
   "id": "becb46a6-ec5f-445c-980f-c01d5fe20de5",
   "metadata": {},
   "outputs": [],
   "source": [
    "# function : merge the sorted array\n",
    "def merge_sorted_array(nums1,nums2,m,n):\n",
    "    # Keep the pointers at the end \n",
    "    k = m + n - 1\n",
    "    i = m - 1\n",
    "    j = n - 1\n",
    "\n",
    "    # Iterating till the j > 0 \n",
    "    while(j >= 0):\n",
    "        if nums1[i] >= nums2[j]:\n",
    "            nums1[k] = nums1[i]\n",
    "            k -= 1\n",
    "            i -= 1\n",
    "        else:\n",
    "            nums1[k] = nums2[j]\n",
    "            k -= 1\n",
    "            j -= 1\n",
    "    print(nums1)"
   ]
  },
  {
   "cell_type": "code",
   "execution_count": 23,
   "id": "ef91d212-d927-4318-bf3a-0bbdbe408be0",
   "metadata": {},
   "outputs": [
    {
     "name": "stdout",
     "output_type": "stream",
     "text": [
      "[1]\n"
     ]
    }
   ],
   "source": [
    "merge_sorted_array(nums1 = [0], m = 0, nums2 = [1], n = 1)"
   ]
  },
  {
   "cell_type": "code",
   "execution_count": 25,
   "id": "4834abac-b762-4dd4-b4c2-3ba6929aa873",
   "metadata": {},
   "outputs": [
    {
     "name": "stdout",
     "output_type": "stream",
     "text": [
      "[1, 2, 2, 3, 5, 6]\n"
     ]
    }
   ],
   "source": [
    "merge_sorted_array(nums1 = [1,2,3,0,0,0], m = 3, nums2 = [2,5,6], n = 3)"
   ]
  },
  {
   "cell_type": "markdown",
   "id": "b4c6d2a3-3660-4890-921a-13627dab550a",
   "metadata": {},
   "source": [
    "- Time complexcity : O(m + n)\n",
    "- Space complexcity : O(1)"
   ]
  },
  {
   "cell_type": "markdown",
   "id": "68c876b9-e92c-4265-bf1f-3e52434e0e84",
   "metadata": {},
   "source": [
    "### 7 PASCALS TRANGLE \n",
    "- https://leetcode.com/problems/pascals-triangle/description/?envType=problem-list-v2&envId=array"
   ]
  },
  {
   "cell_type": "markdown",
   "id": "5fdb4447-31a5-4468-93c4-8ffd97216258",
   "metadata": {},
   "source": [
    "##### QUESTION 8\n",
    "\n",
    "- Given an integer numRows, return the first numRows of Pascal's triangle.\n",
    "\n",
    "In Pascal's triangle, each number is the sum of the two numbers directly above it as shown:\n",
    "\n",
    "##### Example 1:\n",
    "\n",
    "- Input: numRows = 5\n",
    "- Output: [[1],[1,1],[1,2,1],[1,3,3,1],[1,4,6,4,1]]\n",
    "##### Example 2:\n",
    "\n",
    "- Input: numRows = 1\n",
    "- Output: [[1]]\n",
    "- Note:\n",
    "\n",
    "pascal's trangle is a trangular arrangement of numbers, that gives coefficent of binomial expansion.m"
   ]
  },
  {
   "cell_type": "code",
   "execution_count": 29,
   "id": "7e28bbfe-c729-4441-b169-bdc0cd77f63f",
   "metadata": {},
   "outputs": [],
   "source": [
    "# factorial of a number \n",
    "def factorial(n):\n",
    "    if n == 0:\n",
    "        return 1\n",
    "    return n * factorial(n-1)"
   ]
  },
  {
   "cell_type": "code",
   "execution_count": 37,
   "id": "bd94d6ba-a7bf-4835-bf78-036298cfacfa",
   "metadata": {},
   "outputs": [],
   "source": [
    "# ncr of a number \n",
    "def ncr(n,r):\n",
    "    return int(factorial(n) /( factorial(r) * factorial(n-r) ))"
   ]
  },
  {
   "cell_type": "code",
   "execution_count": 48,
   "id": "72b11612-f319-46ce-988e-dc97dc37ec94",
   "metadata": {},
   "outputs": [],
   "source": [
    "pascals_trangle = '''\n",
    "    0C0\n",
    "  1C0 1C1\n",
    "2C0 2C1 2C2 \n",
    "...........\n",
    "'''"
   ]
  },
  {
   "cell_type": "code",
   "execution_count": 74,
   "id": "5e8976fe-7d7e-4f38-9c3d-5a902737639d",
   "metadata": {},
   "outputs": [],
   "source": [
    "# funcrtion pascals trangle \n",
    "def pascals_trangle(numRows):\n",
    "    pascal_trangle_list = []\n",
    "    for row in range(numRows):\n",
    "        pascals_row = []\n",
    "        for i in range(row+1):\n",
    "            pascals_row.append(ncr(row, i))\n",
    "        pascal_trangle_list.append(pascals_row)\n",
    "    # printing \n",
    "    for row in pascal_trangle_list:\n",
    "        print(row)"
   ]
  },
  {
   "cell_type": "code",
   "execution_count": 76,
   "id": "4d390d11-adfb-4220-9699-b14af26f2ce2",
   "metadata": {},
   "outputs": [
    {
     "name": "stdout",
     "output_type": "stream",
     "text": [
      "[1]\n",
      "[1, 1]\n",
      "[1, 2, 1]\n",
      "[1, 3, 3, 1]\n",
      "[1, 4, 6, 4, 1]\n"
     ]
    }
   ],
   "source": [
    "pascals_trangle(5)"
   ]
  },
  {
   "cell_type": "markdown",
   "id": "421f49ad-7073-4fcb-8048-6f3ddbac960c",
   "metadata": {},
   "source": [
    "- Time complexcity : \n",
    "- Space complexcity : "
   ]
  },
  {
   "cell_type": "markdown",
   "id": "8e4be57d-6246-46cb-b8aa-c13eaa9e0b77",
   "metadata": {},
   "source": [
    "### 8 PASCALS TRANGLE 2\n",
    "- https://leetcode.com/problems/pascals-triangle-ii/description/?envType=problem-list-v2&envId=array"
   ]
  },
  {
   "cell_type": "markdown",
   "id": "ed4069a7-33ea-4f2d-874b-d9df08ca4393",
   "metadata": {},
   "source": [
    "##### QUESTION 9\n",
    "\n",
    "- Given an integer rowIndex, return the rowIndexth (0-indexed) row of the Pascal's triangle.\n",
    "\n",
    "In Pascal's triangle, each number is the sum of the two numbers directly above it as shown:\n",
    "\n",
    "##### Example 1:\n",
    "\n",
    "- Input: rowIndex = 3\n",
    "- Output: [1,3,3,1]\n",
    "##### Example 2:\n",
    "\n",
    "- Input: rowIndex = 0\n",
    "- Output: [1]\n",
    "##### Example 3:\n",
    "\n",
    "- Input: rowIndex = 1\n",
    "- Output: [1,1]"
   ]
  },
  {
   "cell_type": "code",
   "execution_count": 90,
   "id": "55c84b74-7c54-4b28-803f-f1f6f5e34bf7",
   "metadata": {},
   "outputs": [],
   "source": [
    "def pascals_trangle2(rowIndex):\n",
    "    pascals_row = []\n",
    "    for i in range(rowIndex+1):\n",
    "        pascals_row.append(ncr(rowIndex, i))\n",
    "    return pascals_row"
   ]
  },
  {
   "cell_type": "code",
   "execution_count": 96,
   "id": "a0dc92ec-a253-4e02-b45d-61ba689e9eb3",
   "metadata": {},
   "outputs": [
    {
     "data": {
      "text/plain": [
       "[1]"
      ]
     },
     "execution_count": 96,
     "metadata": {},
     "output_type": "execute_result"
    }
   ],
   "source": [
    "pascals_trangle2(0)"
   ]
  },
  {
   "cell_type": "markdown",
   "id": "bf99012d-f028-4a1f-add5-4021857241db",
   "metadata": {},
   "source": [
    "- Time complexcity : \n",
    "- Space complexcity : "
   ]
  },
  {
   "cell_type": "markdown",
   "id": "d2b1aba0-bfb9-4f9c-b0e6-cbcce1db91ca",
   "metadata": {},
   "source": [
    "### 9 BEST TIME TO BUY AND SELL STOCK \n",
    "- https://leetcode.com/problems/best-time-to-buy-and-sell-stock/description/?envType=problem-list-v2&envId=array"
   ]
  },
  {
   "cell_type": "markdown",
   "id": "1d686595-27df-4763-827e-b033f9cb8629",
   "metadata": {},
   "source": [
    "##### QUESTION 10\n",
    "\n",
    "- You are given an array prices where prices[i] is the price of a given stock on the ith day.\n",
    "\n",
    "You want to maximize your profit by choosing a single day to buy one stock and choosing a different day in the future to sell that stock.\n",
    "\n",
    "Return the maximum profit you can achieve from this transaction. If you cannot achieve any profit, return 0.\n",
    "\n",
    "##### Example 1:\n",
    "\n",
    "- Input: prices = [7,1,5,3,6,4]\n",
    "- Output: 5\n",
    "- Explanation: Buy on day 2 (price = 1) and sell on day 5 (price = 6), profit = 6-1 = 5. Note that buying on day 2 and selling on day 1 is not allowed because you must buy before you sell.\n",
    "##### Example 2:\n",
    "\n",
    "- Input: prices = [7,6,4,3,1]\n",
    "- Output: 0\n",
    "- Explanation: In this case, no transactions are done and the max profit = 0."
   ]
  },
  {
   "cell_type": "code",
   "execution_count": 9,
   "id": "fd66d73a-97e4-4b61-81b2-883cba9733e4",
   "metadata": {},
   "outputs": [],
   "source": [
    "# function : Best time to buy and sell stock \n",
    "def buy_sell_stock(prices):\n",
    "    max_profit = 0\n",
    "    \n",
    "    for i in range(len(prices)):\n",
    "        for j in range(i, len(prices)):\n",
    "            if (prices[j] - prices[i]) > max_profit:\n",
    "                max_profit = prices[j] - prices[i]\n",
    "    return max_profit"
   ]
  },
  {
   "cell_type": "code",
   "execution_count": 13,
   "id": "8cbe8ed9-dad6-4dbb-8a7d-e5b87ef2e887",
   "metadata": {},
   "outputs": [
    {
     "data": {
      "text/plain": [
       "5"
      ]
     },
     "execution_count": 13,
     "metadata": {},
     "output_type": "execute_result"
    }
   ],
   "source": [
    "buy_sell_stock(prices = [7,1,5,3,6,4])"
   ]
  },
  {
   "cell_type": "markdown",
   "id": "9419f260-8864-4112-a730-f25418fd555b",
   "metadata": {},
   "source": [
    "- Time complexcity : O(n2)\n",
    "- Space complexcity : O(1)"
   ]
  },
  {
   "cell_type": "code",
   "execution_count": 16,
   "id": "45bb180f-aae5-43b8-8a63-eb0aac1dd6f7",
   "metadata": {},
   "outputs": [],
   "source": [
    "# using the best appproach -> if you sell on ith day you have to purchase on the minimum cost till i-1th day \n",
    "def buy_sell_stock2(prices):\n",
    "    max_profit = 0\n",
    "    min_price_buy = prices[0]\n",
    "\n",
    "    # Itertation through elements \n",
    "    for i in range(1, len(prices)):\n",
    "        if prices[i] - min_price_buy > 0:\n",
    "            max_profit = max(max_profit, prices[i] - min_price_buy)\n",
    "        min_price_buy = min(min_price_buy, prices[i])\n",
    "    return max_profit"
   ]
  },
  {
   "cell_type": "code",
   "execution_count": 18,
   "id": "5a70b270-f48d-416c-ba05-4be1f475362c",
   "metadata": {},
   "outputs": [
    {
     "data": {
      "text/plain": [
       "5"
      ]
     },
     "execution_count": 18,
     "metadata": {},
     "output_type": "execute_result"
    }
   ],
   "source": [
    "buy_sell_stock(prices = [7,1,5,3,6,4])"
   ]
  },
  {
   "cell_type": "markdown",
   "id": "d7bc75c3-a26c-4c2c-b692-db2b5a4bf9b4",
   "metadata": {},
   "source": [
    "- Time complexcity : O(n)\n",
    "- Space complexcity : O(1)"
   ]
  },
  {
   "cell_type": "markdown",
   "id": "12e33eb3-bc7a-4d47-9be4-239d1375bf68",
   "metadata": {},
   "source": [
    "### 10 SINGLE NUMBER\n",
    "\n",
    "https://leetcode.com/problems/single-number/description/?envType=problem-list-v2&envId=array"
   ]
  },
  {
   "cell_type": "markdown",
   "id": "8cb0390e-9cfb-49ab-a400-2f35604f0197",
   "metadata": {},
   "source": [
    "##### QUESTION 11\n",
    "\n",
    "- Given a non-empty array of integers nums, every element appears twice except for one. Find that single one.\n",
    "\n",
    "You must implement a solution with a linear runtime complexity and use only constant extra space.\n",
    "\n",
    "##### Example 1:\n",
    "\n",
    "- Input: nums = [2,2,1]\n",
    "\n",
    "- Output: 1\n",
    "\n",
    "##### Example 2:\n",
    "\n",
    "- Input: nums = [4,1,2,1,2]\n",
    "\n",
    "- Output: 4\n",
    "\n",
    "##### Example 3:\n",
    "\n",
    "- Input: nums = [1]\n",
    "\n",
    "- Output: 1"
   ]
  },
  {
   "cell_type": "code",
   "execution_count": 23,
   "id": "56767ee0-e451-4d29-bdda-a98229828d42",
   "metadata": {},
   "outputs": [],
   "source": [
    "# Find the unique elements \n",
    "def find_unique(numbers):\n",
    "    unique_elements = []\n",
    "\n",
    "    for number in numbers:\n",
    "        if number not in unique_elements:\n",
    "            unique_elements.append(number)\n",
    "    return unique_elements\n",
    "\n",
    "# fucnction to count elements \n",
    "def count_elements(numbers, val):\n",
    "    count = 0\n",
    "\n",
    "    for number in numbers:\n",
    "        if number == val:\n",
    "            count += 1\n",
    "    return count"
   ]
  },
  {
   "cell_type": "code",
   "execution_count": 33,
   "id": "b469bc5f-11e1-47fa-b0d9-1589b37c0366",
   "metadata": {},
   "outputs": [],
   "source": [
    "# function for find the single number \n",
    "def single_number(nums):\n",
    "    for number in find_unique(nums):\n",
    "        if count_elements(nums, number) == 1:\n",
    "            return number"
   ]
  },
  {
   "cell_type": "code",
   "execution_count": 35,
   "id": "faa7076f-b637-4ca2-bc45-4c426097bbb8",
   "metadata": {},
   "outputs": [
    {
     "data": {
      "text/plain": [
       "1"
      ]
     },
     "execution_count": 35,
     "metadata": {},
     "output_type": "execute_result"
    }
   ],
   "source": [
    "single_number(nums = [2,2,1])"
   ]
  },
  {
   "cell_type": "code",
   "execution_count": 37,
   "id": "45d1f697-a663-470e-8db9-ee0a12b2de97",
   "metadata": {},
   "outputs": [
    {
     "data": {
      "text/plain": [
       "4"
      ]
     },
     "execution_count": 37,
     "metadata": {},
     "output_type": "execute_result"
    }
   ],
   "source": [
    "single_number(nums = [4,1,2,1,2])"
   ]
  },
  {
   "cell_type": "markdown",
   "id": "393d14bc-1176-4957-830e-00cde59f6cc3",
   "metadata": {},
   "source": [
    "- Time complexcity : O(n*n + n) = O(n2)\n",
    "- Space complexcity : O(n/2)"
   ]
  }
 ],
 "metadata": {
  "kernelspec": {
   "display_name": "Python [conda env:anaconda3] *",
   "language": "python",
   "name": "conda-env-anaconda3-py"
  },
  "language_info": {
   "codemirror_mode": {
    "name": "ipython",
    "version": 3
   },
   "file_extension": ".py",
   "mimetype": "text/x-python",
   "name": "python",
   "nbconvert_exporter": "python",
   "pygments_lexer": "ipython3",
   "version": "3.12.7"
  }
 },
 "nbformat": 4,
 "nbformat_minor": 5
}
