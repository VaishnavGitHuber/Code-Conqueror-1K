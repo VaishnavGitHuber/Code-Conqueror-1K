{
 "cells": [
  {
   "cell_type": "markdown",
   "id": "6801ba43-fe05-4f85-8a91-805c16304673",
   "metadata": {},
   "source": [
    "### AUTHOR : VAISHNAV KRISHNA P\n",
    "#### email : vyshnavkrishnap2020@gmail.com"
   ]
  },
  {
   "cell_type": "markdown",
   "id": "1c0f7868-effc-42f8-805a-c9e92688bc54",
   "metadata": {},
   "source": [
    "### 1 TWO SUM \n",
    "- https://leetcode.com/problems/two-sum/description/?envType=problem-list-v2&envId=array"
   ]
  },
  {
   "cell_type": "markdown",
   "id": "9835b95b-3839-4896-9a5b-60a797c23b08",
   "metadata": {},
   "source": [
    "##### QUESTION 1\n",
    "\n",
    "Given an array of integers nums and an integer target, return indices of the two numbers such that they add up to target.\n",
    "\n",
    "You may assume that each input would have exactly one solution, and you may not use the same element twice.\n",
    "\n",
    "You can return the answer in any order.\n",
    "\n",
    "Example 1\n",
    "\n",
    "- Input: nums = [2,7,11,15], target = 9\n",
    "- Output: [0,1]\n",
    "- Explanation: Because nums[0] + nums[1] == 9, we return [0, 1]."
   ]
  },
  {
   "cell_type": "code",
   "execution_count": 15,
   "id": "b052666c-2b7c-44ef-8866-fc556cabc935",
   "metadata": {},
   "outputs": [],
   "source": [
    "### Using the array concept \n",
    "def two_sum(nums, target):\n",
    "    for i in range(len(nums)):\n",
    "        for j in range(i+1, len(nums)):\n",
    "            if nums[i] + nums[j] == target:\n",
    "                return [i,j]"
   ]
  },
  {
   "cell_type": "code",
   "execution_count": 17,
   "id": "3e7dcba5-d279-463b-bba6-c94114ecc5d4",
   "metadata": {},
   "outputs": [
    {
     "data": {
      "text/plain": [
       "[0, 1]"
      ]
     },
     "execution_count": 17,
     "metadata": {},
     "output_type": "execute_result"
    }
   ],
   "source": [
    "# function calls \n",
    "two_sum(nums=[2,7,9,11], target=9)"
   ]
  },
  {
   "cell_type": "code",
   "execution_count": 19,
   "id": "bf1035d0-29e9-43c4-a2e9-3fcb044d7906",
   "metadata": {},
   "outputs": [
    {
     "data": {
      "text/plain": [
       "[1, 2]"
      ]
     },
     "execution_count": 19,
     "metadata": {},
     "output_type": "execute_result"
    }
   ],
   "source": [
    "two_sum(nums = [3,2,4], target = 6)"
   ]
  },
  {
   "cell_type": "markdown",
   "id": "5ddacaa6-ead1-486a-b5a5-0b489d8d7c25",
   "metadata": {},
   "source": [
    "- Time complexcity : O(n2)\n",
    "- Space complexcity : O(1)"
   ]
  },
  {
   "cell_type": "code",
   "execution_count": 30,
   "id": "402e6571-44f1-4c0a-b489-ef0b033a8a33",
   "metadata": {},
   "outputs": [],
   "source": [
    "### Using the hashmap/dictionary \n",
    "def two_sum(nums, target):\n",
    "    # store the value-index in a hashmap \n",
    "    num_index = dict()\n",
    "    \n",
    "    for i in range(len(nums)):\n",
    "        if target-nums[i] in num_index:\n",
    "            return [ i, num_index[target-nums[i]] ]\n",
    "        else:\n",
    "            num_index[nums[i]] = i"
   ]
  },
  {
   "cell_type": "code",
   "execution_count": 32,
   "id": "2b46b63a-51c8-42e6-b62c-d62a2b72788d",
   "metadata": {},
   "outputs": [
    {
     "data": {
      "text/plain": [
       "[1, 0]"
      ]
     },
     "execution_count": 32,
     "metadata": {},
     "output_type": "execute_result"
    }
   ],
   "source": [
    "# function calls \n",
    "two_sum(nums=[2,7,9,11], target=9)"
   ]
  },
  {
   "cell_type": "code",
   "execution_count": 34,
   "id": "615ba8aa-a112-48c5-9bd7-916281439264",
   "metadata": {},
   "outputs": [
    {
     "data": {
      "text/plain": [
       "[2, 1]"
      ]
     },
     "execution_count": 34,
     "metadata": {},
     "output_type": "execute_result"
    }
   ],
   "source": [
    "two_sum(nums = [3,2,4], target = 6)"
   ]
  },
  {
   "cell_type": "markdown",
   "id": "c41da8c4-3f09-4799-b1ac-b2568a55968e",
   "metadata": {
    "scrolled": true
   },
   "source": [
    "- Time complexcity : O(n)\n",
    "- Space complexcity : O(n)"
   ]
  },
  {
   "cell_type": "markdown",
   "id": "b313181a-77e6-406a-83c5-1ddf7e77ecb7",
   "metadata": {
    "scrolled": true
   },
   "source": [
    "### 2 REMOVE DUPLICATES FROM THE SORTED ARRAY\n",
    "- https://leetcode.com/problems/remove-duplicates-from-sorted-array/description/?envType=problem-list-v2&envId=array\n"
   ]
  },
  {
   "cell_type": "markdown",
   "id": "53cadb9e-103b-44fb-8885-ef570b73242a",
   "metadata": {},
   "source": [
    "##### QUESTION 2\n",
    "\n",
    "Given an integer array nums sorted in non-decreasing order, remove the duplicates in-place such that each unique element appears only once. The relative order of the elements should be kept the same. Then return the number of unique elements in nums.\n",
    "\n",
    "Consider the number of unique elements of nums to be k, to get accepted, you need to do the following things:\n",
    "\n",
    "Change the array nums such that the first k elements of nums contain the unique elements in the order they were present in nums initially. The remaining elements of nums are not important as well as the size of nums. Return k.\n",
    "\n",
    "##### EXAMPLE\n",
    "\n",
    "- Input: nums = [1,1,2]\n",
    "- Output: 2, nums = [1,2,_]\n",
    "- Explanation: Your function should return k = 2, with the first two elements of nums being 1 and 2 respectively. It does not matter what you leave beyond the returned k (hence they are underscores)."
   ]
  },
  {
   "cell_type": "code",
   "execution_count": 52,
   "id": "b4f2daac-00a9-4274-bdeb-1bc007afebd3",
   "metadata": {},
   "outputs": [],
   "source": [
    "# problem type : single pointer \n",
    "def remove_duplicates(nums):\n",
    "    ptr = 0 \n",
    "\n",
    "    for i in range(1, len(nums)):\n",
    "        if nums[ptr] != nums[i]:\n",
    "            ptr = ptr + 1\n",
    "            nums[ptr] = nums[i]\n",
    "    return ptr + 1"
   ]
  },
  {
   "cell_type": "code",
   "execution_count": 56,
   "id": "96ba3833-31bd-4ef6-9719-224eb6b9b8a4",
   "metadata": {},
   "outputs": [
    {
     "data": {
      "text/plain": [
       "5"
      ]
     },
     "execution_count": 56,
     "metadata": {},
     "output_type": "execute_result"
    }
   ],
   "source": [
    "# sample test \n",
    "remove_duplicates([1,1,2,2,3,4,5]) "
   ]
  },
  {
   "cell_type": "code",
   "execution_count": 58,
   "id": "ebb4af11-60d5-45b1-b923-0852b050c6b8",
   "metadata": {},
   "outputs": [
    {
     "data": {
      "text/plain": [
       "2"
      ]
     },
     "execution_count": 58,
     "metadata": {},
     "output_type": "execute_result"
    }
   ],
   "source": [
    "remove_duplicates(nums = [1,1,2])"
   ]
  },
  {
   "cell_type": "markdown",
   "id": "cc894e84-e32e-4908-8807-f43d650d9058",
   "metadata": {},
   "source": [
    "- Space complexcity : O(1)\n",
    "- Time complexcity: O(n)"
   ]
  },
  {
   "cell_type": "markdown",
   "id": "a5ec8f97-0c9e-4c74-b012-630f63915246",
   "metadata": {},
   "source": [
    "### 3 REMOVE DUPLICATES \n",
    "- https://leetcode.com/problems/remove-element/description/?envType=problem-list-v2&envId=array"
   ]
  },
  {
   "cell_type": "markdown",
   "id": "a267696e-8f95-4c83-998a-5b633e836b2f",
   "metadata": {},
   "source": [
    "##### QUESTION 3\n",
    "\n",
    "Given an integer array nums and an integer val, remove all occurrences of val in nums in-place. The order of the elements may be changed. Then return the number of elements in nums which are not equal to val.\n",
    "\n",
    "Consider the number of elements in nums which are not equal to val be k, to get accepted, you need to do the following things:\n",
    "\n",
    "Change the array nums such that the first k elements of nums contain the elements which are not equal to val. The remaining elements of nums are not important as well as the size of nums. Return k.\n",
    "\n",
    "##### EXAMPLE\n",
    "\n",
    "- Input: nums = [3,2,2,3], val = 3\n",
    "- Output: 2, nums = [2,2,,]\n",
    "- Explanation: Your function should return k = 2, with the first two elements of nums being 2. It does not matter what you leave beyond the returned k (hence they are underscores)."
   ]
  },
  {
   "cell_type": "code",
   "execution_count": 70,
   "id": "e82a32e4-4d2f-436f-a992-9c44c8bd8b9f",
   "metadata": {},
   "outputs": [],
   "source": [
    "### Problem type : Single pointer \n",
    "def remove_duplicates(nums, val):\n",
    "    # pointer is set at first element \n",
    "    ptr = -1\n",
    "\n",
    "    for i in range(len(nums)):\n",
    "        if nums[i] != val:\n",
    "            ptr = ptr + 1\n",
    "            nums[ptr] = nums[i]\n",
    "    return ptr + 1"
   ]
  },
  {
   "cell_type": "code",
   "execution_count": 72,
   "id": "e54be7eb-c2d6-49d7-a530-c2709595bda9",
   "metadata": {},
   "outputs": [
    {
     "data": {
      "text/plain": [
       "5"
      ]
     },
     "execution_count": 72,
     "metadata": {},
     "output_type": "execute_result"
    }
   ],
   "source": [
    "remove_duplicates(nums = [1,1,2,2,3,4,5], val = 1)"
   ]
  },
  {
   "cell_type": "markdown",
   "id": "b836c35c-a3b0-466a-a6e0-3ac80afcedda",
   "metadata": {},
   "source": [
    "- Space complexcity : O(1)\n",
    "- Time complexcity : O(n)"
   ]
  },
  {
   "cell_type": "markdown",
   "id": "4034e110-1675-4a9b-8469-151f76ad18e4",
   "metadata": {},
   "source": [
    "### 4 SEARCH INSERTION POSITION\n",
    "\n",
    "- https://leetcode.com/problems/search-insert-position/description/?envType=problem-list-v2&envId=array"
   ]
  },
  {
   "cell_type": "markdown",
   "id": "19aa8132-02ba-4bae-9fcf-1ca9c72f808c",
   "metadata": {},
   "source": [
    "##### QUESTION 4\n",
    "\n",
    "- Given a sorted array of distinct integers and a target value, return the index if the target is found. If not, return the index where it would be if it were inserted in order.\n",
    "\n",
    "You must write an algorithm with O(log n) runtime complexity.\n",
    "\n",
    "##### EXAMPLE\n",
    "\n",
    "- Input: nums = [1,3,5,6], target = 5\n",
    "- Output: 2"
   ]
  },
  {
   "cell_type": "code",
   "execution_count": 15,
   "id": "afa934e6-ab8a-4d49-bbe8-bafc9b679084",
   "metadata": {},
   "outputs": [],
   "source": [
    "### function : Search insertion position \n",
    "def search_insertion_position(nums,target):\n",
    "    # if target found in nums return index \n",
    "    for i in range(len(nums)):\n",
    "        if nums[i] == target:\n",
    "            return i\n",
    "    # if target not found in nums \n",
    "    index = -1\n",
    "    for i in range(len(nums)):\n",
    "        if nums[i] < target:\n",
    "            index = i\n",
    "    return index + 1"
   ]
  },
  {
   "cell_type": "code",
   "execution_count": 19,
   "id": "62837e7d-d7be-4b51-aa22-e1c94938a8e5",
   "metadata": {},
   "outputs": [
    {
     "data": {
      "text/plain": [
       "1"
      ]
     },
     "execution_count": 19,
     "metadata": {},
     "output_type": "execute_result"
    }
   ],
   "source": [
    "search_insertion_position(nums = [1,3,5,6], target = 2)"
   ]
  },
  {
   "cell_type": "markdown",
   "id": "2cc9f226-d326-4d7f-9453-27af7d2e5482",
   "metadata": {},
   "source": [
    "- Time complexcity : O(n+n)\n",
    "- Space complexcity : O(1)"
   ]
  },
  {
   "cell_type": "code",
   "execution_count": 30,
   "id": "87aabc48-9777-4cb7-8e94-77b90978a694",
   "metadata": {},
   "outputs": [],
   "source": [
    "def search_insertion_position(nums,target):\n",
    "    index = -1\n",
    "    # Combining both steps \n",
    "    for i in range(len(nums)):\n",
    "        # if target founds \n",
    "        if nums[i] == target:\n",
    "            return i\n",
    "        # if target not found \n",
    "        if nums[i] < target:\n",
    "            index = i\n",
    "    return index + 1"
   ]
  },
  {
   "cell_type": "code",
   "execution_count": 32,
   "id": "0e76ebce-363f-466f-bb3b-6ea1d67d2a66",
   "metadata": {},
   "outputs": [
    {
     "data": {
      "text/plain": [
       "2"
      ]
     },
     "execution_count": 32,
     "metadata": {},
     "output_type": "execute_result"
    }
   ],
   "source": [
    "# sample 1\n",
    "search_insertion_position(nums = [1,3,5,6], target = 4)"
   ]
  },
  {
   "cell_type": "markdown",
   "id": "cb50e316-1ae6-4920-896a-0a855fcafceb",
   "metadata": {},
   "source": [
    "- Time complexcity : O(n)\n",
    "- Space complexcity : O(1)"
   ]
  },
  {
   "cell_type": "markdown",
   "id": "6be322bb-74ee-4e8e-9ae0-1ca3e3730a8a",
   "metadata": {},
   "source": [
    "### 5 PLUS ONE\n",
    "\n",
    "- https://leetcode.com/problems/plus-one/description/?envType=problem-list-v2&envId=array"
   ]
  },
  {
   "cell_type": "markdown",
   "id": "67a3be5e-0731-425f-8e09-40f36c29efde",
   "metadata": {},
   "source": [
    "##### QUESTION 5\n",
    "\n",
    "You are given a large integer represented as an integer array digits, where each digits[i] is the ith digit of the integer. The digits are ordered from most significant to least significant in left-to-right order. The large integer does not contain any leading 0's.\n",
    "\n",
    "Increment the large integer by one and return the resulting array of digits.\n",
    "\n",
    "##### Example 1:\n",
    "\n",
    "- Input: digits = [1,2,3]\n",
    "- Output: [1,2,4]\n",
    "- Explanation: The array represents the integer 123. Incrementing by one gives 123 + 1 = 124. Thus, the result should be [1,2,4].\n",
    "##### Example 2:\n",
    "\n",
    "- Input: digits = [4,3,2,1]\n",
    "- Output: [4,3,2,2]\n",
    "- Explanation: The array represents the integer 4321. Incrementing by one gives 4321 + 1 = 4322. Thus, the result should be [4,3,2,2]."
   ]
  },
  {
   "cell_type": "code",
   "execution_count": 60,
   "id": "031d8363-7678-4ffe-a461-87398d7adf8c",
   "metadata": {},
   "outputs": [],
   "source": [
    "def plus_one(digits):\n",
    "    # converting the array intergers to string \n",
    "    string_digit = ''\n",
    "\n",
    "    for digit in digits:\n",
    "        string_digit += str(digit)\n",
    "        \n",
    "    # add one to the number \n",
    "    string_digit = str(int(string_digit) + 1)\n",
    "\n",
    "    # return the increment value \n",
    "    return [int(digit) for digit in string_digit]"
   ]
  },
  {
   "cell_type": "code",
   "execution_count": 68,
   "id": "f66c3da8-4aee-412e-b0b9-a84e9d64f1c0",
   "metadata": {},
   "outputs": [
    {
     "data": {
      "text/plain": [
       "[1, 0, 0, 0]"
      ]
     },
     "execution_count": 68,
     "metadata": {},
     "output_type": "execute_result"
    }
   ],
   "source": [
    "plus_one([9,9,9])"
   ]
  },
  {
   "cell_type": "markdown",
   "id": "6a1a6c89-060e-4c0e-956b-d864e4997927",
   "metadata": {
    "scrolled": true
   },
   "source": [
    "- Time complexcity : O(n + n)\n",
    "- Space complexcity : O(1)"
   ]
  },
  {
   "cell_type": "code",
   "execution_count": 76,
   "id": "40057459-91bc-4164-8410-ac4aac143429",
   "metadata": {},
   "outputs": [],
   "source": [
    "### Without converting to string \n",
    "algo = ''' \n",
    "Algorithm\n",
    "step 1: Traverse the array from last to first \n",
    "step 2: iterate Add one to the current digit,\n",
    "    step 2.1 : if digit < 10 return digits \n",
    "    step 2.2 : if digit = 10 digit = 0 carry to the next digit \n",
    "step 3: if reach the last digit and other digits are 0 then append 0 to digit array\n",
    "'''"
   ]
  },
  {
   "cell_type": "code",
   "execution_count": 96,
   "id": "2d61795a-b3f1-4c8b-b14b-cfaf4f01b027",
   "metadata": {},
   "outputs": [],
   "source": [
    "# function plus one \n",
    "def plus_one(digits):\n",
    "    for i in range(len(digits)-1,-1,-1):\n",
    "        # Adding '1' to the current digit\n",
    "        digits[i] += 1\n",
    "        # if less than 10\n",
    "        if digits[i] < 10:\n",
    "            return digits\n",
    "        # if digit = 10\n",
    "        digits[i] = 0\n",
    "    # if reach end still carry \n",
    "    return [1] + digits"
   ]
  },
  {
   "cell_type": "code",
   "execution_count": 106,
   "id": "2d108222-b892-4656-b566-359f97741b2b",
   "metadata": {},
   "outputs": [
    {
     "data": {
      "text/plain": [
       "[9, 0, 0, 0]"
      ]
     },
     "execution_count": 106,
     "metadata": {},
     "output_type": "execute_result"
    }
   ],
   "source": [
    "plus_one([8,9,9,9])"
   ]
  },
  {
   "cell_type": "markdown",
   "id": "b03779b2-bbdd-4983-8513-635a290b6702",
   "metadata": {},
   "source": [
    "- Time complexcity : O(n)\n",
    "- Space complexcity : O(1)"
   ]
  }
 ],
 "metadata": {
  "kernelspec": {
   "display_name": "Python [conda env:anaconda3] *",
   "language": "python",
   "name": "conda-env-anaconda3-py"
  },
  "language_info": {
   "codemirror_mode": {
    "name": "ipython",
    "version": 3
   },
   "file_extension": ".py",
   "mimetype": "text/x-python",
   "name": "python",
   "nbconvert_exporter": "python",
   "pygments_lexer": "ipython3",
   "version": "3.12.7"
  }
 },
 "nbformat": 4,
 "nbformat_minor": 5
}
