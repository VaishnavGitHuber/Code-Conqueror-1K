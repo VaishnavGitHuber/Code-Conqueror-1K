{
 "cells": [
  {
   "cell_type": "markdown",
   "id": "06f0eb56-f329-40fa-9e7a-0a92adff4d30",
   "metadata": {},
   "source": [
    "### Author : Vaishnav Krishna P\n",
    "##### vyshnavkrishnap2020@gmail.com"
   ]
  },
  {
   "cell_type": "markdown",
   "id": "6dc8fcd1-7064-44bd-9270-4a87787093a2",
   "metadata": {},
   "source": [
    "### 16 THIRD MAXIMUM NUMBER \n",
    "- https://leetcode.com/problems/third-maximum-number/description/?envType=problem-list-v2&envId=array"
   ]
  },
  {
   "cell_type": "markdown",
   "id": "34ee8065-b6ba-4531-aa10-dd74765a91b5",
   "metadata": {},
   "source": [
    "##### QUESTION 21\n",
    "\n",
    "- Given an integer array nums, return the third distinct maximum number in this array. If the third maximum does not exist, return the maximum number.\n",
    "##### Example 1:\n",
    "\n",
    "- Input: nums = [3,2,1]\n",
    "- Output: 1\n",
    "Explanation: The first distinct maximum is 3. The second distinct maximum is 2. The third distinct maximum is 1.\n",
    "##### Example 2:\n",
    "\n",
    "- Input: nums = [1,2]\n",
    "- Output: 2\n",
    "- Explanation: The first distinct maximum is 2. The second distinct maximum is 1. The third distinct maximum does not exist, so the maximum (2) is returned instead."
   ]
  },
  {
   "cell_type": "code",
   "execution_count": 4,
   "id": "3e11c94e-deb9-42b5-bde9-cd1957ea1442",
   "metadata": {},
   "outputs": [],
   "source": [
    "# Lets find the largest number \n",
    "def first_largest_number(nums):\n",
    "    if not nums:\n",
    "        return []\n",
    "    largest = nums[0]\n",
    "\n",
    "    for i in range(1, len(nums)):\n",
    "        if largest < nums[i]:\n",
    "            largest = nums[i]\n",
    "    return largest"
   ]
  },
  {
   "cell_type": "code",
   "execution_count": 6,
   "id": "4ba74987-d682-40a1-9776-b56cee7341a1",
   "metadata": {},
   "outputs": [
    {
     "data": {
      "text/plain": [
       "22"
      ]
     },
     "execution_count": 6,
     "metadata": {},
     "output_type": "execute_result"
    }
   ],
   "source": [
    "first_largest_number(nums=[19,22,14,5])"
   ]
  },
  {
   "cell_type": "code",
   "execution_count": 8,
   "id": "ab63a2a1-59b4-4c78-acb2-6feef3ce8479",
   "metadata": {},
   "outputs": [
    {
     "data": {
      "text/plain": [
       "[]"
      ]
     },
     "execution_count": 8,
     "metadata": {},
     "output_type": "execute_result"
    }
   ],
   "source": [
    "first_largest_number([])"
   ]
  },
  {
   "cell_type": "code",
   "execution_count": 10,
   "id": "79842f9a-0053-4dfd-8b90-92884935a927",
   "metadata": {},
   "outputs": [],
   "source": [
    "# Lets find the second largest number \n",
    "'''\n",
    "initially assume the first element as a largest and second largest as -inf \n",
    "step 1: iterate throught the elements\n",
    "    step 1.1 : if number is larger than assumed largest then update the second largest and largest \n",
    "    step 1.2 : if number is smaller than assumed largest but, small than the second largest then update only second largest.\n",
    "step 2: return the second largest element.\n",
    "'''\n",
    "def second_largest_number(nums):\n",
    "    largest = nums[0]\n",
    "    second_largest = float('-inf')\n",
    "\n",
    "    for i in range(1, len(nums)):\n",
    "        if nums[i] > largest:\n",
    "            second_largest = largest\n",
    "            largest = nums[i]\n",
    "        elif nums[i] > second_largest and largest != nums[i]:\n",
    "            second_largest = nums[i]\n",
    "    return second_largest"
   ]
  },
  {
   "cell_type": "code",
   "execution_count": 12,
   "id": "296db6ab-7adc-46c1-a8cb-93bf2c041e6a",
   "metadata": {},
   "outputs": [
    {
     "data": {
      "text/plain": [
       "143"
      ]
     },
     "execution_count": 12,
     "metadata": {},
     "output_type": "execute_result"
    }
   ],
   "source": [
    "second_largest_number(nums=[39,61,75,143,172, 172])"
   ]
  },
  {
   "cell_type": "code",
   "execution_count": 24,
   "id": "8e80c66f-f86d-4cb9-86bc-a46c61cae51d",
   "metadata": {},
   "outputs": [],
   "source": [
    "# Now move to the third largest number \n",
    "def third_largest_number(nums):\n",
    "    if len(nums) <= 2:\n",
    "        return max(nums)\n",
    "        \n",
    "    largest = nums[0]\n",
    "    sec_largest = float('-inf')\n",
    "    third_largest = float('-inf')\n",
    "\n",
    "    for i in range(1, len(nums)):\n",
    "        if nums[i] > largest:\n",
    "            third_largest = sec_largest\n",
    "            sec_largest = largest\n",
    "            largest = nums[i]\n",
    "        elif nums[i] > sec_largest and nums[i] != largest:\n",
    "            third_largest = sec_largest\n",
    "            sec_largest = nums[i]\n",
    "        elif nums[i] > third_largest and nums[i] != sec_largest:\n",
    "            third_largest = nums[i]\n",
    "    return (largest, sec_largest, third_largest)"
   ]
  },
  {
   "cell_type": "code",
   "execution_count": 26,
   "id": "3465994c-0077-4cb2-aa90-aef54112fdd6",
   "metadata": {},
   "outputs": [
    {
     "data": {
      "text/plain": [
       "(39, 23, 14)"
      ]
     },
     "execution_count": 26,
     "metadata": {},
     "output_type": "execute_result"
    }
   ],
   "source": [
    "third_largest_number(nums=[23,14,39])"
   ]
  },
  {
   "cell_type": "code",
   "execution_count": 28,
   "id": "1a1fff7d-7207-462f-bde2-50d14102448f",
   "metadata": {},
   "outputs": [
    {
     "data": {
      "text/plain": [
       "(78, 56, 34)"
      ]
     },
     "execution_count": 28,
     "metadata": {},
     "output_type": "execute_result"
    }
   ],
   "source": [
    "third_largest_number(nums=[2,34,56,23,56,78])"
   ]
  },
  {
   "cell_type": "markdown",
   "id": "02470808-636b-4cd6-9f81-fb196090f44b",
   "metadata": {},
   "source": [
    "### 17 FIND ALL NUMBERS DISAPPEAR IN ARRAY\n",
    "- https://leetcode.com/problems/find-all-numbers-disappeared-in-an-array/description/?envType=problem-list-v2&envId=array"
   ]
  },
  {
   "cell_type": "markdown",
   "id": "14c94a8b-d4e9-4ee9-bd77-2ca12c48650c",
   "metadata": {},
   "source": [
    "##### QUESTION 22\n",
    "\n",
    "- Given an array nums of n integers where nums[i] is in the range [1, n], return an array of all the integers in the range [1, n] that do not appear in nums.\n",
    "##### Example 1:\n",
    "\n",
    "- Input: nums = [4,3,2,7,8,2,3,1]\n",
    "- Output: [5,6]\n",
    "##### Example 2:\n",
    "\n",
    "- Input: nums = [1,1]\n",
    "- Output: [2]"
   ]
  },
  {
   "cell_type": "code",
   "execution_count": 38,
   "id": "5516a3a0-d6a0-4929-8cdb-5e1197678b2a",
   "metadata": {},
   "outputs": [],
   "source": [
    "def numbers_disappear(nums):\n",
    "    disappeared_nums = []\n",
    "    \n",
    "    for i in range(1, len(nums)+1):\n",
    "        if i not in nums:\n",
    "            disappeared_nums.append(i)\n",
    "    return disappeared_nums "
   ]
  },
  {
   "cell_type": "code",
   "execution_count": 40,
   "id": "4e320406-2e80-4509-8380-53e465295e5d",
   "metadata": {},
   "outputs": [
    {
     "data": {
      "text/plain": [
       "[5, 6]"
      ]
     },
     "execution_count": 40,
     "metadata": {},
     "output_type": "execute_result"
    }
   ],
   "source": [
    "numbers_disappear(nums = [4,3,2,7,8,2,3,1])"
   ]
  },
  {
   "cell_type": "code",
   "execution_count": 42,
   "id": "75990e28-fbbf-4fa3-bb96-b6b2c159f7a9",
   "metadata": {},
   "outputs": [
    {
     "data": {
      "text/plain": [
       "[2]"
      ]
     },
     "execution_count": 42,
     "metadata": {},
     "output_type": "execute_result"
    }
   ],
   "source": [
    "numbers_disappear(nums = [1,1])"
   ]
  },
  {
   "cell_type": "markdown",
   "id": "c641f322-a4ce-4bc5-b628-7fa72231b8b6",
   "metadata": {},
   "source": [
    "- Time complexcity : O(n)\n",
    "- Space complexcity : O(n)"
   ]
  },
  {
   "cell_type": "markdown",
   "id": "f07e6454-aa74-4680-8510-3843cfe267d7",
   "metadata": {},
   "source": [
    "### 18 ROTATE ARRAY BY ONE\n",
    "- https://www.geeksforgeeks.org/problems/cyclically-rotate-an-array-by-one2614/1"
   ]
  },
  {
   "cell_type": "markdown",
   "id": "47bf036e-4291-4a52-95d8-f8a6634b7fca",
   "metadata": {},
   "source": [
    "- Given an array arr, rotate the array by one position in clockwise direction.\n",
    "\n",
    "##### Examples:\n",
    "\n",
    "- Input: arr[] = [1, 2, 3, 4, 5]\n",
    "- Output: [5, 1, 2, 3, 4]\n",
    "- Explanation: If we rotate arr by one position in clockwise 5 come to the front and remaining those are shifted to the end."
   ]
  },
  {
   "cell_type": "code",
   "execution_count": 3,
   "id": "5c3f4632-d501-4118-883f-95c8addd5183",
   "metadata": {},
   "outputs": [],
   "source": [
    "def rotate(arr):\n",
    "        # Storing the last element \n",
    "        n = len(arr)\n",
    "        temp = arr[-1]\n",
    "        \n",
    "        # Replacing the orginal array \n",
    "        for i in range(n-1, 0,-1): \n",
    "            arr[i] = arr[i-1]\n",
    "        arr[0] = temp\n",
    "        \n",
    "        return arr"
   ]
  },
  {
   "cell_type": "code",
   "execution_count": 5,
   "id": "769dab0d-e25e-42b2-aa6a-25995068863e",
   "metadata": {},
   "outputs": [
    {
     "data": {
      "text/plain": [
       "[5, 1, 2, 3, 4]"
      ]
     },
     "execution_count": 5,
     "metadata": {},
     "output_type": "execute_result"
    }
   ],
   "source": [
    "rotate( arr = [1, 2, 3, 4, 5])"
   ]
  },
  {
   "cell_type": "markdown",
   "id": "1938630b-4e25-4f0a-b994-4e9ec6e18440",
   "metadata": {},
   "source": [
    "- Time complexcity :O(n)\n",
    "- Space complexcity : O(1)"
   ]
  },
  {
   "cell_type": "markdown",
   "id": "30581e80-9ff6-43de-9497-dbb793ba6bae",
   "metadata": {},
   "source": [
    "### 19 ROTATE ARRAY\n",
    "- https://leetcode.com/problems/rotate-array/"
   ]
  },
  {
   "cell_type": "markdown",
   "id": "ee25009e-ec76-428c-9630-59b79f0ba83f",
   "metadata": {},
   "source": [
    "- Given an integer array nums, rotate the array to the right by k steps, where k is non-negative.\n",
    "\n",
    " \n",
    "\n",
    "##### Example 1:\n",
    "\n",
    "- Input: nums = [1,2,3,4,5,6,7], k = 3\n",
    "- Output: [5,6,7,1,2,3,4]\n",
    "- Explanation:\n",
    "rotate 1 steps to the right: [7,1,2,3,4,5,6]\n",
    "rotate 2 steps to the right: [6,7,1,2,3,4,5]\n",
    "rotate 3 steps to the right: [5,6,7,1,2,3,4]\n"
   ]
  },
  {
   "cell_type": "code",
   "execution_count": 14,
   "id": "cfea17c0-6ca4-4304-87ca-c69861fd43c3",
   "metadata": {},
   "outputs": [],
   "source": [
    "### itertating the rotate by 1 unit * d(Brutal solution)\n",
    "def rotate(nums):\n",
    "        \"\"\"\n",
    "        Do not return anything, modify nums in-place instead.\n",
    "        \"\"\"\n",
    "        n = len(nums)\n",
    "        if k > n:\n",
    "            k = k % n\n",
    "        if k == 0:\n",
    "            return nums\n",
    "        # Temparary storing last d elements\n",
    "        temp = nums[n-k:] # time complexcity depends on number of slice created T O(k) S T(k)\n",
    "\n",
    "        # Shifting the other elements\n",
    "        for i in range(n-1, k-1, -1):\n",
    "            nums[i] = nums[i-k] # T O(n-k)\n",
    "        \n",
    "        # keeping the store elements\n",
    "        nums[ : k] = temp # T O(k) "
   ]
  },
  {
   "cell_type": "markdown",
   "id": "753bdc48-8e30-49d4-9c96-4042aef1d7f1",
   "metadata": {},
   "source": [
    "- Total  time complexcity : O(n+k)\n",
    "- Total Space complexcity : O(k)"
   ]
  },
  {
   "cell_type": "code",
   "execution_count": 17,
   "id": "985e8770-aa22-41c2-b6d8-e12509f59b33",
   "metadata": {},
   "outputs": [],
   "source": [
    "# Optimal solution: reverse the array \n",
    "def reverse_array(arr):\n",
    "        n = len(arr)\n",
    "        # keep the pointer at the start & end\n",
    "        start = 0\n",
    "        end = n - 1\n",
    "\n",
    "        while start < end:\n",
    "            arr[start], arr[end] = arr[end], arr[start]\n",
    "            start += 1\n",
    "            end -= 1\n",
    "        return arr\n",
    "\n",
    "def rotate(nums):\n",
    "        \"\"\"\n",
    "        Do not return anything, modify nums in-place instead.\n",
    "        \"\"\"\n",
    "        n = len(nums)\n",
    "        if k > n:\n",
    "            k = k % n\n",
    "        # Reverse the first n - d elements\n",
    "        nums[:n-k] = self.reverse_array(nums[:n-k]) # O((n-k)/2)\n",
    "        # Reverse the last d elements\n",
    "        nums[n-k:] = self.reverse_array(nums[n-k:]) # O(k/2)\n",
    "        # reverse the array\n",
    "        return self.reverse_array(nums) # O(n)\n"
   ]
  },
  {
   "cell_type": "markdown",
   "id": "7f563185-a2f0-4b68-b0b0-a057a03b03ab",
   "metadata": {},
   "source": [
    "- Time complexcity : O(3n/2)\n",
    "- Space complexcity : O(1)"
   ]
  },
  {
   "cell_type": "markdown",
   "id": "442d1b6f-7f43-4cb4-84bc-786996f0df9c",
   "metadata": {},
   "source": [
    "### 20 REVERSE AN ARRAY\n",
    "- https://www.geeksforgeeks.org/problems/reverse-an-array/1"
   ]
  },
  {
   "cell_type": "markdown",
   "id": "060837fe-357e-4d98-a011-695f46d9f49e",
   "metadata": {},
   "source": [
    "- You are given an array of integers arr[]. You have to reverse the given array.\n",
    "\n",
    "##### Examples:\n",
    "\n",
    "- Input: arr = [1, 4, 3, 2, 6, 5]\n",
    "- Output: [5, 6, 2, 3, 4, 1]\n",
    "- Explanation: The elements of the array are [1, 4, 3, 2, 6, 5]. After reversing the array, the first element goes to the last position, the second element goes to the second last position and so on. Hence, the answer is [5, 6, 2, 3, 4, 1]."
   ]
  },
  {
   "cell_type": "code",
   "execution_count": 26,
   "id": "f86d91f0-0e9f-4b56-bb7e-e37de1400615",
   "metadata": {},
   "outputs": [],
   "source": [
    "def reverseArray(arr):\n",
    "        # keep the pointer at the start and end \n",
    "        start = 0\n",
    "        end = len(arr) - 1\n",
    "        \n",
    "        while start < end:\n",
    "            arr[start], arr[end] = arr[end], arr[start]\n",
    "            start += 1\n",
    "            end -= 1\n",
    "        return arr"
   ]
  },
  {
   "cell_type": "code",
   "execution_count": 28,
   "id": "daf7497a-0ae0-4852-9069-7429dc8d76bc",
   "metadata": {},
   "outputs": [
    {
     "data": {
      "text/plain": [
       "[5, 6, 2, 3, 4, 1]"
      ]
     },
     "execution_count": 28,
     "metadata": {},
     "output_type": "execute_result"
    }
   ],
   "source": [
    "reverseArray(arr = [1, 4, 3, 2, 6, 5])"
   ]
  },
  {
   "cell_type": "markdown",
   "id": "e1b0d9e0-b10c-4552-b21f-9c3025d4b9f5",
   "metadata": {},
   "source": [
    "- Time complexcity : O(n/2)\n",
    "- Space complexcity : O(1)"
   ]
  }
 ],
 "metadata": {
  "kernelspec": {
   "display_name": "Python [conda env:anaconda3] *",
   "language": "python",
   "name": "conda-env-anaconda3-py"
  },
  "language_info": {
   "codemirror_mode": {
    "name": "ipython",
    "version": 3
   },
   "file_extension": ".py",
   "mimetype": "text/x-python",
   "name": "python",
   "nbconvert_exporter": "python",
   "pygments_lexer": "ipython3",
   "version": "3.12.7"
  }
 },
 "nbformat": 4,
 "nbformat_minor": 5
}
