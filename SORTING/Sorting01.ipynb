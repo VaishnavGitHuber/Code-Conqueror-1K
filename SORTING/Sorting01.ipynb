{
 "cells": [
  {
   "cell_type": "markdown",
   "id": "5171bbcd-4673-45d1-ba1e-038d7c410bea",
   "metadata": {},
   "source": [
    "### Author : Vaishnav Krishna P\n",
    "vyshnavkrishnap2020@gmail.com"
   ]
  },
  {
   "cell_type": "markdown",
   "id": "ccda1cf2-7d4e-421f-ab50-a02e14f619dd",
   "metadata": {},
   "source": [
    "### 1 SELECTION SORT \n",
    "- https://www.geeksforgeeks.org/problems/selection-sort/0"
   ]
  },
  {
   "cell_type": "markdown",
   "id": "ecbb39b2-cd3d-487f-86a7-5675ee24c3ca",
   "metadata": {},
   "source": [
    "- Given an array arr, use selection sort to sort arr[] in increasing order."
   ]
  },
  {
   "cell_type": "code",
   "execution_count": 3,
   "id": "cfd258be-ced9-4feb-b59e-0c07f998df51",
   "metadata": {},
   "outputs": [],
   "source": [
    "def selectionSort(arr):\n",
    "        # find the length of the array \n",
    "        n = len(arr)\n",
    "        \n",
    "        for i in range(n):\n",
    "            min_index = i\n",
    "            # find the minimum index from the undsorted part \n",
    "            for j in range(i+1, n):\n",
    "                if arr[j] < arr[min_index]:\n",
    "                    min_index = j\n",
    "            if i != min_index:\n",
    "                arr[min_index], arr[i] = arr[i], arr[min_index] #swapping\n",
    "        return arr"
   ]
  },
  {
   "cell_type": "markdown",
   "id": "68a39cfb-7e1b-4ba1-b99d-eaddc8ea0534",
   "metadata": {},
   "source": [
    "### 2 BUBBLE SORT \n",
    "- https://www.geeksforgeeks.org/problems/bubble-sort/1"
   ]
  },
  {
   "cell_type": "code",
   "execution_count": 4,
   "id": "c6b50ec9-76ca-4938-a32c-9cdf466ecb8a",
   "metadata": {},
   "outputs": [],
   "source": [
    "def bubbleSort(arr):\n",
    "        # Bubble sort: compare the adjesent elements \n",
    "        n = len(arr)\n",
    "        \n",
    "        for i in range(n-1):\n",
    "            swapped = False\n",
    "            \n",
    "            for j in range(n-1-i):\n",
    "                if arr[j] > arr[j+1]:\n",
    "                    arr[j], arr[j+1] = arr[j+1],arr[j]\n",
    "                    swapped = True \n",
    "            if swapped == False:\n",
    "                return arr\n",
    "        return arr"
   ]
  },
  {
   "cell_type": "markdown",
   "id": "84e42da2-7bd2-4a4c-b37c-8f1af73c3920",
   "metadata": {},
   "source": [
    "### 3 INSERTION SORT \n",
    "- https://www.geeksforgeeks.org/problems/insertion-sort/1"
   ]
  },
  {
   "cell_type": "code",
   "execution_count": 5,
   "id": "87378253-2b59-49dc-b8ec-4fd25514e651",
   "metadata": {},
   "outputs": [],
   "source": [
    "def insertion_sort(arr):\n",
    "    n = len(arr)\n",
    "\n",
    "    for i in range(1, n):\n",
    "        key = arr[i]\n",
    "        j = i - 1\n",
    "        # keep at sorted position\n",
    "        while j >= 0 and arr[j] > key:\n",
    "            arr[j+1] = arr[j]\n",
    "            j -= 1\n",
    "        arr[j+1] = key\n",
    "    return arr"
   ]
  },
  {
   "cell_type": "code",
   "execution_count": 8,
   "id": "eb6a55f2-d4d7-4b73-a2b9-9c102e3eedda",
   "metadata": {},
   "outputs": [
    {
     "data": {
      "text/plain": [
       "[1, 3, 7, 8, 9]"
      ]
     },
     "execution_count": 8,
     "metadata": {},
     "output_type": "execute_result"
    }
   ],
   "source": [
    "insertion_sort([7,9,3,1,8])"
   ]
  },
  {
   "cell_type": "markdown",
   "id": "6f8ceab8-f95e-4386-b607-555872a1a8e8",
   "metadata": {},
   "source": [
    "### 4 MERGE SORT\n",
    "- https://leetcode.com/problems/sort-an-array/"
   ]
  },
  {
   "cell_type": "markdown",
   "id": "802d2cd1-e158-4287-a9dd-8c1594125de6",
   "metadata": {},
   "source": [
    "- Given an array of integers nums, sort the array in ascending order and return it.\n",
    "\n",
    "- You must solve the problem without using any built-in functions in O(nlog(n)) time complexity and with the smallest space complexity possible."
   ]
  },
  {
   "cell_type": "code",
   "execution_count": 1,
   "id": "2eba1c41-fc4a-4d54-bef8-9c3e3cadaf86",
   "metadata": {},
   "outputs": [],
   "source": [
    "def sortArray(nums): # divide and merge\n",
    "        if len(nums) > 1:\n",
    "            mid = len(nums) // 2 # finding the middle \n",
    "            left_half = nums[:mid] # divide left \n",
    "            right_half = nums[mid:] # divide right \n",
    "            # recursive dividing till single element finds\n",
    "            self.sortArray(left_half) # List is mutable, pass to function as object\n",
    "            self.sortArray(right_half)\n",
    "\n",
    "            i = j = k = 0\n",
    "\n",
    "            while i < len(left_half) and j < len(right_half):\n",
    "                if left_half[i] < right_half[j]:\n",
    "                    nums[k] = left_half[i]\n",
    "                    i += 1\n",
    "                else:\n",
    "                    nums[k] = right_half[j]\n",
    "                    j += 1\n",
    "                k += 1\n",
    "            \n",
    "            # for remining elements\n",
    "            while i < len(left_half):\n",
    "                nums[k] = left_half[i]\n",
    "                k += 1\n",
    "                i += 1\n",
    "            while j < len(right_half):\n",
    "                nums[k] = right_half[j]\n",
    "                j += 1\n",
    "                k += 1\n",
    "        return nums"
   ]
  },
  {
   "cell_type": "markdown",
   "id": "5b1c01b9-85ae-44f4-a40d-c57f5a1c46ea",
   "metadata": {},
   "source": [
    "### 5 QUICK SORT \n",
    "- https://www.geeksforgeeks.org/problems/quick-sort/1"
   ]
  },
  {
   "cell_type": "code",
   "execution_count": 1,
   "id": "26936116-834b-4547-ae29-39b58a7305b3",
   "metadata": {},
   "outputs": [],
   "source": [
    "def quickSort(arr):\n",
    "        if len(arr) <= 1:\n",
    "            return arr\n",
    "        \n",
    "        pivot = arr[0]\n",
    "        left = [x for x in arr if x < pivot]\n",
    "        middle = [x for x in arr if x == pivot]\n",
    "        right = [x for x in arr if x > pivot]\n",
    "        \n",
    "        return quickSort(left) + middle + quickSort(right)"
   ]
  },
  {
   "cell_type": "code",
   "execution_count": 7,
   "id": "ba0914c2-b16f-4059-a897-157c0838c743",
   "metadata": {},
   "outputs": [],
   "source": [
    "# Best way T O(nlogn) S O(logn) - recursice stack\n",
    "def quickSort(arr, low, high):\n",
    "        # partition\n",
    "        if low < high:\n",
    "            pi = partition(arr, low, high) # get partition index\n",
    "            quickSort(arr, low, pi-1)\n",
    "            quickSort(arr, pi+1, high)\n",
    "            return arr\n",
    "    \n",
    "def partition(arr, low, high):\n",
    "        pivot = arr[low]\n",
    "        i = low \n",
    "        \n",
    "        for j in range(low+1, high+1):\n",
    "            if arr[j] < pivot:\n",
    "                i += 1\n",
    "                arr[i], arr[j] = arr[j], arr[i] # swapping \n",
    "        arr[low], arr[i] = arr[i], arr[low] # swapping pivot\n",
    "        return i"
   ]
  },
  {
   "cell_type": "code",
   "execution_count": 10,
   "id": "29c8342e-8c27-4545-b96b-c7807cd79b3e",
   "metadata": {},
   "outputs": [
    {
     "data": {
      "text/plain": [
       "[0, 1, 2, 3, 4, 9, 10]"
      ]
     },
     "execution_count": 10,
     "metadata": {},
     "output_type": "execute_result"
    }
   ],
   "source": [
    "quickSort([2,3,4,1,0,10,9], 0, 6)"
   ]
  }
 ],
 "metadata": {
  "kernelspec": {
   "display_name": "Python 3 (ipykernel)",
   "language": "python",
   "name": "python3"
  },
  "language_info": {
   "codemirror_mode": {
    "name": "ipython",
    "version": 3
   },
   "file_extension": ".py",
   "mimetype": "text/x-python",
   "name": "python",
   "nbconvert_exporter": "python",
   "pygments_lexer": "ipython3",
   "version": "3.13.5"
  }
 },
 "nbformat": 4,
 "nbformat_minor": 5
}
