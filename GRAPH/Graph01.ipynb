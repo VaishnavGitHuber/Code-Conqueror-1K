{
 "cells": [
  {
   "cell_type": "markdown",
   "id": "63b57860-6f38-443c-94dd-bd92b7a80f75",
   "metadata": {},
   "source": [
    "### Author : Vaishnav Krishna P\n",
    "vyshnavkrishnap2020@gmail.com"
   ]
  },
  {
   "cell_type": "markdown",
   "id": "d0288c58-9d98-4ba6-a66d-6f0b5063558d",
   "metadata": {},
   "source": [
    "### 1 ADJECENCY MATRIX"
   ]
  },
  {
   "cell_type": "code",
   "execution_count": 1,
   "id": "87260235-4931-469f-8393-d9890e453ea0",
   "metadata": {
    "scrolled": true
   },
   "outputs": [
    {
     "name": "stdout",
     "output_type": "stream",
     "text": [
      "[0, 1, 1, 0]\n",
      "[1, 0, 0, 1]\n",
      "[1, 0, 0, 1]\n",
      "[0, 1, 1, 0]\n"
     ]
    }
   ],
   "source": [
    "V = 4 # No of vertex / nodes\n",
    "# Define the adjecency matrix \n",
    "adj_matrix = [[0]*V for i in range(V)]\n",
    "\n",
    "edges = [(0,1), (0,2), (1,3), (2,3)] # Undirected\n",
    "\n",
    "for (u,v) in edges:\n",
    "    adj_matrix[u][v] = 1\n",
    "    adj_matrix[v][u] = 1\n",
    "\n",
    "for row in adj_matrix:\n",
    "    print(row)"
   ]
  },
  {
   "cell_type": "markdown",
   "id": "7f0517f1-a8cc-49c2-9db8-30417bb084c4",
   "metadata": {},
   "source": [
    "### 2. ADJECENCY LIST\n",
    "- https://www.geeksforgeeks.org/problems/print-adjacency-list-1587115620/1"
   ]
  },
  {
   "cell_type": "code",
   "execution_count": null,
   "id": "2e4af495-3c87-4b94-97a6-0787a1dc42ab",
   "metadata": {},
   "outputs": [],
   "source": [
    "def printGraph(self, V : int, edges : List[List[int]]) -> List[List[int]]:\n",
    "        # Define the adjecency list \n",
    "        adj_list = [[] for i in range(V)]\n",
    "        \n",
    "        for (u,v) in edges:\n",
    "            adj_list[u].append(v)\n",
    "            adj_list[v].append(u)\n",
    "        return adj_list"
   ]
  },
  {
   "cell_type": "markdown",
   "id": "63d0a5c7-e7b0-4f9b-8703-e2fa97134018",
   "metadata": {},
   "source": [
    "### 3 Depth First Search\n",
    "- https://www.geeksforgeeks.org/problems/depth-first-traversal-for-a-graph/1"
   ]
  },
  {
   "cell_type": "code",
   "execution_count": 1,
   "id": "1a486d78-93d9-4679-b07d-899da9994c64",
   "metadata": {},
   "outputs": [],
   "source": [
    "def dfs(adj):\n",
    "        V = len(adj)\n",
    "        visited = [False] * V\n",
    "        result = []\n",
    "        \n",
    "        def dfs(node):\n",
    "            visited[node] = True\n",
    "            result.append(node)\n",
    "            \n",
    "            for neighbour in adj[node]:\n",
    "                if not visited[neighbour]:\n",
    "                    dfs(neighbour)\n",
    "                    \n",
    "        dfs(0)\n",
    "        return result"
   ]
  },
  {
   "cell_type": "markdown",
   "id": "1cf966c5-c7dc-4ee8-83e0-76904c3bacb8",
   "metadata": {},
   "source": [
    "### 4 Bredth First Search\n",
    "- https://www.geeksforgeeks.org/problems/bfs-traversal-of-graph/1"
   ]
  },
  {
   "cell_type": "code",
   "execution_count": null,
   "id": "05531934-180e-4c8d-a9e6-4b08694843b1",
   "metadata": {},
   "outputs": [],
   "source": [
    "def bfs(adj):\n",
    "        visited = [False] * len(adj)\n",
    "        queue = [0]\n",
    "        visited[0] = True \n",
    "        result = []\n",
    "        \n",
    "        while queue:\n",
    "            node = queue.pop(0)\n",
    "            result.append(node)\n",
    "            \n",
    "            for neighbour in adj[node]:\n",
    "                if not visited[neighbour]:\n",
    "                    visited[neighbour] = True\n",
    "                    queue.append(neighbour)\n",
    "        return result"
   ]
  },
  {
   "cell_type": "markdown",
   "id": "d766cf20-a31e-4c5d-979a-39c98a6805a6",
   "metadata": {},
   "source": [
    "### 5 No of Provinces\n",
    "- https://leetcode.com/problems/number-of-provinces/submissions/1795340045/"
   ]
  },
  {
   "cell_type": "code",
   "execution_count": 4,
   "id": "18172772-8e26-4e43-b044-3f1fb1092041",
   "metadata": {},
   "outputs": [],
   "source": [
    "def findCircleNum(isConnected):\n",
    "        V = len(isConnected)\n",
    "        visited = [False] * V\n",
    "        \n",
    "        def dfs(city):\n",
    "            for neighbour in range(V):\n",
    "                if visited[neighbour] == False and isConnected[city][neighbour] == 1:\n",
    "                    visited[neighbour] = True\n",
    "                    dfs(neighbour)\n",
    "        \n",
    "        provinces = 0\n",
    "        for i in range(V):\n",
    "            if visited[i] == False:\n",
    "                dfs(i)\n",
    "                provinces += 1\n",
    "        return provinces"
   ]
  }
 ],
 "metadata": {
  "kernelspec": {
   "display_name": "Python 3 (ipykernel)",
   "language": "python",
   "name": "python3"
  },
  "language_info": {
   "codemirror_mode": {
    "name": "ipython",
    "version": 3
   },
   "file_extension": ".py",
   "mimetype": "text/x-python",
   "name": "python",
   "nbconvert_exporter": "python",
   "pygments_lexer": "ipython3",
   "version": "3.13.5"
  }
 },
 "nbformat": 4,
 "nbformat_minor": 5
}
