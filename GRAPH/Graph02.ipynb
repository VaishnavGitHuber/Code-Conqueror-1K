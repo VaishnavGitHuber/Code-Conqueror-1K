{
 "cells": [
  {
   "cell_type": "markdown",
   "id": "b48d159d-4581-4af5-a039-547dc36a7159",
   "metadata": {},
   "source": [
    "##### Vyshnav Krishna P\n",
    "vyshnavkrishnap2020@gmail.com"
   ]
  },
  {
   "cell_type": "markdown",
   "id": "ca3914ef-7836-4843-be75-7962506f5e8c",
   "metadata": {
    "scrolled": true
   },
   "source": [
    "### 6 NO OF ISLAND\n",
    "- https://leetcode.com/problems/number-of-islands/submissions/\n",
    "- https://www.geeksforgeeks.org/problems/find-the-number-of-islands/1"
   ]
  },
  {
   "cell_type": "code",
   "execution_count": 5,
   "id": "052fb032-6e63-4b4f-88c5-ba81dca4f4af",
   "metadata": {},
   "outputs": [],
   "source": [
    "def numIslands(grid):\n",
    "        m,n = len(grid), len(grid[0])\n",
    "        # Depth first search - recursion\n",
    "        def dfs(i:int, j:int):\n",
    "            if i < 0 or i >= m or j < 0 or j >= n or grid[i][j] != '1':\n",
    "                return \n",
    "            # To mark as visited\n",
    "            grid[i][j] = '0'\n",
    "            dfs(i-1,j)\n",
    "            dfs(i+1,j)\n",
    "            dfs(i,j-1)\n",
    "            dfs(i,j+1)\n",
    "        # To track the number of island\n",
    "        count = 0\n",
    "\n",
    "        for i in range(m):\n",
    "            for j in range(n):\n",
    "                if grid[i][j] == '1':\n",
    "                    dfs(i,j)\n",
    "                    count += 1\n",
    "        return count"
   ]
  },
  {
   "cell_type": "code",
   "execution_count": 8,
   "id": "03b39477-fbba-417d-988e-271c8978e9f5",
   "metadata": {},
   "outputs": [],
   "source": [
    "def numIslands(grid):\n",
    "        # Lets make m,n\n",
    "        m,n = len(grid), len(grid[0])\n",
    "        \n",
    "        def dfs(i:int, j:int):\n",
    "            if i < 0 or i >= m or j < 0 or j >= n or grid[i][j] != 'L':\n",
    "                return \n",
    "            grid[i][j] = 'W'\n",
    "            # 1st row\n",
    "            dfs(i-1,j-1)\n",
    "            dfs(i-1,j)\n",
    "            dfs(i-1,j+1)\n",
    "            # 2nd row\n",
    "            dfs(i,j-1)\n",
    "            dfs(i,j)\n",
    "            dfs(i,j+1)\n",
    "            # 3rd row\n",
    "            dfs(i+1,j-1)\n",
    "            dfs(i+1,j)\n",
    "            dfs(i+1,j+1)\n",
    "            \n",
    "        \n",
    "        # To track of no of island\n",
    "        count = 0\n",
    "        for i in range(m):\n",
    "            for j in range(n):\n",
    "                if grid[i][j] == 'L':\n",
    "                    dfs(i,j)\n",
    "                    count += 1\n",
    "        return count"
   ]
  },
  {
   "cell_type": "markdown",
   "id": "71d526fb-13c8-486a-a1e4-a5cc1c9bb15d",
   "metadata": {},
   "source": [
    "### 7 FLOOD FILL\n",
    "- https://leetcode.com/problems/flood-fill/description/\n",
    "- https://www.geeksforgeeks.org/problems/flood-fill-algorithm1856/1"
   ]
  },
  {
   "cell_type": "code",
   "execution_count": 10,
   "id": "a0547ddb-9fbd-4041-9185-8bd3d6f70e2e",
   "metadata": {},
   "outputs": [],
   "source": [
    "def floodFill(image):\n",
    "        m,n = len(image), len(image[0])\n",
    "        orginal_color = image[sr][sc]\n",
    "\n",
    "        # TO avaoid the recursion depth \n",
    "        if color == orginal_color:\n",
    "            return image\n",
    "\n",
    "        def dfs(i:int, j:int):\n",
    "            if i < 0 or i >= m or j < 0 or j >= n or image[i][j] != orginal_color:\n",
    "                return \n",
    "            image[i][j] = color\n",
    "            dfs(i-1,j)\n",
    "            dfs(i+1,j)\n",
    "            dfs(i,j-1)\n",
    "            dfs(i,j+1)\n",
    "        \n",
    "        dfs(sr,sc)\n",
    "        return image"
   ]
  },
  {
   "cell_type": "markdown",
   "id": "f683bb49-1ffe-4d42-9005-b98c4495ac37",
   "metadata": {},
   "source": [
    "### 8 ROTTEN ORANGE\n",
    "- https://leetcode.com/problems/rotting-oranges/"
   ]
  },
  {
   "cell_type": "code",
   "execution_count": 1,
   "id": "8d3f21b4-31b1-474a-8a2f-b3490d8f08a4",
   "metadata": {},
   "outputs": [],
   "source": [
    "def orangesRotting(grid):\n",
    "        row, col = len(grid), len(grid[0])\n",
    "        # Step 1: Take the count of no of fresh fruits, enque the rotten orange \n",
    "        fresh_orange = 0\n",
    "        queue = []\n",
    "\n",
    "        for i in range(row):\n",
    "            for j in range(col):\n",
    "                if grid[i][j] == 1:\n",
    "                    fresh_orange += 1\n",
    "                elif grid[i][j] == 2:\n",
    "                    queue.append((i,j,0)) # (row, col, time)\n",
    "        \n",
    "        # Step 2 : spread rotten BFS\n",
    "        time = 0\n",
    "        directions = [(-1,0), (1,0), (0,-1), (0,1)]\n",
    "        while queue:\n",
    "            ro,co,time = queue.pop(0)\n",
    "\n",
    "            for r,c in directions:\n",
    "                nr,nc = ro+r, co+c\n",
    "                if 0 <= nr < row and 0 <= nc < col and grid[nr][nc] == 1:\n",
    "                    grid[nr][nc] = 2\n",
    "                    fresh_orange -= 1\n",
    "                    queue.append((nr,nc, time+1))\n",
    "        # Return time if all ornages are rotten else -1\n",
    "        return time if fresh_orange == 0 else -1"
   ]
  },
  {
   "cell_type": "markdown",
   "id": "4efb32c2-1c04-4a51-bddc-ed0aaffc713e",
   "metadata": {},
   "source": [
    "### 9 CYCLE IN DIRECTED GRAPH \n",
    "- https://www.geeksforgeeks.org/problems/detect-cycle-in-an-undirected-graph/1"
   ]
  },
  {
   "cell_type": "code",
   "execution_count": 9,
   "id": "a0cc876c-d79c-481e-a5b6-7f100aa5383a",
   "metadata": {},
   "outputs": [],
   "source": [
    "# Cycle in the Graph using BFS\n",
    "def isCycle(V, edges):\n",
    "\tadj = [[] for i in range(V)]\n",
    "\tfor (u,v) in edges:\n",
    "\t    adj[u].append(v)\n",
    "\t    adj[v].append(u)\n",
    "\t        \n",
    "\tvisited = [False] * V\n",
    "\t\t\n",
    "\tfor i in range(V):\n",
    "\t\tif not visited[i]:\n",
    "\t\t    queue = [(i,-1)]\n",
    "\t\t    visited[i] = True\n",
    "\t\t        \n",
    "\t\t    while queue:\n",
    "\t\t        node, parent = queue.pop(0)\n",
    "\t\t            \n",
    "\t\t        for neighbour in adj[node]:\n",
    "\t\t            if not visited[neighbour]:\n",
    "\t\t                visited[neighbour] = True\n",
    "\t\t                queue.append((neighbour, node)) # (node, parent)\n",
    "\t\t            elif neighbour != parent:\n",
    "\t\t                return True\n",
    "\treturn False"
   ]
  },
  {
   "cell_type": "markdown",
   "id": "e1773796-f10e-4b0b-9a92-6aa985b4c0b0",
   "metadata": {},
   "source": [
    "10 CYCLE IN DIRECTED GRAPH\n",
    "- https://www.geeksforgeeks.org/problems/detect-cycle-in-an-undirected-graph/1"
   ]
  },
  {
   "cell_type": "code",
   "execution_count": 1,
   "id": "42fc4481-b798-4de7-a1b9-acdb328401fa",
   "metadata": {},
   "outputs": [],
   "source": [
    "def isCycle(self, V, edges):\n",
    "\t   # Creating a Adjecency List \n",
    "\t   adj = [[] for i in range(V)]\n",
    "\t   for (u,v) in edges:\n",
    "\t       adj[u].append(v)\n",
    "\t       adj[v].append(u)\n",
    "\t   visited = [False] * V\n",
    "\t   \n",
    "\t   def dfs(node, parent):\n",
    "\t       visited[node] = True\n",
    "\t       \n",
    "\t       for neighbour in adj[node]:\n",
    "\t           if not visited[neighbour]:\n",
    "\t               if dfs(neighbour, node):\n",
    "\t                   return True\n",
    "\t           else:\n",
    "\t               if parent != neighbour:\n",
    "\t                   return True\n",
    "\t   \n",
    "\t   for i in range(V):\n",
    "\t       if not visited[i]:\n",
    "\t          if dfs(i, -1):\n",
    "\t              return True\n",
    "\t   return False"
   ]
  }
 ],
 "metadata": {
  "kernelspec": {
   "display_name": "Python 3 (ipykernel)",
   "language": "python",
   "name": "python3"
  },
  "language_info": {
   "codemirror_mode": {
    "name": "ipython",
    "version": 3
   },
   "file_extension": ".py",
   "mimetype": "text/x-python",
   "name": "python",
   "nbconvert_exporter": "python",
   "pygments_lexer": "ipython3",
   "version": "3.13.5"
  }
 },
 "nbformat": 4,
 "nbformat_minor": 5
}
