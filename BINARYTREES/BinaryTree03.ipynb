{
 "cells": [
  {
   "cell_type": "markdown",
   "id": "f7f7a6f3-0259-4a6e-ad06-c01dcf161505",
   "metadata": {},
   "source": [
    "### Author : Vaishnav Krishna P\n",
    "vyshnavkrishnap2020@gmail.com"
   ]
  },
  {
   "cell_type": "markdown",
   "id": "c78aa546-8b97-4071-84d9-569e9e4309aa",
   "metadata": {},
   "source": [
    "### 6 BALANCED BINARY TREE\n",
    "- https://leetcode.com/problems/balanced-binary-tree/"
   ]
  },
  {
   "cell_type": "markdown",
   "id": "e0647f7b-9e9f-441a-b90b-f4a6b460887a",
   "metadata": {},
   "source": [
    "- Given a binary tree, determine if it is height-balanced.\n",
    "\n",
    "- **Balanced binary tree** if the abs(height of left sub tree and height of right subtree) <= 1\n",
    "\n",
    "  \n",
    "\n",
    "##### Example 1:\n",
    "\n",
    "![](IMAGES/balancetree.jpg)\n",
    "- Input: root = [3,9,20,null,null,15,7]\n",
    "- Output: true"
   ]
  },
  {
   "cell_type": "code",
   "execution_count": 4,
   "id": "d125b031-2c07-4df1-9fde-a7a0ce4bf1e3",
   "metadata": {},
   "outputs": [],
   "source": [
    "def height_tree(root):\n",
    "        # if the node is none return 0\n",
    "        if root is None:\n",
    "            return 0\n",
    "\n",
    "        results = []\n",
    "        queue = [root]\n",
    "\n",
    "        while queue:\n",
    "            current_nodes = []\n",
    "            current_height = len(queue)\n",
    "\n",
    "            for _ in range(current_height):\n",
    "                current_node = queue.pop(0)\n",
    "                current_nodes.append(current_node.val)\n",
    "\n",
    "                if current_node.left:\n",
    "                    queue.append(current_node.left)\n",
    "                if current_node.right:\n",
    "                    queue.append(current_node.right)\n",
    "            results.append(current_nodes)\n",
    "        return len(results)"
   ]
  },
  {
   "cell_type": "code",
   "execution_count": 13,
   "id": "905f65b8-0110-48e8-aafe-bbe8021c59bd",
   "metadata": {},
   "outputs": [],
   "source": [
    "# function to find the maximum depth of the tree/height \n",
    "def isBalanced(root):\n",
    "        # if the node is empty then balanced\n",
    "        if root is None:\n",
    "            return True\n",
    "        \n",
    "        # check the height of left and right\n",
    "        LH = self.height_tree(root.left)\n",
    "        RH = self.height_tree(root.right)\n",
    "\n",
    "        # if the difference in height is > 1 return false \n",
    "        if abs(LH - RH) > 1:\n",
    "            return False\n",
    "        \n",
    "        # checking the next nodes \n",
    "        left = self.isBalanced(root.left)\n",
    "        right = self.isBalanced(root.right)\n",
    "\n",
    "        if left == False or right == False:\n",
    "            return False\n",
    "        \n",
    "        return True"
   ]
  },
  {
   "cell_type": "markdown",
   "id": "f9fa42a4-0f65-41b5-b58a-486634a541cf",
   "metadata": {},
   "source": [
    "### 7 DIAMETER OF BINARY TREE\n",
    "- https://leetcode.com/problems/diameter-of-binary-tree/description/"
   ]
  },
  {
   "cell_type": "markdown",
   "id": "207e4c60-301d-47b3-a4fd-f56ab1d0fe5e",
   "metadata": {},
   "source": [
    "- Given the root of a binary tree, return the length of the diameter of the tree.\n",
    "\n",
    "- The diameter of a binary tree is the length of the longest path between any two nodes in a tree. This path may or may not pass through the root.\n",
    "\n",
    "- The length of a path between two nodes is represented by the number of edges between them."
   ]
  },
  {
   "cell_type": "markdown",
   "id": "c7af0f4b-13cd-46ea-b809-99f2e64352bf",
   "metadata": {},
   "source": [
    "##### EXAMPLE 01\n",
    "![](IMAGES/diametertree.jpg)\n",
    "- Input: root = [1,2,3,4,5]\n",
    "- Output: 3\n",
    "- Explanation: 3 is the length of the path [4,2,1,3] or [5,2,1,3]."
   ]
  },
  {
   "cell_type": "code",
   "execution_count": 20,
   "id": "00e04271-7ff1-4e3d-ba74-274484fe158f",
   "metadata": {},
   "outputs": [],
   "source": [
    "def diameterOfBinaryTree(root):\n",
    "        # if the node is none\n",
    "        if root is None:\n",
    "            return 0\n",
    "        \n",
    "        LH = self.height_tree(root.left)\n",
    "        RH = self.height_tree(root.right)\n",
    "\n",
    "        # storing the maximum height \n",
    "        self.max_diameter = max(self.max_diameter, LH + RH)\n",
    "\n",
    "        self.diameterOfBinaryTree(root.left)\n",
    "        self.diameterOfBinaryTree(root.right)\n",
    "\n",
    "        return self.max_diameter"
   ]
  },
  {
   "cell_type": "markdown",
   "id": "7b9d5152-6f97-4aa2-97ab-a3110e6e4637",
   "metadata": {},
   "source": [
    "### BINARY POSTORDER TRAVERSAL(ITERATIVE - STACK)\n",
    "- https://leetcode.com/problems/binary-tree-postorder-traversal/"
   ]
  },
  {
   "cell_type": "code",
   "execution_count": 3,
   "id": "b7fc0412-6a15-4707-b529-4859bbee6516",
   "metadata": {},
   "outputs": [],
   "source": [
    "def postorderTraversal(root):\n",
    "        # Exception case\n",
    "        if root is None:\n",
    "            return []\n",
    "\n",
    "        stack1 = [root]\n",
    "        stack2 = []\n",
    "        result = []\n",
    "\n",
    "        while stack1:\n",
    "            current = stack1.pop()\n",
    "            stack2.append(current)\n",
    "\n",
    "            # if left node exist \n",
    "            if current.left:\n",
    "                stack1.append(current.left)\n",
    "            if current.right:\n",
    "                stack1.append(current.right)\n",
    "        \n",
    "        while stack2:\n",
    "            result.append(stack2.pop().val)\n",
    "\n",
    "        return result"
   ]
  },
  {
   "cell_type": "markdown",
   "id": "9e9936f7-06bf-47af-a2fb-b2f5b5ce6cd4",
   "metadata": {},
   "source": [
    "### BINARY INORDER TRAVERSAL\n",
    "- https://leetcode.com/problems/binary-tree-inorder-traversal/"
   ]
  },
  {
   "cell_type": "code",
   "execution_count": 6,
   "id": "83bf4823-b029-448c-a6f9-dd979bcae3f7",
   "metadata": {},
   "outputs": [],
   "source": [
    "def inorderTraversal(root):\n",
    "        # stack : to keep track of nodes \n",
    "        stack = []\n",
    "        result = [] # to track the values of nodes \n",
    "        current = root \n",
    "\n",
    "        while current is not None or stack:\n",
    "            # go to the left most node \n",
    "            while current:\n",
    "                stack.append(current)\n",
    "                current = current.left\n",
    "            \n",
    "            # process the node \n",
    "            current = stack.pop()\n",
    "            result.append(current.val)\n",
    "\n",
    "            # go to right \n",
    "            current = current.right\n",
    "        return result"
   ]
  },
  {
   "cell_type": "markdown",
   "id": "70723d73-6ce2-4042-b070-04f4d341868a",
   "metadata": {},
   "source": [
    "### BINARY PREORDER TRAVERSAL\n",
    "- https://leetcode.com/problems/binary-tree-preorder-traversal/"
   ]
  },
  {
   "cell_type": "code",
   "execution_count": 9,
   "id": "f59241c5-2547-46d5-899b-4253c8019fe0",
   "metadata": {},
   "outputs": [],
   "source": [
    "def preorderTraversal(root):\n",
    "        result = []\n",
    "        stack = [root]\n",
    "\n",
    "        # to handle when the root is None\n",
    "        if root is None:\n",
    "            return []\n",
    "        \n",
    "        while stack:\n",
    "            current_node = stack.pop() # remove from end \n",
    "            result.append(current_node.val)\n",
    "\n",
    "            # if there is a node at right\n",
    "            if current_node.right:\n",
    "                stack.append(current_node.right)\n",
    "            if current_node.left:\n",
    "                stack.append(current_node.left)\n",
    "\n",
    "        return result"
   ]
  },
  {
   "cell_type": "markdown",
   "id": "a42feca1-16fc-4e78-a5f1-4a264c81f12b",
   "metadata": {},
   "source": [
    "### 8  MAXIMUM WIDTH OF A BINARY TREE\n",
    "- https://leetcode.com/problems/maximum-width-of-binary-tree/description/"
   ]
  },
  {
   "cell_type": "markdown",
   "id": "750ce5d5-f7d7-4d4e-8a65-bd6f70bb3720",
   "metadata": {},
   "source": [
    "- Given the root of a binary tree, return the maximum width of the given tree.\n",
    "\n",
    "- The maximum width of a tree is the maximum width among all levels.\n",
    "\n",
    "- The width of one level is defined as the length between the end-nodes (the leftmost and rightmost non-null nodes), where the null nodes between the end-nodes that would be present in a complete binary tree extending down to that level are also counted into the length calculation.\n",
    "\n"
   ]
  },
  {
   "cell_type": "markdown",
   "id": "dd42b014-5b0f-44d3-8e41-26d1ce4e49f0",
   "metadata": {},
   "source": [
    "##### EXAMPLE 01\n",
    "![](IMAGES/maximumwidth.jpg)\n",
    "- Input: root = [1,3,2,5,3,null,9]\n",
    "- Output: 4\n",
    "- Explanation: The maximum width exists in the third level with length 4 (5,3,null,9)."
   ]
  },
  {
   "cell_type": "code",
   "execution_count": 2,
   "id": "b84d569b-ce9d-4278-8940-58ae58aa838e",
   "metadata": {},
   "outputs": [],
   "source": [
    "def widthOfBinaryTree(root):\n",
    "        # queue datastructure to keep track of elements\n",
    "        queue = [(root, 0)]\n",
    "        maximum_width = 0\n",
    "\n",
    "        while queue:\n",
    "            level_length = len(queue)\n",
    "            _ , start_idx = queue[0]\n",
    "            _ , last_idx = queue[-1]\n",
    "            # updating the maximum width : last_index - start_index + 1\n",
    "            maximum_width = max(maximum_width, last_idx - start_idx + 1)\n",
    "\n",
    "            for _ in range(level_length):\n",
    "                current,idx = queue.pop(0)\n",
    "                # indexing the nodes \n",
    "                if current.left:\n",
    "                    queue.append((current.left, 2 * idx))\n",
    "                if current.right:\n",
    "                    queue.append((current.right, 2 * idx + 1))\n",
    "        \n",
    "        return maximum_width"
   ]
  },
  {
   "cell_type": "markdown",
   "id": "4ba4eb5f-7ccc-4aaf-9a86-3de1447866d4",
   "metadata": {},
   "source": [
    "### 9 SAME TREE\n",
    "- https://leetcode.com/problems/same-tree/description/"
   ]
  },
  {
   "cell_type": "markdown",
   "id": "b85f6b6a-49eb-463f-a921-1aa5d975b9fd",
   "metadata": {},
   "source": [
    "- Given the roots of two binary trees p and q, write a function to check if they are the same or not.\n",
    "\n",
    "- Two binary trees are considered the same if they are structurally identical, and the nodes have the same value.\n",
    "\n"
   ]
  },
  {
   "cell_type": "markdown",
   "id": "3443b05a-6836-4892-8499-0be9f0cad6a3",
   "metadata": {},
   "source": [
    "##### Example 1:\n",
    "![](IMAGES/sametree.jpg)\n",
    "- Input: p = [1,2,3], q = [1,2,3]\n",
    "- Output: true"
   ]
  },
  {
   "cell_type": "code",
   "execution_count": 3,
   "id": "dd944567-95ea-443c-914d-b846bd8ad4a6",
   "metadata": {},
   "outputs": [],
   "source": [
    "def isSameTree(root):\n",
    "        if p is None or q is None:\n",
    "            return p == q\n",
    "\n",
    "        if p.val == q.val and self.isSameTree(p.left, q.left) and self.isSameTree(p.right, q.right):\n",
    "            return True\n",
    "        return False"
   ]
  },
  {
   "cell_type": "markdown",
   "id": "83642da1-9789-421e-9dde-ddf530279edf",
   "metadata": {},
   "source": [
    "### 10 BINARY TREE ZIGZAG TRAVERSAL\n",
    "- https://leetcode.com/problems/binary-tree-zigzag-level-order-traversal/description/"
   ]
  },
  {
   "cell_type": "markdown",
   "id": "98bbb904-b5bc-4275-bca4-10beb9ff639a",
   "metadata": {},
   "source": [
    "- Given the root of a binary tree, return the zigzag level order traversal of its nodes' values. (i.e., from left to right, then right to left for the next level and alternate between).\n",
    "\n",
    " \n",
    "\n",
    "##### Example 1:\n",
    "![](IMAGES/zigzag.jpg)\n",
    "- Input: root = [3,9,20,null,null,15,7]\n",
    "- Output: [[3],[20,9],[15,7]]"
   ]
  },
  {
   "cell_type": "code",
   "execution_count": 1,
   "id": "572c0180-b690-4c6f-865a-4ee4e5c37993",
   "metadata": {},
   "outputs": [],
   "source": [
    "def zigzagLevelOrder(root):\n",
    "        # if the root is None\n",
    "        if root is None:\n",
    "            return []\n",
    "        \n",
    "        queue = [root]\n",
    "        result = []\n",
    "        left_to_right = True\n",
    "\n",
    "        while queue:\n",
    "            level_size = len(queue)\n",
    "            current_level = []\n",
    "\n",
    "            # for single level itertaion\n",
    "            for _ in range(level_size):\n",
    "                current = queue.pop(0)\n",
    "                current_level.append(current.val)\n",
    "\n",
    "                if current.left:\n",
    "                    queue.append(current.left)\n",
    "                if current.right:\n",
    "                    queue.append(current.right)\n",
    "            \n",
    "            # if right to left reverse the list \n",
    "            if left_to_right != True:\n",
    "                current_level.reverse()\n",
    "            result.append(current_level)\n",
    "            # toggle the case\n",
    "            left_to_right = not left_to_right\n",
    "\n",
    "        return result"
   ]
  }
 ],
 "metadata": {
  "kernelspec": {
   "display_name": "Python 3 (ipykernel)",
   "language": "python",
   "name": "python3"
  },
  "language_info": {
   "codemirror_mode": {
    "name": "ipython",
    "version": 3
   },
   "file_extension": ".py",
   "mimetype": "text/x-python",
   "name": "python",
   "nbconvert_exporter": "python",
   "pygments_lexer": "ipython3",
   "version": "3.13.5"
  }
 },
 "nbformat": 4,
 "nbformat_minor": 5
}
