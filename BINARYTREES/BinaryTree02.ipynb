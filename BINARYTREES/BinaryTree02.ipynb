{
 "cells": [
  {
   "cell_type": "markdown",
   "id": "5566e34c-df68-4887-9e75-feb204e33212",
   "metadata": {},
   "source": [
    "### Author : Vaishnav Krishna P\n",
    "vyshnavkrishnap2020@gmail.com"
   ]
  },
  {
   "cell_type": "markdown",
   "id": "6540178e-c80f-4e21-b5fd-4987dba45a90",
   "metadata": {},
   "source": [
    "### 1 BINARY PRE ORDER TRAVERSAL\n",
    "- https://leetcode.com/problems/binary-tree-preorder-traversal/description/"
   ]
  },
  {
   "cell_type": "markdown",
   "id": "88d0d4f9-5e10-4f31-af66-18a5abfc06d9",
   "metadata": {},
   "source": [
    "- Given the root of a binary tree, return the preorder traversal of its nodes' values.\n",
    "##### Example 1:\n",
    "![](IMAGES/preordertraversal.png)\n",
    "\n",
    "- Input: root = [1,null,2,3]\n",
    "\n",
    "- Output: [1,2,3]"
   ]
  },
  {
   "cell_type": "code",
   "execution_count": 6,
   "id": "03c05e94-19db-40ec-b9cb-1ad631648e26",
   "metadata": {},
   "outputs": [],
   "source": [
    "def preorderTraversal(root):\n",
    "        if root is None:\n",
    "            return []\n",
    "        self.values.append(root.val)\n",
    "        self.preorderTraversal(root.left)\n",
    "        self.preorderTraversal(root.right)\n",
    "\n",
    "        return self.values"
   ]
  },
  {
   "cell_type": "markdown",
   "id": "c8f7e9fe-e823-48e2-b7e1-0437807e0c76",
   "metadata": {},
   "source": [
    "### 2 BINARY POST ORDER TRAVERSAL\n",
    "- https://leetcode.com/problems/binary-tree-postorder-traversal/"
   ]
  },
  {
   "cell_type": "markdown",
   "id": "c616adaa-0de9-4e05-be94-94910e0d2ed1",
   "metadata": {},
   "source": [
    "##### Example 1:\n",
    "![](IMAGES/postordertraversal.png)\n",
    "\n",
    "- Input: root = [1,null,2,3]\n",
    "\n",
    "- Output: [3,2,1]"
   ]
  },
  {
   "cell_type": "code",
   "execution_count": 10,
   "id": "a33f960f-6bb0-4ca6-857e-61bfe09eb798",
   "metadata": {},
   "outputs": [],
   "source": [
    "def postorderTraversal(root):\n",
    "        if root is None:\n",
    "            return []\n",
    "        self.postorderTraversal(root.left)\n",
    "        self.postorderTraversal(root.right)\n",
    "        self.values.append(root.val)\n",
    "\n",
    "        return self.values"
   ]
  },
  {
   "cell_type": "markdown",
   "id": "5968b1b8-220f-438f-afd1-f16de5729aac",
   "metadata": {},
   "source": [
    "### 3 BINARY INORDER TRAVERSAL\n",
    "- https://leetcode.com/problems/binary-tree-inorder-traversal/description/"
   ]
  },
  {
   "cell_type": "markdown",
   "id": "795fecf2-30b3-4693-9d41-f792480d54aa",
   "metadata": {},
   "source": [
    "##### Example 1:\n",
    "![](IMAGES/inordertraversal.png)\n",
    "- Input: root = [1,null,2,3]\n",
    "\n",
    "- Output: [1,3,2]"
   ]
  },
  {
   "cell_type": "code",
   "execution_count": 15,
   "id": "d693d405-7470-481c-824d-474b7f8afe63",
   "metadata": {},
   "outputs": [],
   "source": [
    "def inorderTraversal(root):\n",
    "        if root is None:\n",
    "            return []\n",
    "        self.inorderTraversal(root.left)\n",
    "        self.values.append(root.val)\n",
    "        self.inorderTraversal(root.right)\n",
    "        \n",
    "        return self.values"
   ]
  },
  {
   "cell_type": "markdown",
   "id": "8b2db626-29d2-485f-b944-978bbbf2dcf4",
   "metadata": {},
   "source": [
    "### 4 LEVEL ORDER TRAVERSAL\n",
    "- https://leetcode.com/problems/binary-tree-level-order-traversal/"
   ]
  },
  {
   "cell_type": "markdown",
   "id": "ce4ffcef-00e4-40b9-b15c-0dae20d755d9",
   "metadata": {},
   "source": [
    "- Given the root of a binary tree, return the level order traversal of its nodes' values. (i.e., from left to right, level by level).\n",
    "##### EXAMPLE 01\n",
    "![](IMAGES/levelordertraversal.jpg)\n",
    "- Input: root = [3,9,20,null,null,15,7]\n",
    "- Output: [[3],[9,20],[15,7]]"
   ]
  },
  {
   "cell_type": "code",
   "execution_count": 19,
   "id": "d7346b78-b091-45f3-bde7-4df7aa5bc5a9",
   "metadata": {},
   "outputs": [],
   "source": [
    "def levelOrder(root):\n",
    "        # Exception case handling \n",
    "        if root is None:\n",
    "            return []\n",
    "\n",
    "        # queue datastruture : keep track of levels \n",
    "        queue = [root]\n",
    "        result = []\n",
    "\n",
    "        while queue:\n",
    "            current_size = len(queue)\n",
    "            current_level = []\n",
    "\n",
    "            for _ in range(current_size):\n",
    "                current_node = queue.pop(0)\n",
    "                current_level.append(current_node.val)\n",
    "\n",
    "                if current_node.left:\n",
    "                    queue.append(current_node.left)\n",
    "                if current_node.right:\n",
    "                    queue.append(current_node.right)\n",
    "            result.append(current_level)\n",
    "        return result"
   ]
  },
  {
   "cell_type": "markdown",
   "id": "442c53f3-0bf3-4fb9-9208-29b15e6ea675",
   "metadata": {},
   "source": [
    "### 5 MAXIUMUM DEPTH OF TREE\n",
    "- https://leetcode.com/problems/maximum-depth-of-binary-tree/description/"
   ]
  },
  {
   "cell_type": "markdown",
   "id": "f0fe8fee-b8ea-4ab0-a30c-ddab60194ba7",
   "metadata": {},
   "source": [
    "- Given the root of a binary tree, return its maximum depth.\n",
    "\n",
    "- A binary tree's maximum depth is the number of nodes along the longest path from the root node down to the farthest leaf node."
   ]
  },
  {
   "cell_type": "markdown",
   "id": "81e9c0e3-757d-42b0-a188-b2271e77d771",
   "metadata": {},
   "source": [
    "![](IMAGES/maximumdepth.jpg)\n",
    "- Input: root = [3,9,20,null,null,15,7]\n",
    "- Output: 3"
   ]
  },
  {
   "cell_type": "code",
   "execution_count": 5,
   "id": "73c5ce1e-6590-47ad-b7dd-23239b116335",
   "metadata": {},
   "outputs": [],
   "source": [
    "def maxDepth(root):\n",
    "        # Exception case \n",
    "        if root is None:\n",
    "            return 0\n",
    "\n",
    "        result = [] \n",
    "        queue = [root] \n",
    "\n",
    "        while queue: # T O(n)\n",
    "            current_size = len(queue)\n",
    "            current_level = [] \n",
    "            \n",
    "            # traversal through the level\n",
    "            for _ in range(current_size): \n",
    "                current_node = queue.pop(0)\n",
    "                current_level.append(current_node.val)\n",
    "\n",
    "                if current_node.left:\n",
    "                    queue.append(current_node.left)\n",
    "                if current_node.right:\n",
    "                    queue.append(current_node.right)\n",
    "            result.append(current_level)\n",
    "            \n",
    "        return len(result)"
   ]
  }
 ],
 "metadata": {
  "kernelspec": {
   "display_name": "Python [conda env:anaconda3] *",
   "language": "python",
   "name": "conda-env-anaconda3-py"
  },
  "language_info": {
   "codemirror_mode": {
    "name": "ipython",
    "version": 3
   },
   "file_extension": ".py",
   "mimetype": "text/x-python",
   "name": "python",
   "nbconvert_exporter": "python",
   "pygments_lexer": "ipython3",
   "version": "3.12.7"
  }
 },
 "nbformat": 4,
 "nbformat_minor": 5
}
