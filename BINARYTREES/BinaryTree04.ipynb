{
 "cells": [
  {
   "cell_type": "markdown",
   "id": "65b7faac-4de2-40e9-97bd-8ef1db484643",
   "metadata": {},
   "source": [
    "### Author : Vaishnav Krishna P\n",
    "vyshnavkrishnap2020@gmail.com"
   ]
  },
  {
   "cell_type": "markdown",
   "id": "08edc1e2-9a1d-450a-8e66-a45e31e5910b",
   "metadata": {},
   "source": [
    "### 11 TREE BOUNDRY TRAVERSALS\n",
    "- https://www.geeksforgeeks.org/problems/boundary-traversal-of-binary-tree/1"
   ]
  },
  {
   "cell_type": "markdown",
   "id": "8e465745-4644-4e5c-a44f-d1258391609a",
   "metadata": {},
   "source": [
    "- Given a Binary Tree, find its Boundary Traversal. The traversal should be in the following order: \n",
    "\n",
    "- Left Boundary: This includes all the nodes on the path from the root to the leftmost leaf node. You must prefer the left child over the right child when traversing. Do not include leaf nodes in this section.\n",
    "- Leaf Nodes: All leaf nodes, in left-to-right order, that are not part of the left or right boundary.\n",
    "- Reverse Right Boundary: This includes all the nodes on the path from the rightmost leaf node to the root, traversed in reverse order. You must prefer the right child over the left child when traversing. Do not include the root in this section if it was already included in the left boundary.\n",
    "- Note: If the root doesn't have a left subtree or right subtree, then the root itself is the left or right boundary. "
   ]
  },
  {
   "cell_type": "markdown",
   "id": "835f478e-dfe5-4fd7-b333-e657a9f768f0",
   "metadata": {},
   "source": [
    "##### Example 01\n",
    "![](IMAGES/boundrytraversal.webp)\n",
    "- Input: root[] = [1, 2, 3, 4, 5, 6, 7, N, N, 8, 9, N, N, N, N]\n",
    "- Output: [1, 2, 4, 8, 9, 6, 7, 3]"
   ]
  },
  {
   "cell_type": "code",
   "execution_count": 8,
   "id": "ae2c9c7a-e041-40c7-92bb-21d9d262a17a",
   "metadata": {},
   "outputs": [],
   "source": [
    "def boundaryTraversal(root):\n",
    "        # To get the boundry of the tree \n",
    "        # helper function : check-leafnodes\n",
    "        # We have 3 steps,\n",
    "        # 1. Add left boundry except the leaf nodes \n",
    "        # 2. Add leaf nodes \n",
    "        # 3. Add right boundry except the leaf nodes \n",
    "        \n",
    "        # if the root is None -> return [] empty list \n",
    "        if root is None:\n",
    "            return []\n",
    "            \n",
    "        result = [] # to store the result of the traversals\n",
    "        \n",
    "        # helper function to check wheather a node is leaf node or not\n",
    "        def is_leaf_node(node):\n",
    "            return node.left is None and node.right is None\n",
    "        \n",
    "        # Add left boundry except the leaf nodes\n",
    "        def add_left_boundry(node):\n",
    "            while node:\n",
    "                if not is_leaf_node(node):\n",
    "                    result.append(node.data)\n",
    "                node = node.left if node.left else node.right\n",
    "        \n",
    "        # Add the leaf nodes : \n",
    "        def add_leaf_nodes(node):\n",
    "            # stopping condition\n",
    "            if node is None:\n",
    "                return\n",
    "\n",
    "            if is_leaf_node(node):\n",
    "                result.append(node.data)\n",
    "            else:\n",
    "                add_leaf_nodes(node.left)\n",
    "                add_leaf_nodes(node.right)\n",
    "            \n",
    "        # Add right boundry in reverse order \n",
    "        def add_right_boundry(node):\n",
    "            # to store the numbers in reverse order\n",
    "            stack = []\n",
    "            \n",
    "            while node:\n",
    "                if not is_leaf_node(node):\n",
    "                    stack.append(node.data)\n",
    "                node = node.right if node.right else node.left\n",
    "            \n",
    "            # adding to result node\n",
    "            while stack:\n",
    "                result.append(stack.pop())\n",
    "            \n",
    "        # 1. Add the root node\n",
    "        if not is_leaf_node(root):\n",
    "            result.append(root.data)\n",
    "        \n",
    "        # 2. Add the left boundry \n",
    "        add_left_boundry(root.left)\n",
    "        \n",
    "        # 3. Add leaf nodes\n",
    "        add_leaf_nodes(root)\n",
    "        \n",
    "        # 4. Add right boundry\n",
    "        add_right_boundry(root.right)\n",
    "        \n",
    "        return result"
   ]
  },
  {
   "cell_type": "markdown",
   "id": "38c374c1-0706-4ee8-9aa9-877afc8d4932",
   "metadata": {},
   "source": [
    "### 12 VERTICAL ORDER TRAVERSAL OF A BINARY TREE\n",
    "- https://leetcode.com/problems/vertical-order-traversal-of-a-binary-tree/description/"
   ]
  },
  {
   "cell_type": "markdown",
   "id": "f8ff0209-d475-4b1b-96dc-44b7bbc2eb47",
   "metadata": {},
   "source": [
    "- Given the root of a binary tree, calculate the vertical order traversal of the binary tree.\n",
    "\n",
    "- For each node at position (row, col), its left and right children will be at positions (row + 1, col - 1) and (row + 1, col + 1) respectively. The root of the tree is at (0, 0).\n",
    "\n",
    "- The vertical order traversal of a binary tree is a list of top-to-bottom orderings for each column index starting from the leftmost column and ending on the rightmost column. There may be multiple nodes in the same row and same column. In such a case, sort these nodes by their values.\n",
    "\n",
    "- Return the vertical order traversal of the binary tree."
   ]
  },
  {
   "cell_type": "markdown",
   "id": "44dbeb7a-83e7-4fee-b12c-11118361f455",
   "metadata": {},
   "source": [
    "![](IMAGES/verticaltraversal.jpg)\n",
    "- Input: root = [3,9,20,null,null,15,7]\n",
    "- Output: [[9],[3,15],[20],[7]]"
   ]
  },
  {
   "cell_type": "code",
   "execution_count": 1,
   "id": "de900f83-d415-4f9a-aaeb-e738be9c757b",
   "metadata": {},
   "outputs": [],
   "source": [
    "def verticalTraversal(root):\n",
    "        # Step 1 : Assaign row and column to each node \n",
    "        nodes = [] \n",
    "\n",
    "        def dfs(node, col, row):\n",
    "            if node is None:\n",
    "                return \n",
    "            nodes.append((col, row, node.val))\n",
    "            dfs(node.left, col - 1, row + 1)\n",
    "            dfs(node.right, col + 1, row + 1)\n",
    "        # start the function\n",
    "        dfs(root, 0, 0)\n",
    "\n",
    "        # step 2: to sort based on column, then row, then value.\n",
    "        nodes.sort(key = lambda x : (x[0], x[1], x[2]))\n",
    "\n",
    "        # step 3: return the result \n",
    "        result = []\n",
    "        prev_col = float('-inf')\n",
    "\n",
    "        for col, row, value in nodes:\n",
    "            if col != prev_col:\n",
    "                result.append([])\n",
    "                prev_col = col\n",
    "            result[-1].append(value)\n",
    "        # return result\n",
    "        return result"
   ]
  },
  {
   "cell_type": "markdown",
   "id": "1e5e2613-66c0-4d09-8fc2-843b1ad7bfa6",
   "metadata": {},
   "source": [
    "### 13 TOP VIEW OF BINARY TREE\n",
    "- https://www.geeksforgeeks.org/problems/top-view-of-binary-tree/1"
   ]
  },
  {
   "cell_type": "markdown",
   "id": "9b659465-c8ed-4d37-ae8e-57120937d0d6",
   "metadata": {},
   "source": [
    "- You are given a binary tree, and your task is to return its top view. The top view of a binary tree is the set of nodes visible when the tree is viewed from the top.\n",
    "\n",
    "- Note: \n",
    "\n",
    "Return the nodes from the leftmost node to the rightmost node.\n",
    "If two nodes are at the same position (horizontal distance) and are outside the shadow of the tree, consider the leftmost node only. "
   ]
  },
  {
   "cell_type": "markdown",
   "id": "911c1353-b7ac-47f7-9474-321200d5faae",
   "metadata": {},
   "source": [
    "##### EXAMPLE01\n",
    "![](IMAGES/topview.png)"
   ]
  },
  {
   "cell_type": "code",
   "execution_count": 2,
   "id": "f53e1d1b-2698-41c9-9649-e398c53e23c9",
   "metadata": {},
   "outputs": [],
   "source": [
    "def topView(root):\n",
    "        # Step 1: Assaign the column values to each of the nodes, \n",
    "        # add node of the node is first to the column\n",
    "        queue = [(root, 0)]\n",
    "        column_map = dict()\n",
    "        \n",
    "        while queue:\n",
    "            node, col = queue.pop(0)\n",
    "            \n",
    "            if col not in column_map:\n",
    "                column_map[col] = node.data\n",
    "                \n",
    "            if node.left:\n",
    "                queue.append((node.left, col - 1))\n",
    "            if node.right:\n",
    "                queue.append((node.right, col + 1))\n",
    "        # step 2: sort based on column and store the values return result\n",
    "        result = []\n",
    "        \n",
    "        for key in sorted(column_map.keys()):\n",
    "            result.append(column_map[key])\n",
    "        \n",
    "        return result"
   ]
  },
  {
   "cell_type": "markdown",
   "id": "b1d1b87b-976c-4a4f-b92d-9c320186d3b1",
   "metadata": {},
   "source": [
    "### 14 BOTTOM VIEW OF BINARY TREE\n",
    "- https://www.geeksforgeeks.org/problems/bottom-view-of-binary-tree/1"
   ]
  },
  {
   "cell_type": "markdown",
   "id": "d518ed21-8b5d-4c24-bf38-b9d0e96e0a03",
   "metadata": {},
   "source": [
    "- Given a binary tree, return an array where elements represent the bottom view of the binary tree from left to right.\n",
    "\n",
    "- Note: If there are multiple bottom-most nodes for a horizontal distance from the root, then the later one in the level order traversal is considered. For example, in the below diagram, 7 and 34 both are the bottommost nodes at a horizontal distance of 0 from the root, here 34 will be considered."
   ]
  },
  {
   "cell_type": "code",
   "execution_count": 1,
   "id": "2d3268b0-38c9-4231-b6f2-64d83506324a",
   "metadata": {},
   "outputs": [],
   "source": [
    "def bottomView(root):\n",
    "        # Step 1: Assaigning the column values to each and evry node, rewrite \n",
    "        # the node belong to the same column \n",
    "        queue = [(root, 0)]\n",
    "        column_map = dict()\n",
    "        \n",
    "        while queue:\n",
    "            node, col = queue.pop(0)\n",
    "            column_map[col] = node.data  # rewrites based on depth\n",
    "            \n",
    "            if node.left:\n",
    "                queue.append((node.left, col-1))\n",
    "            if node.right:\n",
    "                queue.append((node.right, col+1))\n",
    "                \n",
    "        # Step 2 : sort the values based on key and return the reuslt\n",
    "        result = []\n",
    "        \n",
    "        for key in sorted(column_map.keys()):\n",
    "            result.append(column_map[key])\n",
    "        \n",
    "        return result"
   ]
  },
  {
   "cell_type": "markdown",
   "id": "bf38a534-882e-4ac5-a8fb-e7a5498fc4ac",
   "metadata": {},
   "source": [
    "### 15 Right View of Binary Tree \n",
    "- https://leetcode.com/problems/binary-tree-right-side-view/submissions/1782985903/"
   ]
  },
  {
   "cell_type": "markdown",
   "id": "3e9285da-072b-4afd-bec9-6b548820b8ff",
   "metadata": {},
   "source": [
    "- Given the root of a binary tree, imagine yourself standing on the right side of it, return the values of the nodes you can see ordered from top to bottom.\n",
    "\n",
    " \n",
    "\n",
    "##### Example 1:\n",
    "\n",
    "- Input: root = [1,2,3,null,5,null,4]\n",
    "\n",
    "- Output: [1,3,4]"
   ]
  },
  {
   "cell_type": "code",
   "execution_count": 1,
   "id": "ce584fd4-3c64-43d2-94c2-1f64203222d7",
   "metadata": {},
   "outputs": [],
   "source": [
    "def rightSideView(root):\n",
    "        if root is None:\n",
    "            return []\n",
    "        # Right side view means, last element of each level \n",
    "        result = []\n",
    "        queue = [root]\n",
    "\n",
    "        while queue:\n",
    "            current_size = len(queue)\n",
    "\n",
    "            for i in range(current_size):\n",
    "                node = queue.pop(0)\n",
    "\n",
    "                if i == (current_size-1):\n",
    "                    result.append(node.val)\n",
    "                \n",
    "                if node.left:\n",
    "                    queue.append(node.left)\n",
    "                if node.right:\n",
    "                    queue.append(node.right)\n",
    "        return result"
   ]
  }
 ],
 "metadata": {
  "kernelspec": {
   "display_name": "Python 3 (ipykernel)",
   "language": "python",
   "name": "python3"
  },
  "language_info": {
   "codemirror_mode": {
    "name": "ipython",
    "version": 3
   },
   "file_extension": ".py",
   "mimetype": "text/x-python",
   "name": "python",
   "nbconvert_exporter": "python",
   "pygments_lexer": "ipython3",
   "version": "3.13.5"
  }
 },
 "nbformat": 4,
 "nbformat_minor": 5
}
