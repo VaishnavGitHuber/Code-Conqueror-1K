{
 "cells": [
  {
   "cell_type": "markdown",
   "id": "f7bd6195-7ae7-492b-a1f6-c77ff78cad4d",
   "metadata": {},
   "source": [
    "#### Author : Vaishnav Krishna P\n",
    "- vyshnavkrishnap2020@gmail.com"
   ]
  },
  {
   "cell_type": "markdown",
   "id": "777460ba-78ab-4473-8f38-1153c25ddf1e",
   "metadata": {},
   "source": [
    "### 16 Left side view of binary tree\n",
    "- https://www.geeksforgeeks.org/problems/left-view-of-binary-tree/1"
   ]
  },
  {
   "cell_type": "markdown",
   "id": "574c47f9-476b-433c-873b-f4e7a624214e",
   "metadata": {},
   "source": [
    "- Given the root of a binary tree. Your task is to return the left view of the binary tree. The left view of a binary tree is the set of nodes visible when the tree is viewed from the left side.\n",
    "\n",
    "- If the tree is empty, return an empty list."
   ]
  },
  {
   "cell_type": "code",
   "execution_count": 2,
   "id": "cdba8731-d2ae-4844-89c1-57e3412c6825",
   "metadata": {},
   "outputs": [],
   "source": [
    "def LeftView(root):\n",
    "        if root is None:\n",
    "            return []\n",
    "        # Left side view is the first element in every level \n",
    "        result = []\n",
    "        queue = [root]\n",
    "        \n",
    "        while queue:\n",
    "            current_size = len(queue)\n",
    "            \n",
    "            for i in range(current_size):\n",
    "                node = queue.pop(0)\n",
    "                \n",
    "                if i == 0:\n",
    "                    result.append(node.data)\n",
    "                    \n",
    "                if node.left:\n",
    "                    queue.append(node.left)\n",
    "                if node.right:\n",
    "                    queue.append(node.right)\n",
    "        return result"
   ]
  },
  {
   "cell_type": "markdown",
   "id": "70422d59-80f1-4a79-9431-c92eb92ba0b2",
   "metadata": {},
   "source": [
    "### 17 Find Bottom Left Tree Value\n",
    "- https://leetcode.com/problems/find-bottom-left-tree-value/description/"
   ]
  },
  {
   "cell_type": "markdown",
   "id": "17fb521c-9657-4468-a63a-52073b77e128",
   "metadata": {},
   "source": [
    "- Given the root of a binary tree, return the leftmost value in the last row of the tree."
   ]
  },
  {
   "cell_type": "code",
   "execution_count": 3,
   "id": "f547b0ec-b8d3-4307-9a79-c1eebac5e3c5",
   "metadata": {},
   "outputs": [],
   "source": [
    "def findBottomLeftValue(root):\n",
    "        # Traverse in level order and take the bottom most left element \n",
    "        bottom_most_left = None\n",
    "\n",
    "        queue = [root]\n",
    "\n",
    "        while queue:\n",
    "            current_size = len(queue)\n",
    "            \n",
    "            for i in range(current_size):\n",
    "                current = queue.pop(0)\n",
    "                # This condition will rewrite the left most element \n",
    "                if i == 0:\n",
    "                    bottom_most_left = current.val\n",
    "\n",
    "                if current.left:\n",
    "                    queue.append(current.left)\n",
    "                if current.right:\n",
    "                    queue.append(current.right)\n",
    "        return bottom_most_left"
   ]
  },
  {
   "cell_type": "markdown",
   "id": "d6269bf9-8e7f-45da-8730-653ea7b94464",
   "metadata": {},
   "source": [
    "### 18 Symetric Tree\n",
    "- https://leetcode.com/problems/symmetric-tree/description/"
   ]
  },
  {
   "cell_type": "markdown",
   "id": "7136f77c-8201-423f-9b37-02def25817a7",
   "metadata": {},
   "source": [
    "- Given the root of a binary tree, check whether it is a mirror of itself (i.e., symmetric around its center)."
   ]
  },
  {
   "cell_type": "code",
   "execution_count": 4,
   "id": "dfdb2334-1f40-46d5-80bf-8bc58ebd2bda",
   "metadata": {},
   "outputs": [],
   "source": [
    "def isSymmetric(root):\n",
    "        # if the root is None return true \n",
    "        if root is None:\n",
    "            return True \n",
    "        \n",
    "        queue = [(root.left, root.right)]\n",
    "        while queue:\n",
    "            a, b = queue.pop(0)\n",
    "            if a is None and b is None:\n",
    "                continue\n",
    "            if a is None or b is None:\n",
    "                return False\n",
    "            if a.val != b.val:\n",
    "                return False \n",
    "            queue.append((a.left, b.right))\n",
    "            queue.append((a.right, b.left))\n",
    "        return True "
   ]
  },
  {
   "cell_type": "markdown",
   "id": "a4a6025c-2923-4082-8a64-ed6aa8f7e57e",
   "metadata": {},
   "source": [
    "### 19 Count Number of Complete Tree Nodes\n",
    "- https://leetcode.com/problems/count-complete-tree-nodes/description/"
   ]
  },
  {
   "cell_type": "markdown",
   "id": "9605c1dd-f98e-447f-b078-61d5b5dc4d7e",
   "metadata": {},
   "source": [
    "- Given the root of a complete binary tree, return the number of the nodes in the tree.\n",
    "\n",
    "- According to Wikipedia, every level, except possibly the last, is completely filled in a complete binary tree, and all nodes in the last level are as far left as possible. It can have between 1 and 2h nodes inclusive at the last level h.\n",
    "\n",
    "- Design an algorithm that runs in less than O(n) time complexity."
   ]
  },
  {
   "cell_type": "code",
   "execution_count": 1,
   "id": "a3023177-80b5-4ea9-ab2f-21c02d62b7c6",
   "metadata": {},
   "outputs": [],
   "source": [
    "def countNodes(root):\n",
    "        # Step 1: if the root is None \n",
    "        if root is None:\n",
    "            return 0 \n",
    "        # Step 2: Lets keep the varible for the count of the nodes\n",
    "        count = 0\n",
    "        queue = [root]\n",
    "\n",
    "        while queue:\n",
    "            node = queue.pop(0)\n",
    "            count += 1\n",
    "\n",
    "            # if the left node exust \n",
    "            if node.left:\n",
    "                queue.append(node.left)\n",
    "            if node.right:\n",
    "                queue.append(node.right)\n",
    "        return count"
   ]
  },
  {
   "cell_type": "markdown",
   "id": "7f68a2d3-dd1c-44fd-a58d-5cb57d4774c1",
   "metadata": {},
   "source": [
    "### 20 Path Sum\n",
    "- https://leetcode.com/problems/path-sum/description/"
   ]
  },
  {
   "cell_type": "markdown",
   "id": "0c625dff-dd76-485d-bb7f-c61d6b869599",
   "metadata": {},
   "source": [
    "- Given the root of a binary tree and an integer targetSum, return true if the tree has a root-to-leaf path such that adding up all the values along the path equals targetSum.\n",
    "\n",
    "- A leaf is a node with no children."
   ]
  },
  {
   "cell_type": "code",
   "execution_count": 3,
   "id": "b2a769b9-b23e-48bd-8c58-d7f11ffdbb71",
   "metadata": {},
   "outputs": [],
   "source": [
    "def hasPathSum(root):\n",
    "        # if the root is None, return False \n",
    "        if root is None:\n",
    "            return False\n",
    "\n",
    "        # Target sum is subtracted root value\n",
    "        targetSum -= root.val\n",
    "        \n",
    "        # if it is leaf node check, target is meet \n",
    "        if root.left is None and root.right is None:\n",
    "            return targetSum == 0\n",
    "        \n",
    "        return self.hasPathSum(root.left, targetSum) or self.hasPathSum(root.right, targetSum)"
   ]
  }
 ],
 "metadata": {
  "kernelspec": {
   "display_name": "Python 3 (ipykernel)",
   "language": "python",
   "name": "python3"
  },
  "language_info": {
   "codemirror_mode": {
    "name": "ipython",
    "version": 3
   },
   "file_extension": ".py",
   "mimetype": "text/x-python",
   "name": "python",
   "nbconvert_exporter": "python",
   "pygments_lexer": "ipython3",
   "version": "3.13.5"
  }
 },
 "nbformat": 4,
 "nbformat_minor": 5
}
