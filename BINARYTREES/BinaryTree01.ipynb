{
 "cells": [
  {
   "cell_type": "markdown",
   "id": "1f5c8903-2451-4557-96d2-953005b34308",
   "metadata": {},
   "source": [
    "### Author : Vaishnav Krishna P\n",
    "vyshnavkrishnap2020@gmail.com"
   ]
  },
  {
   "cell_type": "markdown",
   "id": "37126df7-6413-4036-91ae-8798db47fa7b",
   "metadata": {},
   "source": [
    "### BINARY TREES\n",
    "- Introduction to binary trees.\n",
    "- Lot of questions has been asked regarding the binary trees.\n",
    "##### TERMS RELATED TO BINARY TREES\n",
    "1. Root : Top most node of the tree.\n",
    "2. Child node : Single element of the tree.\n",
    "3. leaf node : a node with no children.\n",
    "![](IMAGES/binarytree.jpeg)"
   ]
  },
  {
   "cell_type": "markdown",
   "id": "36a616db-f031-4c4c-b467-96a597eb1b83",
   "metadata": {},
   "source": [
    "##### TYPES OF TREES\n",
    "1. Full binary tree : Every node has 0 or 2 childrens \n",
    "![](IMAGES/fullbinarytree.png)\n",
    "2. Complete binary tree : All levels are completly filled except the last level.last level has to be filled from the left.\n",
    "![](IMAGES/completebinarytree.png)\n",
    "3. Perfect binary tree : all leaf nodes are at the same level.\n",
    "![](IMAGES/perfectbinarytree.png)\n",
    "4. Balanced binary tree : height of the tree has to be max of log(n)\n",
    "![](IMAGES/balancedbinarytree.jpeg)\n",
    "5. Degerate tree : skewed tree.\n",
    "![](IMAGES/degeneratebinarytree.jpeg)"
   ]
  },
  {
   "cell_type": "markdown",
   "id": "86ac2604-817b-42f9-91fe-2385816e9f78",
   "metadata": {},
   "source": [
    "#####  Code for creating a binary tree\n",
    "-                 1\n",
    "-             2       3\n",
    "-          4    5   6   7"
   ]
  },
  {
   "cell_type": "code",
   "execution_count": 12,
   "id": "40a5793d-cd99-4964-9204-b2c0dff16a89",
   "metadata": {},
   "outputs": [],
   "source": [
    "class Tree:\n",
    "    def __init__(self, data):\n",
    "        self.data = data\n",
    "        self.left = None\n",
    "        self.right = None "
   ]
  },
  {
   "cell_type": "code",
   "execution_count": 21,
   "id": "2c11e486-eba2-4c77-814f-024ea8228ad0",
   "metadata": {},
   "outputs": [],
   "source": [
    "# Binary tree \n",
    "root = Tree(1)\n",
    "root.left = Tree(2)\n",
    "root.right = Tree(3)\n",
    "root.left.left = Tree(4)\n",
    "root.left.right = Tree(5)\n",
    "root.right.left = Tree(6)\n",
    "root.right.right = Tree(7)"
   ]
  },
  {
   "cell_type": "code",
   "execution_count": 25,
   "id": "d45e2ac3-5129-4903-86bd-47aaaed6f49a",
   "metadata": {},
   "outputs": [
    {
     "name": "stdout",
     "output_type": "stream",
     "text": [
      "1\n",
      "2\n",
      "3\n",
      "4\n",
      "5\n",
      "6\n",
      "7\n"
     ]
    }
   ],
   "source": [
    "print(root.data)\n",
    "print(root.left.data)\n",
    "print(root.right.data)\n",
    "print(root.left.left.data)\n",
    "print(root.left.right.data)\n",
    "print(root.right.left.data)\n",
    "print(root.right.right.data)"
   ]
  }
 ],
 "metadata": {
  "kernelspec": {
   "display_name": "Python [conda env:anaconda3] *",
   "language": "python",
   "name": "conda-env-anaconda3-py"
  },
  "language_info": {
   "codemirror_mode": {
    "name": "ipython",
    "version": 3
   },
   "file_extension": ".py",
   "mimetype": "text/x-python",
   "name": "python",
   "nbconvert_exporter": "python",
   "pygments_lexer": "ipython3",
   "version": "3.12.7"
  }
 },
 "nbformat": 4,
 "nbformat_minor": 5
}
