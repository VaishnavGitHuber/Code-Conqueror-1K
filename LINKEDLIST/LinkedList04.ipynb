{
 "cells": [
  {
   "cell_type": "markdown",
   "id": "b1284816-29e3-4a41-aa78-7e833d3f107c",
   "metadata": {},
   "source": [
    "### Author : Vaishnav Krishna P\n",
    "vyshnavkrishnap2020@gmail.com"
   ]
  },
  {
   "cell_type": "markdown",
   "id": "2bdae39d-53f0-4bbf-880c-1ccc1b0a95ca",
   "metadata": {},
   "source": [
    "### 11 REMOVE Nth Node FROM THE END\n",
    "- https://leetcode.com/problems/remove-nth-node-from-end-of-list/"
   ]
  },
  {
   "cell_type": "markdown",
   "id": "8c1c72ef-b3b5-443b-83a5-9563cf16f1fe",
   "metadata": {},
   "source": [
    "##### Example 1:\n",
    "![](IMAGES/remove_ex1.jpg)\n",
    "- Input: head = [1,2,3,4,5], n = 2\n",
    "- Output: [1,2,3,5]"
   ]
  },
  {
   "cell_type": "code",
   "execution_count": 4,
   "id": "a1577d2c-b231-4e1d-abda-2ba5926956eb",
   "metadata": {},
   "outputs": [],
   "source": [
    "## calculating the number of nodes : Brute force approach\n",
    "def removeNthFromEnd(head):\n",
    "        # Step 1 : to find the No of nodes \n",
    "        count = 0\n",
    "        temp = head\n",
    "        while temp: # T O(count)\n",
    "            count += 1\n",
    "            temp = temp.next \n",
    "        \n",
    "        # Step 2 : Traversing till last n-1 th node to remove nth node\n",
    "        # Handling exception case \n",
    "        temp = head\n",
    "        step = count - n\n",
    "\n",
    "        if step == 0:\n",
    "            return head.next\n",
    "\n",
    "        for i in range(step-1):# T O(count - n - 1)\n",
    "            temp = temp.next\n",
    "        temp.next = temp.next.next\n",
    "\n",
    "        return head"
   ]
  },
  {
   "cell_type": "markdown",
   "id": "dd4f9b81-094c-4100-aa59-2a00d3b512b6",
   "metadata": {},
   "source": [
    "- Time complexcity : O(no_nodes(no_nodes-n-1))\n",
    "- Space complexcity : O(1)"
   ]
  },
  {
   "cell_type": "code",
   "execution_count": 7,
   "id": "9355bd0c-c959-48ca-9a97-044908d4c5f5",
   "metadata": {},
   "outputs": [],
   "source": [
    "# Using the fast and slow pointer approach \n",
    "def removeNthFromEnd(head):\n",
    "        # Moving the fast pointer\n",
    "        fast = head\n",
    "        for i in range(n):\n",
    "            fast = fast.next \n",
    "        # Exception case : delete the first node\n",
    "        if fast is None:\n",
    "            return head.next\n",
    "        \n",
    "        # Moving the slow pointer\n",
    "        slow = head\n",
    "        while fast.next:\n",
    "            fast = fast.next\n",
    "            slow = slow.next\n",
    "        slow.next = slow.next.next\n",
    "        return head"
   ]
  },
  {
   "cell_type": "markdown",
   "id": "1ff8afc2-f8ca-456c-9602-9cef98827490",
   "metadata": {},
   "source": [
    "- Time complexcity : O(n)\n",
    "- Space complexcity:  O(1)"
   ]
  },
  {
   "cell_type": "markdown",
   "id": "acaf7c5a-b0fb-4640-8fa3-dbfdc12f7355",
   "metadata": {},
   "source": [
    "### MIDDLE OF THE LINKED LIST(REVISED)\n",
    "- https://leetcode.com/problems/middle-of-the-linked-list/description/"
   ]
  },
  {
   "cell_type": "code",
   "execution_count": 2,
   "id": "cb517cee-f155-4f42-bc14-d728bd322549",
   "metadata": {},
   "outputs": [],
   "source": [
    "# Calculation based approach\n",
    "def middleNode(head):\n",
    "        # Find the count to reach the middle \n",
    "        count_nodes = 0\n",
    "        temp = head\n",
    "        while temp: # T O(n)\n",
    "            count_nodes += 1\n",
    "            temp = temp.next \n",
    "        \n",
    "        # Middle of the Linked List \n",
    "        middle_node = (count_nodes // 2) + 1\n",
    "\n",
    "        # Traversing till middle and returning nodes \n",
    "        temp = head\n",
    "        for i in range(middle_node-1):# T. O(n/2)\n",
    "            temp = temp.next\n",
    "        return temp"
   ]
  },
  {
   "cell_type": "markdown",
   "id": "1e86ceae-1b20-45c9-9764-7efd0b6339e5",
   "metadata": {},
   "source": [
    "- Time complexcity : O(3n/2)\n",
    "- Space complexcity : O(1)"
   ]
  },
  {
   "cell_type": "code",
   "execution_count": 15,
   "id": "520ad24f-5919-4526-befd-ba5ccaca1ed3",
   "metadata": {},
   "outputs": [],
   "source": [
    "# Tortoise and hare approach(slow-fast pointers)\n",
    "def middleNode(head):\n",
    "        # Tortoise and Hare algorithm\n",
    "        if head is None or head.next is None:\n",
    "            return head\n",
    "        \n",
    "        # slow and fast pointers \n",
    "        slow = head\n",
    "        fast = head\n",
    "\n",
    "        while fast and fast.next:# T O(n/2) S O(1)\n",
    "            slow = slow.next\n",
    "            fast = fast.next.next\n",
    "        return slow"
   ]
  },
  {
   "cell_type": "markdown",
   "id": "74333307-e462-4b40-bede-2886a45a0fc6",
   "metadata": {},
   "source": [
    "- Time complexcity : O(n/2)\n",
    "- Space complexcity : O(1)"
   ]
  },
  {
   "cell_type": "markdown",
   "id": "75868a62-0d80-41f8-9dcf-6f63df0b83b2",
   "metadata": {},
   "source": [
    "### REVERSE LINKED LIST(REVISED)\n",
    "- https://leetcode.com/problems/reverse-linked-list/"
   ]
  },
  {
   "cell_type": "code",
   "execution_count": 7,
   "id": "5c87668b-d8fb-4b0e-a32f-71f207e51667",
   "metadata": {},
   "outputs": [],
   "source": [
    "# Optimal approach : changing the links\n",
    "def reverseList(head):\n",
    "        # Ignoring the exception case\n",
    "        if head is None or head.next is None:\n",
    "            return head\n",
    "\n",
    "        prev,front = None,None\n",
    "        temp = head\n",
    "\n",
    "        while temp:\n",
    "            front = temp.next\n",
    "            temp.next = prev\n",
    "            prev = temp\n",
    "            temp = front\n",
    "        return prev"
   ]
  },
  {
   "cell_type": "markdown",
   "id": "59bb105f-8bf4-4a0e-af88-cfae2e847c4b",
   "metadata": {},
   "source": [
    "- Time complexcity : O(n)\n",
    "- Space complexcity : O(1)"
   ]
  },
  {
   "cell_type": "markdown",
   "id": "1e508434-700c-45a4-9ae7-793b39b46870",
   "metadata": {},
   "source": [
    "### PALINDROME LINKED LIST(REVISED)\n",
    "- https://leetcode.com/problems/palindrome-linked-list/"
   ]
  },
  {
   "cell_type": "code",
   "execution_count": 12,
   "id": "96ddd474-4ae0-4703-89c2-44d53ffc2b79",
   "metadata": {},
   "outputs": [],
   "source": [
    "# slow-fast pointers & revised approach\n",
    "# To reverse the second half of linked list\n",
    "def reverse(head):\n",
    "        if head is None or head.next is None:\n",
    "            return head\n",
    "\n",
    "        temp = head\n",
    "        prev = None\n",
    "        front = None \n",
    "\n",
    "        while temp:\n",
    "            front = temp.next\n",
    "            temp.next = prev\n",
    "            prev = temp\n",
    "            temp = front\n",
    "        return prev\n",
    "\n",
    "def isPalindrome(head):\n",
    "        # recgnising the secnd half\n",
    "        slow = head\n",
    "        fast = head\n",
    "        if fast is None or fast.next is None:\n",
    "            return True\n",
    "        # finding the middle using the slow-fast pointers \n",
    "        while fast.next and fast.next.next:# T O(n/2)\n",
    "            fast = fast.next.next\n",
    "            slow = slow.next\n",
    "        # reverse the second half \n",
    "        second = reverse(slow.next)\n",
    "        first = head\n",
    "        while second:# T O(n/2)\n",
    "            if second.val != first.val:\n",
    "                return False\n",
    "            second = second.next\n",
    "            first = first.next\n",
    "        return True"
   ]
  },
  {
   "cell_type": "markdown",
   "id": "b7af6493-3bcf-4b43-9a0e-596f212e57c4",
   "metadata": {},
   "source": [
    "- Time complexcity : O(n)\n",
    "- Space complexcity : O(1)"
   ]
  },
  {
   "cell_type": "markdown",
   "id": "a19c9e90-cad8-4111-a4a4-b9d19d853930",
   "metadata": {},
   "source": [
    "### 12 FIND LENGTH OF LOOP\n",
    "- https://www.geeksforgeeks.org/problems/find-length-of-loop/1"
   ]
  },
  {
   "cell_type": "code",
   "execution_count": 1,
   "id": "9dd50f43-4048-4790-a8dc-8fc7fedaac4a",
   "metadata": {},
   "outputs": [],
   "source": [
    "# Using Hashmap\n",
    "def lengthOfLoop(self, head):\n",
    "        #code here\n",
    "        timer = 0\n",
    "        hash_map = dict() # S: O(n)\n",
    "        temp = head\n",
    "        \n",
    "        while temp: # T: O(n)\n",
    "            timer += 1\n",
    "            if temp not in hash_map:\n",
    "                hash_map[temp] = timer\n",
    "            else:\n",
    "                return timer - hash_map[temp]\n",
    "            temp = temp.next\n",
    "        return 0"
   ]
  },
  {
   "cell_type": "markdown",
   "id": "dea2259d-975f-4e0a-8edd-cfab3ab29bc7",
   "metadata": {},
   "source": [
    "- Time compelexcity : O(n) \n",
    "- Space complecity : O(n)"
   ]
  },
  {
   "cell_type": "code",
   "execution_count": 2,
   "id": "9a9aeb85-eff8-4c27-8ee9-945b2218251d",
   "metadata": {},
   "outputs": [],
   "source": [
    "# Floyid cycle detection algorithm\n",
    "def lengthOfLoop(self, head):\n",
    "        fast = head \n",
    "        slow = head \n",
    "        \n",
    "        while fast and fast.next:\n",
    "            slow = slow.next\n",
    "            fast = fast.next.next\n",
    "            \n",
    "            if slow == fast: # Floyd's cycle detection algorithm\n",
    "                count = 1\n",
    "                temp = slow.next\n",
    "                \n",
    "                while temp != slow:\n",
    "                    count += 1\n",
    "                    temp = temp.next\n",
    "                return count\n",
    "        return 0"
   ]
  },
  {
   "cell_type": "markdown",
   "id": "b35322b3-d13f-4678-8bb7-af054871ae14",
   "metadata": {},
   "source": [
    "- n -> No of nodes, m -> no of nodes in cycle\n",
    "- Time compelexcity : O(n + m) \n",
    "- Space complecity : O(1)"
   ]
  },
  {
   "cell_type": "markdown",
   "id": "3fe6b811-976b-4c10-90aa-69635f0b03fe",
   "metadata": {},
   "source": [
    "### 13 DELETE MIDDLE OF LINKED LIST\n",
    "- https://leetcode.com/problems/delete-the-middle-node-of-a-linked-list/description/"
   ]
  },
  {
   "cell_type": "code",
   "execution_count": 1,
   "id": "577d4afe-9e5b-496b-a95c-59c0bfe928f7",
   "metadata": {},
   "outputs": [],
   "source": [
    "# Using the simple algorithm\n",
    "def deleteMiddle(head):\n",
    "        if head is None or head.next is None:\n",
    "            return None\n",
    "        temp = head\n",
    "        count = 0\n",
    "\n",
    "        while temp:\n",
    "            count += 1\n",
    "            temp = temp.next\n",
    "        mid_pos = count // 2\n",
    "\n",
    "        temp = head\n",
    "        for i in range(mid_pos-1):\n",
    "            temp = temp.next\n",
    "        temp.next = temp.next.next\n",
    "        return head"
   ]
  },
  {
   "cell_type": "markdown",
   "id": "d9a4f45c-3e42-4e18-99b6-87efb07d7342",
   "metadata": {},
   "source": [
    "- Time complexcity : O(3n/2)\n",
    "- Space complexcity: O(1)"
   ]
  },
  {
   "cell_type": "code",
   "execution_count": 2,
   "id": "45f7dbcd-f459-4b9c-abf8-7824d667ccba",
   "metadata": {},
   "outputs": [],
   "source": [
    "# Using Tortoise and Hare algorithm\n",
    "def deleteMiddle(head):\n",
    "        if head is None or head.next is None:\n",
    "            return None\n",
    "\n",
    "        slow = head\n",
    "        fast = head.next.next\n",
    "\n",
    "        while fast and fast.next:\n",
    "            slow = slow.next\n",
    "            fast = fast.next.next\n",
    "        slow.next = slow.next.next\n",
    "\n",
    "        return head"
   ]
  },
  {
   "cell_type": "markdown",
   "id": "58024f40-4ac4-4020-aec8-e3a5c22f5c7f",
   "metadata": {},
   "source": [
    "- Time complexcity : O(n/2)\n",
    "- Space complexcity: O(1)"
   ]
  },
  {
   "cell_type": "markdown",
   "id": "5cbef7bd-6681-4e8d-bdab-983b886f1f98",
   "metadata": {},
   "source": [
    "### 14 FIND THE FIRST NODE OF LOOP IN LINKED LIST\n",
    "- https://www.geeksforgeeks.org/problems/find-the-first-node-of-loop-in-linked-list--170645/1"
   ]
  },
  {
   "cell_type": "code",
   "execution_count": 4,
   "id": "ae600309-2552-4045-bd23-9a8e957c0399",
   "metadata": {},
   "outputs": [],
   "source": [
    "# Using Hashmap\n",
    "def cycleStart(head):\n",
    "        node_ref = set()\n",
    "        temp = head\n",
    "        \n",
    "        while temp:\n",
    "            if temp not in node_ref:\n",
    "                node_ref.add(temp)\n",
    "            else:\n",
    "                return temp.data\n",
    "            temp = temp.next\n",
    "        return -1"
   ]
  },
  {
   "cell_type": "markdown",
   "id": "090c7f63-e316-48a4-a24e-fba7f979b99d",
   "metadata": {},
   "source": [
    "- Time complexcity : O(n)\n",
    "- Space complexcity : O(n)"
   ]
  },
  {
   "cell_type": "code",
   "execution_count": 6,
   "id": "d60179b1-05ce-4979-a7f6-702f183d03fb",
   "metadata": {},
   "outputs": [],
   "source": [
    "# Using the Floyd's cycle detection algorithm\n",
    "def cycleStart(self, head):\n",
    "        slow = head\n",
    "        fast = head\n",
    "        \n",
    "        while fast and fast.next:\n",
    "            slow = slow.next\n",
    "            fast = fast.next.next\n",
    "            if slow == fast:\n",
    "                slow = head\n",
    "                while slow != fast:\n",
    "                    slow = slow.next\n",
    "                    fast = fast.next\n",
    "                return slow.data\n",
    "        return -1"
   ]
  },
  {
   "cell_type": "markdown",
   "id": "4fad88c0-af99-4861-a230-ad818e328e4f",
   "metadata": {},
   "source": [
    "- Time complexcity : O(n+m)\n",
    "- Space complexcity : O(1)"
   ]
  },
  {
   "cell_type": "markdown",
   "id": "d99bb747-d880-45d3-9ea9-a637b3890134",
   "metadata": {},
   "source": [
    "### 15 ADD 1 to Linked List\n",
    "- https://www.geeksforgeeks.org/problems/add-1-to-a-number-represented-as-linked-list/1"
   ]
  },
  {
   "cell_type": "code",
   "execution_count": 2,
   "id": "f77006b4-778a-4cb9-80cb-6e0eef562908",
   "metadata": {},
   "outputs": [],
   "source": [
    "class Solution:\n",
    "    # To reverse the linked list : S O(1) | T O(n)\n",
    "    def reverse_list(self, head):\n",
    "        prev = None\n",
    "        current = head\n",
    "        \n",
    "        while current:\n",
    "            front = current.next\n",
    "            current.next = prev\n",
    "            prev = current\n",
    "            current = front\n",
    "        return prev\n",
    "    \n",
    "    def addOne(self,head):\n",
    "        if head is None:\n",
    "            return head\n",
    "        # To get the head of reversed Linked List\n",
    "        new_head = self.reverse_list(head)\n",
    "        \n",
    "        prev = None\n",
    "        temp = new_head\n",
    "        while temp:\n",
    "            if temp.data < 9:\n",
    "                temp.data += 1\n",
    "                return self.reverse_list(new_head)\n",
    "            temp.data = 0\n",
    "            prev = temp\n",
    "            temp = temp.next\n",
    "        prev.next = Node(data=1)\n",
    "        return self.reverse_list(new_head)"
   ]
  },
  {
   "cell_type": "markdown",
   "id": "79e786ce-e35f-4c83-96a9-4218265c4f15",
   "metadata": {},
   "source": [
    "- Time complexcity : O(3n)\n",
    "- Space complexcity : O(1)"
   ]
  },
  {
   "cell_type": "code",
   "execution_count": 3,
   "id": "9be3bdbf-823b-4fcc-89ff-28a1d2f6e472",
   "metadata": {},
   "outputs": [],
   "source": [
    "# Using Recursion\n",
    "class Solution:\n",
    "    def addOne(self,head):\n",
    "        def addRec(head):\n",
    "            if head is None: # Base case\n",
    "                return 1\n",
    "            carry = addRec(head.next) # Recursive\n",
    "            sum_ = head.data + carry\n",
    "            head.data = sum_ % 10\n",
    "            carry = sum_ // 10\n",
    "            \n",
    "            return carry\n",
    "        carry = addRec(head)\n",
    "        \n",
    "        if carry:\n",
    "            new_head = Node(data=1)\n",
    "            new_head.next = head\n",
    "            return new_head\n",
    "            \n",
    "        return head"
   ]
  },
  {
   "cell_type": "markdown",
   "id": "fa159dbc-7f7a-4eaf-b2ae-cc8bebfb41f6",
   "metadata": {},
   "source": [
    "- Time complexcity : O(n)\n",
    "- Space complexcity : O(1)"
   ]
  }
 ],
 "metadata": {
  "kernelspec": {
   "display_name": "Python 3 (ipykernel)",
   "language": "python",
   "name": "python3"
  },
  "language_info": {
   "codemirror_mode": {
    "name": "ipython",
    "version": 3
   },
   "file_extension": ".py",
   "mimetype": "text/x-python",
   "name": "python",
   "nbconvert_exporter": "python",
   "pygments_lexer": "ipython3",
   "version": "3.13.5"
  }
 },
 "nbformat": 4,
 "nbformat_minor": 5
}
