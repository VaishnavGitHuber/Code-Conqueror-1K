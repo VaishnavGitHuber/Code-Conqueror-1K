{
 "cells": [
  {
   "cell_type": "markdown",
   "id": "dbaf0932-1883-4dc4-a107-ce92bbb0b834",
   "metadata": {},
   "source": [
    "### Author : Vaishnav Krishna P\n",
    "vyshnavkrishnap2020@gmail.com"
   ]
  },
  {
   "cell_type": "markdown",
   "id": "f5e6f85a-5b28-4e1f-a941-7c624c80a394",
   "metadata": {},
   "source": [
    "### 1 Merge Sorted Array \n",
    "- https://leetcode.com/problems/merge-two-sorted-lists/description/?envType=problem-list-v2&envId=linked-list"
   ]
  },
  {
   "cell_type": "markdown",
   "id": "d6892c31-18df-4ff5-9cb8-8e7ff24668e3",
   "metadata": {},
   "source": [
    "- You are given the heads of two sorted linked lists list1 and list2.\n",
    "\n",
    "Merge the two lists into one sorted list. The list should be made by splicing together the nodes of the first two lists.\n",
    "\n",
    "Return the head of the merged linked list.\n",
    "\n",
    "##### Example 1\n",
    "![](IMAGES/merge_ex1.jpg)\n",
    "- Input: list1 = [1,2,4], list2 = [1,3,4]\n",
    "- Output: [1,1,2,3,4,4]"
   ]
  },
  {
   "cell_type": "code",
   "execution_count": 5,
   "id": "4d532c34-e85f-4977-9d01-b7fcadb11a1a",
   "metadata": {},
   "outputs": [],
   "source": [
    "class ListNode():\n",
    "    def __init__(self, val=0, next_node=None):\n",
    "        self.val = val\n",
    "        self.next_node = None"
   ]
  },
  {
   "cell_type": "code",
   "execution_count": 9,
   "id": "0cd5356c-37df-476b-8a51-3fc889426808",
   "metadata": {},
   "outputs": [],
   "source": [
    "# Merge sort -> using dummy node technique\n",
    "def merge_sorted(list1, list2):\n",
    "    temp1 = list1\n",
    "    temp2 = list2\n",
    "    dummy_node = ListNode(val=-1)\n",
    "    temp = dummy_node\n",
    "\n",
    "    # Till the bothe temp1 & temp2 exist\n",
    "    while temp1 and temp2:\n",
    "        if temp1.val <= temp2.val:\n",
    "            temp.next = ListNode(val=temp1.val)\n",
    "            temp = temp.next \n",
    "            temp1 = temp1.next\n",
    "        else:\n",
    "            temp.next = ListNode(val=temp2.val)\n",
    "            temp = temp.next \n",
    "            temp2 = temp2.next\n",
    "    # if one the list is still not empty \n",
    "    if temp1:\n",
    "        while temp1:\n",
    "            temp.next = ListNode(val=temp1.val)\n",
    "            temp = temp.next \n",
    "            temp1 = temp1.next\n",
    "    elif temp2:\n",
    "        while temp2:\n",
    "            temp.next = ListNode(val=temp2.val)\n",
    "            temp = temp.next \n",
    "            temp2 = temp2.next\n",
    "    return dummy_node.next"
   ]
  },
  {
   "cell_type": "markdown",
   "id": "58ecd403-373f-4f78-9e2e-8b685da38bb6",
   "metadata": {},
   "source": [
    "- Time complexcity : O(m+n)\n",
    "- Space complexcity : O(m+n)\n",
    "- where m,n are length of list1, list2 respectively."
   ]
  },
  {
   "cell_type": "markdown",
   "id": "5cbdd9e7-9336-442c-8107-7bb97d991797",
   "metadata": {},
   "source": [
    "### 2 Remove Duplicates from the sorted list \n",
    "- https://leetcode.com/problems/remove-duplicates-from-sorted-list/submissions/1750752426/?envType=problem-list-v2&envId=linked-list"
   ]
  },
  {
   "cell_type": "markdown",
   "id": "ae444085-df60-4f56-baaf-11423990b330",
   "metadata": {},
   "source": [
    "- Given the head of a sorted linked list, delete all duplicates such that each element appears only once. Return the linked list sorted as well.\n",
    "![](IMAGES/list1.jpg)\n",
    "- Input: head = [1,1,2]\n",
    "- Output: [1,2]"
   ]
  },
  {
   "cell_type": "code",
   "execution_count": 15,
   "id": "3af6bc0c-7022-40ac-a9a1-f819ac619583",
   "metadata": {},
   "outputs": [],
   "source": [
    "def remove_duplicates(head):\n",
    "    dummy_node = ListNode(val='dummy')\n",
    "    dummy_temp = dummy_node\n",
    "    temp = head \n",
    "\n",
    "    while temp:\n",
    "        if dummy_temp.val != temp.val:\n",
    "            dummy_temp.next = ListNode(val=temp.val)\n",
    "            dummy_temp = dummy_temp.next \n",
    "        temp = temp.next \n",
    "    return dummy_node.next"
   ]
  },
  {
   "cell_type": "markdown",
   "id": "32ed4088-4b9e-4117-bea4-1a5179c05fa9",
   "metadata": {},
   "source": [
    "- Time commplexcity : O(n)\n",
    "- Space complexcity : O(n)"
   ]
  },
  {
   "cell_type": "markdown",
   "id": "a67dc168-36d7-42a9-8489-2251c5380905",
   "metadata": {},
   "source": [
    "### 3 LINKED LIST CYCLE \n",
    "- https://leetcode.com/problems/linked-list-cycle/description/?envType=problem-list-v2&envId=linked-list"
   ]
  },
  {
   "cell_type": "markdown",
   "id": "f442be79-1106-4529-bdd2-d04814e6e581",
   "metadata": {},
   "source": [
    "- Given head, the head of a linked list, determine if the linked list has a cycle in it.\n",
    "\n",
    "There is a cycle in a linked list if there is some node in the list that can be reached again by continuously following the next pointer. Internally, pos is used to denote the index of the node that tail's next pointer is connected to. Note that pos is not passed as a parameter.\n",
    "\n",
    "Return true if there is a cycle in the linked list. Otherwise, return false.\n",
    "##### Example 01\n",
    "![](IMAGES/circularlinkedlist.png)\n",
    "- Input: head = [3,2,0,-4], pos = 1\n",
    "- Output: true\n",
    "- Explanation: There is a cycle in the linked list, where the tail connects to the 1st node (0-indexed)."
   ]
  },
  {
   "cell_type": "code",
   "execution_count": 8,
   "id": "c7d655a6-a167-4457-a0c0-b3a633afce40",
   "metadata": {},
   "outputs": [],
   "source": [
    "def hasCycle(head):\n",
    "        temp = head \n",
    "        list_reference = set()\n",
    "\n",
    "        while temp:\n",
    "            if temp in list_reference:\n",
    "                return True\n",
    "\n",
    "            list_reference.add(temp)\n",
    "            temp = temp.next\n",
    "        return False"
   ]
  },
  {
   "cell_type": "markdown",
   "id": "5eb61894-98ae-4534-a6ef-2ebb0250e9b4",
   "metadata": {},
   "source": [
    "- Time complexcity : O(n)\n",
    "- Space Complexcity : O(n)"
   ]
  },
  {
   "cell_type": "markdown",
   "id": "ea326923-7818-4277-9496-32a5d22d4f9e",
   "metadata": {},
   "source": [
    "### 4 REMOVE LINKED LIST ELEMENTS\n",
    "- https://leetcode.com/problems/remove-linked-list-elements/description/?envType=problem-list-v2&envId=linked-list"
   ]
  },
  {
   "cell_type": "markdown",
   "id": "56c811d7-b40a-49ac-b16f-fc30b88b3ca0",
   "metadata": {},
   "source": [
    "- Given the head of a linked list and an integer val, remove all the nodes of the linked list that has Node.val == val, and return the new head.\n",
    "##### Example 1:\n",
    "![](IMAGES/removelinked-list.jpg)\n",
    "- Input: head = [1,2,6,3,4,5,6], val = 6\n",
    "- Output: [1,2,3,4,5]"
   ]
  },
  {
   "cell_type": "code",
   "execution_count": 16,
   "id": "02cf7acc-ef1d-4e61-8deb-f8a7d858f899",
   "metadata": {},
   "outputs": [],
   "source": [
    "def removeElements(head, val):\n",
    "        # Creating the dummy nodes \n",
    "        dummy_node = ListNode(val='dummy')\n",
    "        dummy_temp = dummy_node\n",
    "        temp = head\n",
    "\n",
    "        # Iterating throught the List \n",
    "        while temp:\n",
    "            if temp.val != val:\n",
    "                dummy_temp.next = ListNode(val=temp.val)\n",
    "                dummy_temp = dummy_temp.next\n",
    "            temp = temp.next \n",
    "        return dummy_node.next"
   ]
  },
  {
   "cell_type": "markdown",
   "id": "bab31863-6f3f-430d-96ea-0da963f675f4",
   "metadata": {},
   "source": [
    "- Time Complexcity : O(n)\n",
    "- Space Complexcity : O(n)"
   ]
  },
  {
   "cell_type": "markdown",
   "id": "90a84500-b149-47cb-ba2f-4287adacecb2",
   "metadata": {},
   "source": [
    "### 5 REVERSE LINKED LIST \n",
    "- https://leetcode.com/problems/reverse-linked-list/description/?envType=problem-list-v2&envId=linked-list"
   ]
  },
  {
   "cell_type": "markdown",
   "id": "dcec6fff-f4ba-435a-ab41-d96df780c42b",
   "metadata": {},
   "source": [
    "- Given the head of a singly linked list, reverse the list, and return the reversed list.\n",
    "##### Example 1:\n",
    "![](IMAGES/rev1ex1.jpg)\n",
    "- Input: head = [1,2,3,4,5]\n",
    "- Output: [5,4,3,2,1]"
   ]
  },
  {
   "cell_type": "code",
   "execution_count": 21,
   "id": "8a70bf0d-cc01-4582-a779-af19991125e8",
   "metadata": {},
   "outputs": [],
   "source": [
    "def reverseList(head):\n",
    "        # stack datastructure to store the data \n",
    "        stack_val = []\n",
    "        temp = head\n",
    "\n",
    "        while temp:\n",
    "            stack_val.append(temp.val) # pushing to the stack\n",
    "            temp = temp.next \n",
    "        \n",
    "        # dummy node technique\n",
    "        dummy_node = ListNode(val='dummy')\n",
    "        dummy_temp = dummy_node \n",
    "\n",
    "        while stack_val:\n",
    "            dummy_temp.next = ListNode(val=stack_val.pop())\n",
    "            dummy_temp = dummy_temp.next\n",
    "\n",
    "        return dummy_node.next"
   ]
  }
 ],
 "metadata": {
  "kernelspec": {
   "display_name": "Python [conda env:anaconda3] *",
   "language": "python",
   "name": "conda-env-anaconda3-py"
  },
  "language_info": {
   "codemirror_mode": {
    "name": "ipython",
    "version": 3
   },
   "file_extension": ".py",
   "mimetype": "text/x-python",
   "name": "python",
   "nbconvert_exporter": "python",
   "pygments_lexer": "ipython3",
   "version": "3.12.7"
  }
 },
 "nbformat": 4,
 "nbformat_minor": 5
}
