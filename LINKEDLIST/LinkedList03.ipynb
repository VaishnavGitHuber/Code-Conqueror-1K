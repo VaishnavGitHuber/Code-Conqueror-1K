{
 "cells": [
  {
   "cell_type": "markdown",
   "id": "dd287bae-5709-4481-b677-8080c93f4eeb",
   "metadata": {},
   "source": [
    "### Author : Vaishnav Krishna P\n",
    "vyshnavkrishnap2020@gmail.com"
   ]
  },
  {
   "cell_type": "markdown",
   "id": "e5a82c7f-4bc5-46f7-9ac5-eb7e2bb1a081",
   "metadata": {},
   "source": [
    "### 6 PALINDROME LINKED LIST\n",
    "- https://leetcode.com/problems/palindrome-linked-list/description/?envType=problem-list-v2&envId=linked-list"
   ]
  },
  {
   "cell_type": "markdown",
   "id": "7a3a57d6-0dc1-4bc3-b2ba-8f84086a1a36",
   "metadata": {},
   "source": [
    "Example 1:\n",
    "![](IMAGES/pal1linked-list.jpg)\n",
    "Input: head = [1,2,2,1]\n",
    "Output: true"
   ]
  },
  {
   "cell_type": "code",
   "execution_count": 4,
   "id": "30c3c91b-d523-4d76-906f-ef4e6d2d51cf",
   "metadata": {},
   "outputs": [],
   "source": [
    "def isPalindrome(head):\n",
    "        str_number = \"\"\n",
    "        temp = head \n",
    "    \n",
    "        while temp:\n",
    "            str_number += str(temp.val)\n",
    "            temp = temp.next\n",
    "        return str_number == str_number[::-1]"
   ]
  },
  {
   "cell_type": "markdown",
   "id": "f8eaf1b0-ff57-4112-a5f7-44e632ca5476",
   "metadata": {},
   "source": [
    "### 7 MIDDLE OF THE LINKED LIST\n",
    "- https://leetcode.com/problems/middle-of-the-linked-list/description/?envType=problem-list-v2&envId=linked-list"
   ]
  },
  {
   "cell_type": "markdown",
   "id": "08743cc6-fdb6-4a24-8446-c3e4caa3b832",
   "metadata": {},
   "source": [
    "- Given the head of a singly linked list, return the middle node of the linked list.\n",
    "\n",
    "If there are two middle nodes, return the second middle node.\n",
    "\n",
    "##### Example 1:\n",
    "![](IMAGES/lc-midlist1.jpg)\n",
    "- Input: head = [1,2,3,4,5]\n",
    "- Output: [3,4,5]\n",
    "- Explanation: The middle node of the list is node 3."
   ]
  },
  {
   "cell_type": "code",
   "execution_count": 9,
   "id": "d0fb20c2-70e7-4b4c-a068-bd15c4998453",
   "metadata": {},
   "outputs": [],
   "source": [
    "def middleNode(head):\n",
    "        # Find the count to reach the middle \n",
    "        count = 0\n",
    "        temp = head \n",
    "\n",
    "        while temp:\n",
    "             count += 1\n",
    "             temp = temp.next\n",
    "        \n",
    "        # Iterate till the middle of the List \n",
    "        temp = head\n",
    "        for i in range((count//2+1)-1):\n",
    "            temp = temp.next\n",
    "        return temp"
   ]
  },
  {
   "cell_type": "markdown",
   "id": "e3260680-c191-4c54-a9e8-ac43ae615915",
   "metadata": {},
   "source": [
    "### 8 ADD TWO NUMBERS\n",
    "- https://leetcode.com/problems/add-two-numbers/description/"
   ]
  },
  {
   "cell_type": "markdown",
   "id": "c66e5313-0c86-4e0b-90ce-cd1bdc7b4474",
   "metadata": {},
   "source": [
    "- You are given two non-empty linked lists representing two non-negative integers. The digits are stored in reverse order, and each of their nodes contains a single digit. Add the two numbers and return the sum as a linked list.\n",
    "\n",
    "- You may assume the two numbers do not contain any leading zero, except the number 0 itself."
   ]
  },
  {
   "cell_type": "markdown",
   "id": "a9717a60-24f0-4425-8e35-3f6c779d7ac7",
   "metadata": {},
   "source": [
    "##### EXAMPLE 01\n",
    "![](IMAGES/addtwonumber1.jpg)\n",
    "- Input: l1 = [2,4,3], l2 = [5,6,4]\n",
    "- Output: [7,0,8]\n",
    "- Explanation: 342 + 465 = 807."
   ]
  },
  {
   "cell_type": "code",
   "execution_count": 7,
   "id": "09db94cb-01bd-4211-9a9f-56b74f2fc9a0",
   "metadata": {},
   "outputs": [],
   "source": [
    "def addTwoNumbers(l1, l2):\n",
    "        dummy_node = ListNode(val='dummy')\n",
    "        temp1 = l1\n",
    "        temp2 = l2\n",
    "        temp = dummy_node\n",
    "        carry = 0\n",
    "\n",
    "        while temp1 or temp2:\n",
    "            sum_ = 0\n",
    "            if temp1:\n",
    "                sum_ += temp1.val \n",
    "                temp1 = temp1.next\n",
    "            if temp2:\n",
    "                sum_ += temp2.val\n",
    "                temp2 = temp2.next\n",
    "            sum_ += carry\n",
    "            temp.next = ListNode(val = sum_%10)\n",
    "            carry = sum_ // 10\n",
    "            temp = temp.next \n",
    "        if carry:\n",
    "            temp.next = ListNode(val = carry)\n",
    "        return dummy_node.next"
   ]
  },
  {
   "cell_type": "markdown",
   "id": "025fd9bd-1f35-4b69-8c03-82dbed1715c9",
   "metadata": {},
   "source": [
    "- Time complexcity : O(max(m,n))\n",
    "- Space complexcity : O(max(m,n))"
   ]
  },
  {
   "cell_type": "markdown",
   "id": "6c1dddf7-fa42-4aeb-9b55-3e27903e7f8f",
   "metadata": {},
   "source": [
    "### ODD AND EVEN LINKED LIST\n",
    "- https://leetcode.com/problems/odd-even-linked-list/"
   ]
  },
  {
   "cell_type": "markdown",
   "id": "6c9b840f-7179-45d4-8e31-106ff6299c5a",
   "metadata": {},
   "source": [
    "- Given the head of a singly linked list, group all the nodes with odd indices together followed by the nodes with even indices, and return the reordered list.\n",
    "\n",
    "- The first node is considered odd, and the second node is even, and so on.\n",
    "\n",
    "- Note that the relative order inside both the even and odd groups should remain as it was in the input.\n",
    "\n",
    "- You must solve the problem in O(1) extra space complexity and O(n) time complexity."
   ]
  },
  {
   "cell_type": "markdown",
   "id": "e3e8fa3c-15c7-4b23-a539-6e7866e9e480",
   "metadata": {},
   "source": [
    "![](IMAGES/oddeven-linked-list.jpg)\n",
    "- Input: head = [1,2,3,4,5]\n",
    "- Output: [1,3,5,2,4]"
   ]
  },
  {
   "cell_type": "code",
   "execution_count": 18,
   "id": "3353cb61-dbbc-4ea1-9e85-5d1ec021af9d",
   "metadata": {},
   "outputs": [],
   "source": [
    "### Using data replacement technique\n",
    "def oddEvenList(head):\n",
    "        # Naive solution through the data replacement \n",
    "        if head is None or head.next is None:\n",
    "            return head\n",
    "\n",
    "        elements = [] # S O(n)\n",
    "        temp = head\n",
    "\n",
    "        while temp and temp.next: # T O(n/2)\n",
    "            elements.append(temp.val)\n",
    "            temp = temp.next.next\n",
    "        if temp:\n",
    "            elements.append(temp.val)\n",
    "        \n",
    "        temp = head.next\n",
    "        while temp and temp.next: # T O(n/2)\n",
    "            elements.append(temp.val)\n",
    "            temp = temp.next.next\n",
    "        if temp:\n",
    "            elements.append(temp.val)\n",
    "        \n",
    "        temp = head \n",
    "        i = 0\n",
    "        while temp: # T(n)\n",
    "            temp.val = elements[i]\n",
    "            temp = temp.next\n",
    "            i += 1\n",
    "\n",
    "        return head"
   ]
  },
  {
   "cell_type": "markdown",
   "id": "3aaf3b5f-6579-4d90-ab49-7702950c6702",
   "metadata": {},
   "source": [
    "- Time complexcity: O(2n)\n",
    "- Space complexcity : O(n)"
   ]
  },
  {
   "cell_type": "code",
   "execution_count": 25,
   "id": "f110591a-ab27-464d-bf57-c38e27c3f446",
   "metadata": {},
   "outputs": [],
   "source": [
    "# Changing links \n",
    "def oddEvenList(head):\n",
    "        # Naive solution through the data replacement \n",
    "        if head is None or head.next is None:\n",
    "            return head\n",
    "\n",
    "        odd = head\n",
    "        even = head.next \n",
    "        temp1 = odd \n",
    "        temp2 = even \n",
    "\n",
    "        while temp2 and temp2.next:\n",
    "            temp1.next = temp1.next.next\n",
    "            temp2.next = temp2.next.next\n",
    "\n",
    "            temp1 = temp1.next\n",
    "            temp2 = temp2.next\n",
    "        temp1.next = even \n",
    "\n",
    "        return head"
   ]
  },
  {
   "cell_type": "markdown",
   "id": "c68157d9-3ed9-485d-9d1b-1ea4c98ca5ef",
   "metadata": {},
   "source": [
    "- Time complexcity: O(n)\n",
    "- Space complexcity : O(1)"
   ]
  },
  {
   "cell_type": "markdown",
   "id": "fabc421b-0c5c-4125-948d-226cfff4f31e",
   "metadata": {},
   "source": [
    "### 10 SORT LINKED LIST 0s, 1s,2s\n",
    "- https://www.geeksforgeeks.org/problems/given-a-linked-list-of-0s-1s-and-2s-sort-it/1"
   ]
  },
  {
   "cell_type": "markdown",
   "id": "c773c91d-a861-42ff-9faf-cb3b37121d16",
   "metadata": {},
   "source": [
    "- Given the head of a linked list where nodes can contain values 0s, 1s, and 2s only. Your task is to rearrange the list so that all 0s appear at the beginning, followed by all 1s, and all 2s are placed at the end- "
   ]
  },
  {
   "cell_type": "markdown",
   "id": "fb49f721-84e1-4dcc-96ba-906293753320",
   "metadata": {},
   "source": [
    "##### EXAMPLE 01\n",
    "![](IMAGES/Noof0s1s2s.png)"
   ]
  },
  {
   "cell_type": "code",
   "execution_count": 4,
   "id": "6c3b2dcf-f5b1-4552-abfa-947de7bc9e39",
   "metadata": {},
   "outputs": [],
   "source": [
    "### using the dummy node approach \n",
    "def segregate(self, head):\n",
    "        #code here\n",
    "        temp = head\n",
    "        \n",
    "        count_0 = 0\n",
    "        count_1 = 0\n",
    "        count_2 = 0\n",
    "        \n",
    "        # keep track of no of 0s,1s,2s\n",
    "        while temp: # T O(n)\n",
    "            if temp.data == 0:\n",
    "                count_0 += 1\n",
    "            elif temp.data == 1:\n",
    "                count_1 += 1\n",
    "            else:\n",
    "                count_2 += 1\n",
    "            temp = temp.next\n",
    "            \n",
    "        # Creating a linked list \n",
    "        dummy_node = Node(data='dummy') # S O(n)\n",
    "        temp = head\n",
    "        dummy_temp = dummy_node\n",
    "        \n",
    "        while count_0 > 0: # T O(n)\n",
    "            dummy_temp.next = Node(data=0)\n",
    "            dummy_temp = dummy_temp.next\n",
    "            count_0 -= 1\n",
    "        while count_1 > 0:\n",
    "            dummy_temp.next = Node(data=1)\n",
    "            dummy_temp = dummy_temp.next\n",
    "            count_1 -= 1\n",
    "        while count_2 > 0:\n",
    "            dummy_temp.next = Node(data=2)\n",
    "            dummy_temp = dummy_temp.next\n",
    "            count_2 -= 1\n",
    "            \n",
    "        return dummy_node.next"
   ]
  },
  {
   "cell_type": "markdown",
   "id": "f5e9f466-3a4c-45df-b8da-12dcf0152d79",
   "metadata": {},
   "source": [
    "- Time complexcity : O(2n)\n",
    "- Space complexcity : O(n)"
   ]
  },
  {
   "cell_type": "code",
   "execution_count": 6,
   "id": "5029a1db-8fd8-4694-a9e7-5ff15028f272",
   "metadata": {},
   "outputs": [],
   "source": [
    "# using the data replacement approach \n",
    "def segregate(self, head):\n",
    "        #code here\n",
    "        temp = head\n",
    "        \n",
    "        count_0 = 0\n",
    "        count_1 = 0\n",
    "        count_2 = 0\n",
    "        \n",
    "        # keep track of no of 0s,1s,2s\n",
    "        while temp: # T O(n)\n",
    "            if temp.data == 0:\n",
    "                count_0 += 1\n",
    "            elif temp.data == 1:\n",
    "                count_1 += 1\n",
    "            else:\n",
    "                count_2 += 1\n",
    "            temp = temp.next\n",
    "            \n",
    "        # replacing a linked list \n",
    "        temp = head\n",
    "        \n",
    "        while temp:\n",
    "            if count_0 > 0:\n",
    "                temp.data = 0\n",
    "                count_0 -= 1\n",
    "            elif count_1 > 0:\n",
    "                temp.data = 1\n",
    "                count_1 -= 1\n",
    "            elif count_2 > 0:\n",
    "                temp.data = 2\n",
    "                count_2 -= 1\n",
    "            temp = temp.next \n",
    "            \n",
    "        return head"
   ]
  },
  {
   "cell_type": "markdown",
   "id": "bcc76275-8c6c-46b4-87a3-631a7954a1ee",
   "metadata": {},
   "source": [
    "- Time complexcity : O(2n)\n",
    "- Space complexcity: O(1)"
   ]
  },
  {
   "cell_type": "code",
   "execution_count": 8,
   "id": "7398433d-5734-4c76-b3bc-15935dc4b124",
   "metadata": {},
   "outputs": [],
   "source": [
    "# Linked list segregation approach \n",
    "def segregate(self, head):\n",
    "        # zero node or one node case handling\n",
    "        if head is None or head.next is None:\n",
    "            return head\n",
    "            \n",
    "        # initialising the three dummy nodes \n",
    "        dummy_zero = Node(data='zero')\n",
    "        dummy_one = Node(data='one')\n",
    "        dummy_two = Node(data='two')\n",
    "        temp0 = dummy_zero\n",
    "        temp1 = dummy_one\n",
    "        temp2 = dummy_two\n",
    "        \n",
    "        # traversing through the nodes \n",
    "        temp = head \n",
    "        while temp:\n",
    "            if temp.data == 0:\n",
    "                temp0.next = temp\n",
    "                temp0 = temp0.next\n",
    "            elif temp.data == 1:\n",
    "                temp1.next = temp\n",
    "                temp1 = temp1.next\n",
    "            else:\n",
    "                temp2.next = temp\n",
    "                temp2 = temp2.next\n",
    "            temp = temp.next\n",
    "        \n",
    "        # connecting first LL, 2nd LL and 3rd LL based on condition\n",
    "        if dummy_one.next is not None:\n",
    "            temp0.next = dummy_one.next\n",
    "        else:\n",
    "            temp0.next = dummy_two.next\n",
    "        \n",
    "        temp1.next = dummy_two.next\n",
    "        temp2.next = None\n",
    "        \n",
    "        return dummy_zero.next"
   ]
  },
  {
   "cell_type": "markdown",
   "id": "841d3366-2529-41bd-83b1-b2d462404aec",
   "metadata": {},
   "source": [
    "- Time complexcity : O(n)\n",
    "- Space complexcity: O(1)"
   ]
  }
 ],
 "metadata": {
  "kernelspec": {
   "display_name": "Python [conda env:anaconda3] *",
   "language": "python",
   "name": "conda-env-anaconda3-py"
  },
  "language_info": {
   "codemirror_mode": {
    "name": "ipython",
    "version": 3
   },
   "file_extension": ".py",
   "mimetype": "text/x-python",
   "name": "python",
   "nbconvert_exporter": "python",
   "pygments_lexer": "ipython3",
   "version": "3.12.7"
  }
 },
 "nbformat": 4,
 "nbformat_minor": 5
}
