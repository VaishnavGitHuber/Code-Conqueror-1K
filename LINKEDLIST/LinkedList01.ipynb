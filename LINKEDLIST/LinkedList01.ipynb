{
 "cells": [
  {
   "cell_type": "markdown",
   "id": "2acd8535-92d8-4d40-ba30-617430b86497",
   "metadata": {},
   "source": [
    "### Author : Vaishnav Krishna P\n",
    "#### vyshnavkrishnap2020@gmail.com"
   ]
  },
  {
   "cell_type": "markdown",
   "id": "bd01ba5a-7fd7-436e-a354-f312b7beb08e",
   "metadata": {},
   "source": [
    "### Linked List\n",
    "\n",
    "![](IMAGES/LinkedList.png)\n",
    "- Linked List is a linear datastructure.\n",
    "- It stores the elements in a non contigeous memmory locations.\n",
    "- Can increase or decrease the size of the array.\n",
    "##### Applications \n",
    "- Used to implement Queue, Stack\n",
    "- Always used in browsers"
   ]
  },
  {
   "cell_type": "code",
   "execution_count": 16,
   "id": "4f884de4-f639-4149-88a1-4dc923c9b606",
   "metadata": {},
   "outputs": [],
   "source": [
    "### implementation of Node \n",
    "class Node:\n",
    "    def __init__(self,data):\n",
    "        self.data = data\n",
    "        self.next = None"
   ]
  },
  {
   "cell_type": "code",
   "execution_count": 273,
   "id": "3c558a5c-fe69-4b8d-8aab-a705b7b22eac",
   "metadata": {},
   "outputs": [],
   "source": [
    "class LinkedList:\n",
    "    # Initialising the head of the Linked List \n",
    "    def __init__(self):\n",
    "        self.head = None\n",
    "\n",
    "    # Create a node by inputting the data\n",
    "    def create_node(self):\n",
    "        data = input(\"Enter the data: \")\n",
    "        new_node = Node(data)\n",
    "        return new_node\n",
    "\n",
    "    # Inserting a Node \n",
    "    def insert_end(self):\n",
    "        # create a node at end of the Linked list \n",
    "        new_node = self.create_node()\n",
    "        \n",
    "        if self.head is None:\n",
    "            self.head = new_node\n",
    "        else:\n",
    "            temp = self.head \n",
    "\n",
    "            while temp.next is not None:\n",
    "                temp = temp.next\n",
    "            temp.next = new_node\n",
    "\n",
    "    # Inserting at first of the Linked List \n",
    "    def insert_first(self):\n",
    "        # create a node \n",
    "        new_node = self.create_node()\n",
    "\n",
    "        if self.head is None:\n",
    "            self.head = new_node\n",
    "        else:\n",
    "            new_node.next = self.head\n",
    "            self.head = new_node\n",
    "\n",
    "    # Inserting at a specific position \n",
    "    def insert_position(self):\n",
    "        position = int(input(\"Enter the position: \"))\n",
    "        # if position is 0 -> add first\n",
    "        if position == 0:\n",
    "            self.insert_first()\n",
    "            return\n",
    "        # create a node \n",
    "        new_node = self.create_node() \n",
    "        temp = self.head \n",
    "        # condition to avoid null-> next\n",
    "        if position > self.length():\n",
    "            print(\"Enter a valid index position!...\")\n",
    "            return\n",
    "\n",
    "        for i in range(position-2):\n",
    "            temp = temp.next \n",
    "        new_node.next = temp.next\n",
    "        temp.next = new_node\n",
    "\n",
    "    # Delete from the first \n",
    "    def delete_first(self):\n",
    "        if self.head is None:\n",
    "            print(\"Linked List is empty!...\")\n",
    "            return\n",
    "        self.head = self.head.next\n",
    "\n",
    "    # Delete from the end \n",
    "    def delete_end(self):\n",
    "        # if Linked List is empty\n",
    "        if self.head is None:\n",
    "            print(\"Linked List is empty!...\")\n",
    "            return\n",
    "        # if temp.next -> None \n",
    "        if self.head.next is None:\n",
    "            self.delete_first()\n",
    "            return\n",
    "        \n",
    "        temp = self.head\n",
    "        while temp.next.next is not None:\n",
    "            temp = temp.next\n",
    "        temp.next = None\n",
    "\n",
    "    # Delete based on position\n",
    "    def delete_position(self):\n",
    "        position = int(input(\"Enter the position!...\"))\n",
    "        # handling the extreme conditions \n",
    "        if self.head is None:\n",
    "            print(\"Linked List is empty!...\")\n",
    "            return\n",
    "        if self.head.next is None and position == 0:\n",
    "            self.delete_first()\n",
    "            return\n",
    "        # To handle wrong index \n",
    "        if position > self.length():\n",
    "            print(\"Enter a valid index!...\")\n",
    "            return\n",
    "\n",
    "        temp = self.head\n",
    "        for i in range(position-2):\n",
    "            temp = temp.next\n",
    "        temp.next = temp.next.next\n",
    "        \n",
    "    # Length of the Linked List \n",
    "    def length(self):\n",
    "        count = 0\n",
    "        temp = self.head\n",
    "\n",
    "        while temp is not None:\n",
    "            count += 1\n",
    "            temp = temp.next \n",
    "        return count\n",
    "\n",
    "    # Display the Linked List \n",
    "    def display(self):\n",
    "        if self.head:\n",
    "            temp = self.head\n",
    "            while(temp):\n",
    "                print(temp.data, end=\" \")\n",
    "                temp = temp.next\n",
    "            print()\n",
    "        else:\n",
    "            print(\"Linked List is empty!...\")\n",
    "\n",
    "    # Search element \n",
    "    def search_element(self):\n",
    "        search_key = input(\"Enter the data to be searched: \")\n",
    "        if self.head is None:\n",
    "            print(\"Operation cannot be done, Linked List is empty...\")\n",
    "            return\n",
    "        temp = self.head\n",
    "        while temp:\n",
    "            if temp.data == search_key:\n",
    "                print(\"data is found in Linked List\")\n",
    "                return\n",
    "            temp = temp.next\n",
    "        print(\"Search key is not found!...\")            "
   ]
  },
  {
   "cell_type": "code",
   "execution_count": 275,
   "id": "5553e2b9-9392-48aa-8a33-6332c43ec174",
   "metadata": {},
   "outputs": [
    {
     "name": "stdin",
     "output_type": "stream",
     "text": [
      "Enter the data:  10\n",
      "Enter the data:  20\n",
      "Enter the data:  30\n",
      "Enter the data:  40\n",
      "Enter the data:  50\n",
      "Enter the data:  60\n"
     ]
    },
    {
     "name": "stdout",
     "output_type": "stream",
     "text": [
      "10 20 30 40 50 60 \n"
     ]
    }
   ],
   "source": [
    "L1 = LinkedList()\n",
    "L1.insert_end()\n",
    "L1.insert_end()\n",
    "L1.insert_end()\n",
    "L1.insert_end()\n",
    "L1.insert_end()\n",
    "L1.insert_end()\n",
    "L1.display()"
   ]
  },
  {
   "cell_type": "code",
   "execution_count": 277,
   "id": "41672fc9-3b45-4bbf-9c80-95c97da7fdfe",
   "metadata": {},
   "outputs": [
    {
     "data": {
      "text/plain": [
       "6"
      ]
     },
     "execution_count": 277,
     "metadata": {},
     "output_type": "execute_result"
    }
   ],
   "source": [
    "L1.length()"
   ]
  },
  {
   "cell_type": "code",
   "execution_count": 279,
   "id": "9b16c47e-df63-4bae-b5e1-4b9ce1ef9dfa",
   "metadata": {},
   "outputs": [
    {
     "name": "stdout",
     "output_type": "stream",
     "text": [
      "10 20 30 40 50 \n"
     ]
    }
   ],
   "source": [
    "L1.delete_end()\n",
    "L1.display()"
   ]
  },
  {
   "cell_type": "code",
   "execution_count": 281,
   "id": "4ef9f7fe-bf94-4910-8bc2-1f21020eff2f",
   "metadata": {},
   "outputs": [
    {
     "name": "stdout",
     "output_type": "stream",
     "text": [
      "20 30 40 50 \n"
     ]
    }
   ],
   "source": [
    "L1.delete_first()\n",
    "L1.display()"
   ]
  },
  {
   "cell_type": "code",
   "execution_count": 283,
   "id": "ec9034e2-84c5-4740-9ef1-908860337b66",
   "metadata": {},
   "outputs": [
    {
     "name": "stdin",
     "output_type": "stream",
     "text": [
      "Enter the position!... 2\n"
     ]
    },
    {
     "name": "stdout",
     "output_type": "stream",
     "text": [
      "20 40 50 \n"
     ]
    }
   ],
   "source": [
    "L1.delete_position()\n",
    "L1.display()"
   ]
  },
  {
   "cell_type": "code",
   "execution_count": 287,
   "id": "4e8206d5-0859-4738-b3ad-6a2fbddc475e",
   "metadata": {},
   "outputs": [
    {
     "name": "stdin",
     "output_type": "stream",
     "text": [
      "Enter the data to be searched:  40\n"
     ]
    },
    {
     "name": "stdout",
     "output_type": "stream",
     "text": [
      "data is found in Linked List\n"
     ]
    }
   ],
   "source": [
    "L1.search_element()"
   ]
  }
 ],
 "metadata": {
  "kernelspec": {
   "display_name": "Python [conda env:anaconda3] *",
   "language": "python",
   "name": "conda-env-anaconda3-py"
  },
  "language_info": {
   "codemirror_mode": {
    "name": "ipython",
    "version": 3
   },
   "file_extension": ".py",
   "mimetype": "text/x-python",
   "name": "python",
   "nbconvert_exporter": "python",
   "pygments_lexer": "ipython3",
   "version": "3.12.7"
  }
 },
 "nbformat": 4,
 "nbformat_minor": 5
}
